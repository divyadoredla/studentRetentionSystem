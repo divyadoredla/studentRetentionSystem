{
  "cells": [
    {
      "cell_type": "markdown",
      "id": "f98d38c2-15ef-4509-810f-731922bee171",
      "metadata": {
        "id": "f98d38c2-15ef-4509-810f-731922bee171"
      },
      "source": [
        "# **Project Title:**\n",
        "# **Edu Dropout Predictor - Student Retention System using ML & DL**"
      ]
    },
    {
      "cell_type": "markdown",
      "id": "2444da4c-ea38-48a2-8772-07651bf422b0",
      "metadata": {
        "id": "2444da4c-ea38-48a2-8772-07651bf422b0"
      },
      "source": [
        "## **1. Importing Project Dependencies**"
      ]
    },
    {
      "cell_type": "code",
      "execution_count": null,
      "id": "19c06b35-4e86-4859-9ac3-cee1f7fbfe80",
      "metadata": {
        "id": "19c06b35-4e86-4859-9ac3-cee1f7fbfe80",
        "outputId": "efd18ae9-574c-479f-a1d8-62b055f61398"
      },
      "outputs": [
        {
          "name": "stdout",
          "output_type": "stream",
          "text": [
            "All Libraries Imported Successfully.......\n"
          ]
        }
      ],
      "source": [
        "\n",
        "import numpy as np\n",
        "import pandas as pd\n",
        "import matplotlib.pyplot as plt\n",
        "import seaborn as sns\n",
        "\n",
        "from sklearn.model_selection import train_test_split, GridSearchCV\n",
        "from sklearn.preprocessing import StandardScaler, LabelEncoder\n",
        "from sklearn.ensemble import RandomForestClassifier\n",
        "from sklearn.metrics import classification_report, confusion_matrix, accuracy_score\n",
        "\n",
        "import tensorflow as tf\n",
        "from tensorflow.keras.models import Sequential\n",
        "from tensorflow.keras.layers import Dense, Dropout\n",
        "from tensorflow.keras.callbacks import EarlyStopping\n",
        "import warnings\n",
        "warnings.filterwarnings('ignore')\n",
        "\n",
        "print(\"All Libraries Imported Successfully.......\")"
      ]
    },
    {
      "cell_type": "markdown",
      "id": "2e0f9254-12ac-435d-bb55-7cf555e4a8ab",
      "metadata": {
        "id": "2e0f9254-12ac-435d-bb55-7cf555e4a8ab"
      },
      "source": [
        "## **2. Loading The Dataset**"
      ]
    },
    {
      "cell_type": "code",
      "execution_count": null,
      "id": "601e77ff-3293-4a37-9d52-6ae35259f4f1",
      "metadata": {
        "id": "601e77ff-3293-4a37-9d52-6ae35259f4f1",
        "outputId": "eb22bf34-dbe6-4979-fb21-f449ebe6ec30"
      },
      "outputs": [
        {
          "name": "stdout",
          "output_type": "stream",
          "text": [
            "Dataset Loaded Successfully......\n"
          ]
        }
      ],
      "source": [
        "df = pd.read_csv(\"C:/Users/syeda/Downloads/student's dropout dataset (1).csv\")\n",
        "print(\"Dataset Loaded Successfully......\")"
      ]
    },
    {
      "cell_type": "markdown",
      "id": "5c981021-bdf9-4f0a-8e1f-cdd514676793",
      "metadata": {
        "id": "5c981021-bdf9-4f0a-8e1f-cdd514676793"
      },
      "source": [
        "## **3. Exploring The Data**"
      ]
    },
    {
      "cell_type": "code",
      "execution_count": null,
      "id": "c25b3ca5-f0bd-44d3-a5b4-6c0b961d9f5b",
      "metadata": {
        "id": "c25b3ca5-f0bd-44d3-a5b4-6c0b961d9f5b",
        "outputId": "ca0f6224-1219-4a8c-a8ae-5eac6b196ae6"
      },
      "outputs": [
        {
          "data": {
            "text/html": [
              "<div>\n",
              "<style scoped>\n",
              "    .dataframe tbody tr th:only-of-type {\n",
              "        vertical-align: middle;\n",
              "    }\n",
              "\n",
              "    .dataframe tbody tr th {\n",
              "        vertical-align: top;\n",
              "    }\n",
              "\n",
              "    .dataframe thead th {\n",
              "        text-align: right;\n",
              "    }\n",
              "</style>\n",
              "<table border=\"1\" class=\"dataframe\">\n",
              "  <thead>\n",
              "    <tr style=\"text-align: right;\">\n",
              "      <th></th>\n",
              "      <th>Marital status</th>\n",
              "      <th>Application mode</th>\n",
              "      <th>Application order</th>\n",
              "      <th>Course</th>\n",
              "      <th>Daytime/evening attendance</th>\n",
              "      <th>Previous qualification</th>\n",
              "      <th>Nacionality</th>\n",
              "      <th>Mother's qualification</th>\n",
              "      <th>Father's qualification</th>\n",
              "      <th>Mother's occupation</th>\n",
              "      <th>...</th>\n",
              "      <th>Curricular units 2nd sem (credited)</th>\n",
              "      <th>Curricular units 2nd sem (enrolled)</th>\n",
              "      <th>Curricular units 2nd sem (evaluations)</th>\n",
              "      <th>Curricular units 2nd sem (approved)</th>\n",
              "      <th>Curricular units 2nd sem (grade)</th>\n",
              "      <th>Curricular units 2nd sem (without evaluations)</th>\n",
              "      <th>Unemployment rate</th>\n",
              "      <th>Inflation rate</th>\n",
              "      <th>GDP</th>\n",
              "      <th>Target</th>\n",
              "    </tr>\n",
              "  </thead>\n",
              "  <tbody>\n",
              "    <tr>\n",
              "      <th>0</th>\n",
              "      <td>1</td>\n",
              "      <td>8</td>\n",
              "      <td>5</td>\n",
              "      <td>2</td>\n",
              "      <td>1</td>\n",
              "      <td>1</td>\n",
              "      <td>1</td>\n",
              "      <td>13</td>\n",
              "      <td>10</td>\n",
              "      <td>6</td>\n",
              "      <td>...</td>\n",
              "      <td>0</td>\n",
              "      <td>0</td>\n",
              "      <td>0</td>\n",
              "      <td>0</td>\n",
              "      <td>0.000000</td>\n",
              "      <td>0</td>\n",
              "      <td>10.8</td>\n",
              "      <td>1.4</td>\n",
              "      <td>1.74</td>\n",
              "      <td>Dropout</td>\n",
              "    </tr>\n",
              "    <tr>\n",
              "      <th>1</th>\n",
              "      <td>1</td>\n",
              "      <td>6</td>\n",
              "      <td>1</td>\n",
              "      <td>11</td>\n",
              "      <td>1</td>\n",
              "      <td>1</td>\n",
              "      <td>1</td>\n",
              "      <td>1</td>\n",
              "      <td>3</td>\n",
              "      <td>4</td>\n",
              "      <td>...</td>\n",
              "      <td>0</td>\n",
              "      <td>6</td>\n",
              "      <td>6</td>\n",
              "      <td>6</td>\n",
              "      <td>13.666667</td>\n",
              "      <td>0</td>\n",
              "      <td>13.9</td>\n",
              "      <td>-0.3</td>\n",
              "      <td>0.79</td>\n",
              "      <td>Graduate</td>\n",
              "    </tr>\n",
              "    <tr>\n",
              "      <th>2</th>\n",
              "      <td>1</td>\n",
              "      <td>1</td>\n",
              "      <td>5</td>\n",
              "      <td>5</td>\n",
              "      <td>1</td>\n",
              "      <td>1</td>\n",
              "      <td>1</td>\n",
              "      <td>22</td>\n",
              "      <td>27</td>\n",
              "      <td>10</td>\n",
              "      <td>...</td>\n",
              "      <td>0</td>\n",
              "      <td>6</td>\n",
              "      <td>0</td>\n",
              "      <td>0</td>\n",
              "      <td>0.000000</td>\n",
              "      <td>0</td>\n",
              "      <td>10.8</td>\n",
              "      <td>1.4</td>\n",
              "      <td>1.74</td>\n",
              "      <td>Dropout</td>\n",
              "    </tr>\n",
              "    <tr>\n",
              "      <th>3</th>\n",
              "      <td>1</td>\n",
              "      <td>8</td>\n",
              "      <td>2</td>\n",
              "      <td>15</td>\n",
              "      <td>1</td>\n",
              "      <td>1</td>\n",
              "      <td>1</td>\n",
              "      <td>23</td>\n",
              "      <td>27</td>\n",
              "      <td>6</td>\n",
              "      <td>...</td>\n",
              "      <td>0</td>\n",
              "      <td>6</td>\n",
              "      <td>10</td>\n",
              "      <td>5</td>\n",
              "      <td>12.400000</td>\n",
              "      <td>0</td>\n",
              "      <td>9.4</td>\n",
              "      <td>-0.8</td>\n",
              "      <td>-3.12</td>\n",
              "      <td>Graduate</td>\n",
              "    </tr>\n",
              "    <tr>\n",
              "      <th>4</th>\n",
              "      <td>2</td>\n",
              "      <td>12</td>\n",
              "      <td>1</td>\n",
              "      <td>3</td>\n",
              "      <td>0</td>\n",
              "      <td>1</td>\n",
              "      <td>1</td>\n",
              "      <td>22</td>\n",
              "      <td>28</td>\n",
              "      <td>10</td>\n",
              "      <td>...</td>\n",
              "      <td>0</td>\n",
              "      <td>6</td>\n",
              "      <td>6</td>\n",
              "      <td>6</td>\n",
              "      <td>13.000000</td>\n",
              "      <td>0</td>\n",
              "      <td>13.9</td>\n",
              "      <td>-0.3</td>\n",
              "      <td>0.79</td>\n",
              "      <td>Graduate</td>\n",
              "    </tr>\n",
              "    <tr>\n",
              "      <th>5</th>\n",
              "      <td>2</td>\n",
              "      <td>12</td>\n",
              "      <td>1</td>\n",
              "      <td>17</td>\n",
              "      <td>0</td>\n",
              "      <td>12</td>\n",
              "      <td>1</td>\n",
              "      <td>22</td>\n",
              "      <td>27</td>\n",
              "      <td>10</td>\n",
              "      <td>...</td>\n",
              "      <td>0</td>\n",
              "      <td>5</td>\n",
              "      <td>17</td>\n",
              "      <td>5</td>\n",
              "      <td>11.500000</td>\n",
              "      <td>5</td>\n",
              "      <td>16.2</td>\n",
              "      <td>0.3</td>\n",
              "      <td>-0.92</td>\n",
              "      <td>Graduate</td>\n",
              "    </tr>\n",
              "    <tr>\n",
              "      <th>6</th>\n",
              "      <td>1</td>\n",
              "      <td>1</td>\n",
              "      <td>1</td>\n",
              "      <td>12</td>\n",
              "      <td>1</td>\n",
              "      <td>1</td>\n",
              "      <td>1</td>\n",
              "      <td>13</td>\n",
              "      <td>28</td>\n",
              "      <td>8</td>\n",
              "      <td>...</td>\n",
              "      <td>0</td>\n",
              "      <td>8</td>\n",
              "      <td>8</td>\n",
              "      <td>8</td>\n",
              "      <td>14.345000</td>\n",
              "      <td>0</td>\n",
              "      <td>15.5</td>\n",
              "      <td>2.8</td>\n",
              "      <td>-4.06</td>\n",
              "      <td>Graduate</td>\n",
              "    </tr>\n",
              "    <tr>\n",
              "      <th>7</th>\n",
              "      <td>1</td>\n",
              "      <td>9</td>\n",
              "      <td>4</td>\n",
              "      <td>11</td>\n",
              "      <td>1</td>\n",
              "      <td>1</td>\n",
              "      <td>1</td>\n",
              "      <td>22</td>\n",
              "      <td>27</td>\n",
              "      <td>10</td>\n",
              "      <td>...</td>\n",
              "      <td>0</td>\n",
              "      <td>5</td>\n",
              "      <td>5</td>\n",
              "      <td>0</td>\n",
              "      <td>0.000000</td>\n",
              "      <td>0</td>\n",
              "      <td>15.5</td>\n",
              "      <td>2.8</td>\n",
              "      <td>-4.06</td>\n",
              "      <td>Dropout</td>\n",
              "    </tr>\n",
              "    <tr>\n",
              "      <th>8</th>\n",
              "      <td>1</td>\n",
              "      <td>1</td>\n",
              "      <td>3</td>\n",
              "      <td>10</td>\n",
              "      <td>1</td>\n",
              "      <td>1</td>\n",
              "      <td>15</td>\n",
              "      <td>1</td>\n",
              "      <td>1</td>\n",
              "      <td>10</td>\n",
              "      <td>...</td>\n",
              "      <td>0</td>\n",
              "      <td>6</td>\n",
              "      <td>7</td>\n",
              "      <td>6</td>\n",
              "      <td>14.142857</td>\n",
              "      <td>0</td>\n",
              "      <td>16.2</td>\n",
              "      <td>0.3</td>\n",
              "      <td>-0.92</td>\n",
              "      <td>Graduate</td>\n",
              "    </tr>\n",
              "    <tr>\n",
              "      <th>9</th>\n",
              "      <td>1</td>\n",
              "      <td>1</td>\n",
              "      <td>1</td>\n",
              "      <td>10</td>\n",
              "      <td>1</td>\n",
              "      <td>1</td>\n",
              "      <td>1</td>\n",
              "      <td>1</td>\n",
              "      <td>14</td>\n",
              "      <td>5</td>\n",
              "      <td>...</td>\n",
              "      <td>0</td>\n",
              "      <td>6</td>\n",
              "      <td>14</td>\n",
              "      <td>2</td>\n",
              "      <td>13.500000</td>\n",
              "      <td>0</td>\n",
              "      <td>8.9</td>\n",
              "      <td>1.4</td>\n",
              "      <td>3.51</td>\n",
              "      <td>Dropout</td>\n",
              "    </tr>\n",
              "  </tbody>\n",
              "</table>\n",
              "<p>10 rows × 35 columns</p>\n",
              "</div>"
            ],
            "text/plain": [
              "   Marital status  Application mode  Application order  Course  \\\n",
              "0               1                 8                  5       2   \n",
              "1               1                 6                  1      11   \n",
              "2               1                 1                  5       5   \n",
              "3               1                 8                  2      15   \n",
              "4               2                12                  1       3   \n",
              "5               2                12                  1      17   \n",
              "6               1                 1                  1      12   \n",
              "7               1                 9                  4      11   \n",
              "8               1                 1                  3      10   \n",
              "9               1                 1                  1      10   \n",
              "\n",
              "   Daytime/evening attendance  Previous qualification  Nacionality  \\\n",
              "0                           1                       1            1   \n",
              "1                           1                       1            1   \n",
              "2                           1                       1            1   \n",
              "3                           1                       1            1   \n",
              "4                           0                       1            1   \n",
              "5                           0                      12            1   \n",
              "6                           1                       1            1   \n",
              "7                           1                       1            1   \n",
              "8                           1                       1           15   \n",
              "9                           1                       1            1   \n",
              "\n",
              "   Mother's qualification  Father's qualification  Mother's occupation  ...  \\\n",
              "0                      13                      10                    6  ...   \n",
              "1                       1                       3                    4  ...   \n",
              "2                      22                      27                   10  ...   \n",
              "3                      23                      27                    6  ...   \n",
              "4                      22                      28                   10  ...   \n",
              "5                      22                      27                   10  ...   \n",
              "6                      13                      28                    8  ...   \n",
              "7                      22                      27                   10  ...   \n",
              "8                       1                       1                   10  ...   \n",
              "9                       1                      14                    5  ...   \n",
              "\n",
              "   Curricular units 2nd sem (credited)  Curricular units 2nd sem (enrolled)  \\\n",
              "0                                    0                                    0   \n",
              "1                                    0                                    6   \n",
              "2                                    0                                    6   \n",
              "3                                    0                                    6   \n",
              "4                                    0                                    6   \n",
              "5                                    0                                    5   \n",
              "6                                    0                                    8   \n",
              "7                                    0                                    5   \n",
              "8                                    0                                    6   \n",
              "9                                    0                                    6   \n",
              "\n",
              "   Curricular units 2nd sem (evaluations)  \\\n",
              "0                                       0   \n",
              "1                                       6   \n",
              "2                                       0   \n",
              "3                                      10   \n",
              "4                                       6   \n",
              "5                                      17   \n",
              "6                                       8   \n",
              "7                                       5   \n",
              "8                                       7   \n",
              "9                                      14   \n",
              "\n",
              "   Curricular units 2nd sem (approved)  Curricular units 2nd sem (grade)  \\\n",
              "0                                    0                          0.000000   \n",
              "1                                    6                         13.666667   \n",
              "2                                    0                          0.000000   \n",
              "3                                    5                         12.400000   \n",
              "4                                    6                         13.000000   \n",
              "5                                    5                         11.500000   \n",
              "6                                    8                         14.345000   \n",
              "7                                    0                          0.000000   \n",
              "8                                    6                         14.142857   \n",
              "9                                    2                         13.500000   \n",
              "\n",
              "   Curricular units 2nd sem (without evaluations)  Unemployment rate  \\\n",
              "0                                               0               10.8   \n",
              "1                                               0               13.9   \n",
              "2                                               0               10.8   \n",
              "3                                               0                9.4   \n",
              "4                                               0               13.9   \n",
              "5                                               5               16.2   \n",
              "6                                               0               15.5   \n",
              "7                                               0               15.5   \n",
              "8                                               0               16.2   \n",
              "9                                               0                8.9   \n",
              "\n",
              "   Inflation rate   GDP    Target  \n",
              "0             1.4  1.74   Dropout  \n",
              "1            -0.3  0.79  Graduate  \n",
              "2             1.4  1.74   Dropout  \n",
              "3            -0.8 -3.12  Graduate  \n",
              "4            -0.3  0.79  Graduate  \n",
              "5             0.3 -0.92  Graduate  \n",
              "6             2.8 -4.06  Graduate  \n",
              "7             2.8 -4.06   Dropout  \n",
              "8             0.3 -0.92  Graduate  \n",
              "9             1.4  3.51   Dropout  \n",
              "\n",
              "[10 rows x 35 columns]"
            ]
          },
          "execution_count": 308,
          "metadata": {},
          "output_type": "execute_result"
        }
      ],
      "source": [
        "df.head(10)"
      ]
    },
    {
      "cell_type": "code",
      "execution_count": null,
      "id": "7d451da3-320b-47a3-841b-8a241bbb69fb",
      "metadata": {
        "id": "7d451da3-320b-47a3-841b-8a241bbb69fb",
        "outputId": "32251f08-e90e-4a84-bf8a-185eae1859fe"
      },
      "outputs": [
        {
          "data": {
            "text/html": [
              "<div>\n",
              "<style scoped>\n",
              "    .dataframe tbody tr th:only-of-type {\n",
              "        vertical-align: middle;\n",
              "    }\n",
              "\n",
              "    .dataframe tbody tr th {\n",
              "        vertical-align: top;\n",
              "    }\n",
              "\n",
              "    .dataframe thead th {\n",
              "        text-align: right;\n",
              "    }\n",
              "</style>\n",
              "<table border=\"1\" class=\"dataframe\">\n",
              "  <thead>\n",
              "    <tr style=\"text-align: right;\">\n",
              "      <th></th>\n",
              "      <th>Marital status</th>\n",
              "      <th>Application mode</th>\n",
              "      <th>Application order</th>\n",
              "      <th>Course</th>\n",
              "      <th>Daytime/evening attendance</th>\n",
              "      <th>Previous qualification</th>\n",
              "      <th>Nacionality</th>\n",
              "      <th>Mother's qualification</th>\n",
              "      <th>Father's qualification</th>\n",
              "      <th>Mother's occupation</th>\n",
              "      <th>...</th>\n",
              "      <th>Curricular units 2nd sem (credited)</th>\n",
              "      <th>Curricular units 2nd sem (enrolled)</th>\n",
              "      <th>Curricular units 2nd sem (evaluations)</th>\n",
              "      <th>Curricular units 2nd sem (approved)</th>\n",
              "      <th>Curricular units 2nd sem (grade)</th>\n",
              "      <th>Curricular units 2nd sem (without evaluations)</th>\n",
              "      <th>Unemployment rate</th>\n",
              "      <th>Inflation rate</th>\n",
              "      <th>GDP</th>\n",
              "      <th>Target</th>\n",
              "    </tr>\n",
              "  </thead>\n",
              "  <tbody>\n",
              "    <tr>\n",
              "      <th>4414</th>\n",
              "      <td>1</td>\n",
              "      <td>1</td>\n",
              "      <td>1</td>\n",
              "      <td>8</td>\n",
              "      <td>1</td>\n",
              "      <td>1</td>\n",
              "      <td>1</td>\n",
              "      <td>3</td>\n",
              "      <td>28</td>\n",
              "      <td>4</td>\n",
              "      <td>...</td>\n",
              "      <td>0</td>\n",
              "      <td>5</td>\n",
              "      <td>8</td>\n",
              "      <td>5</td>\n",
              "      <td>11.600000</td>\n",
              "      <td>0</td>\n",
              "      <td>9.4</td>\n",
              "      <td>-0.8</td>\n",
              "      <td>-3.12</td>\n",
              "      <td>Graduate</td>\n",
              "    </tr>\n",
              "    <tr>\n",
              "      <th>4415</th>\n",
              "      <td>4</td>\n",
              "      <td>12</td>\n",
              "      <td>1</td>\n",
              "      <td>12</td>\n",
              "      <td>1</td>\n",
              "      <td>12</td>\n",
              "      <td>1</td>\n",
              "      <td>22</td>\n",
              "      <td>27</td>\n",
              "      <td>7</td>\n",
              "      <td>...</td>\n",
              "      <td>0</td>\n",
              "      <td>7</td>\n",
              "      <td>12</td>\n",
              "      <td>3</td>\n",
              "      <td>11.083333</td>\n",
              "      <td>0</td>\n",
              "      <td>11.1</td>\n",
              "      <td>0.6</td>\n",
              "      <td>2.02</td>\n",
              "      <td>Dropout</td>\n",
              "    </tr>\n",
              "    <tr>\n",
              "      <th>4416</th>\n",
              "      <td>1</td>\n",
              "      <td>14</td>\n",
              "      <td>2</td>\n",
              "      <td>12</td>\n",
              "      <td>1</td>\n",
              "      <td>1</td>\n",
              "      <td>1</td>\n",
              "      <td>23</td>\n",
              "      <td>28</td>\n",
              "      <td>10</td>\n",
              "      <td>...</td>\n",
              "      <td>11</td>\n",
              "      <td>14</td>\n",
              "      <td>15</td>\n",
              "      <td>12</td>\n",
              "      <td>12.625000</td>\n",
              "      <td>1</td>\n",
              "      <td>7.6</td>\n",
              "      <td>2.6</td>\n",
              "      <td>0.32</td>\n",
              "      <td>Graduate</td>\n",
              "    </tr>\n",
              "    <tr>\n",
              "      <th>4417</th>\n",
              "      <td>1</td>\n",
              "      <td>1</td>\n",
              "      <td>1</td>\n",
              "      <td>5</td>\n",
              "      <td>1</td>\n",
              "      <td>1</td>\n",
              "      <td>1</td>\n",
              "      <td>1</td>\n",
              "      <td>1</td>\n",
              "      <td>10</td>\n",
              "      <td>...</td>\n",
              "      <td>0</td>\n",
              "      <td>6</td>\n",
              "      <td>6</td>\n",
              "      <td>6</td>\n",
              "      <td>13.500000</td>\n",
              "      <td>0</td>\n",
              "      <td>16.2</td>\n",
              "      <td>0.3</td>\n",
              "      <td>-0.92</td>\n",
              "      <td>Graduate</td>\n",
              "    </tr>\n",
              "    <tr>\n",
              "      <th>4418</th>\n",
              "      <td>1</td>\n",
              "      <td>15</td>\n",
              "      <td>1</td>\n",
              "      <td>5</td>\n",
              "      <td>1</td>\n",
              "      <td>14</td>\n",
              "      <td>1</td>\n",
              "      <td>3</td>\n",
              "      <td>28</td>\n",
              "      <td>4</td>\n",
              "      <td>...</td>\n",
              "      <td>5</td>\n",
              "      <td>9</td>\n",
              "      <td>10</td>\n",
              "      <td>7</td>\n",
              "      <td>13.142857</td>\n",
              "      <td>1</td>\n",
              "      <td>16.2</td>\n",
              "      <td>0.3</td>\n",
              "      <td>-0.92</td>\n",
              "      <td>Graduate</td>\n",
              "    </tr>\n",
              "    <tr>\n",
              "      <th>4419</th>\n",
              "      <td>1</td>\n",
              "      <td>1</td>\n",
              "      <td>6</td>\n",
              "      <td>15</td>\n",
              "      <td>1</td>\n",
              "      <td>1</td>\n",
              "      <td>1</td>\n",
              "      <td>1</td>\n",
              "      <td>1</td>\n",
              "      <td>6</td>\n",
              "      <td>...</td>\n",
              "      <td>0</td>\n",
              "      <td>6</td>\n",
              "      <td>8</td>\n",
              "      <td>5</td>\n",
              "      <td>12.666667</td>\n",
              "      <td>0</td>\n",
              "      <td>15.5</td>\n",
              "      <td>2.8</td>\n",
              "      <td>-4.06</td>\n",
              "      <td>Graduate</td>\n",
              "    </tr>\n",
              "    <tr>\n",
              "      <th>4420</th>\n",
              "      <td>1</td>\n",
              "      <td>1</td>\n",
              "      <td>2</td>\n",
              "      <td>15</td>\n",
              "      <td>1</td>\n",
              "      <td>1</td>\n",
              "      <td>19</td>\n",
              "      <td>1</td>\n",
              "      <td>1</td>\n",
              "      <td>10</td>\n",
              "      <td>...</td>\n",
              "      <td>0</td>\n",
              "      <td>6</td>\n",
              "      <td>6</td>\n",
              "      <td>2</td>\n",
              "      <td>11.000000</td>\n",
              "      <td>0</td>\n",
              "      <td>11.1</td>\n",
              "      <td>0.6</td>\n",
              "      <td>2.02</td>\n",
              "      <td>Dropout</td>\n",
              "    </tr>\n",
              "    <tr>\n",
              "      <th>4421</th>\n",
              "      <td>1</td>\n",
              "      <td>1</td>\n",
              "      <td>1</td>\n",
              "      <td>12</td>\n",
              "      <td>1</td>\n",
              "      <td>1</td>\n",
              "      <td>1</td>\n",
              "      <td>22</td>\n",
              "      <td>27</td>\n",
              "      <td>10</td>\n",
              "      <td>...</td>\n",
              "      <td>0</td>\n",
              "      <td>8</td>\n",
              "      <td>9</td>\n",
              "      <td>1</td>\n",
              "      <td>13.500000</td>\n",
              "      <td>0</td>\n",
              "      <td>13.9</td>\n",
              "      <td>-0.3</td>\n",
              "      <td>0.79</td>\n",
              "      <td>Dropout</td>\n",
              "    </tr>\n",
              "    <tr>\n",
              "      <th>4422</th>\n",
              "      <td>1</td>\n",
              "      <td>1</td>\n",
              "      <td>1</td>\n",
              "      <td>9</td>\n",
              "      <td>1</td>\n",
              "      <td>1</td>\n",
              "      <td>1</td>\n",
              "      <td>22</td>\n",
              "      <td>27</td>\n",
              "      <td>8</td>\n",
              "      <td>...</td>\n",
              "      <td>0</td>\n",
              "      <td>5</td>\n",
              "      <td>6</td>\n",
              "      <td>5</td>\n",
              "      <td>12.000000</td>\n",
              "      <td>0</td>\n",
              "      <td>9.4</td>\n",
              "      <td>-0.8</td>\n",
              "      <td>-3.12</td>\n",
              "      <td>Graduate</td>\n",
              "    </tr>\n",
              "    <tr>\n",
              "      <th>4423</th>\n",
              "      <td>1</td>\n",
              "      <td>5</td>\n",
              "      <td>1</td>\n",
              "      <td>15</td>\n",
              "      <td>1</td>\n",
              "      <td>1</td>\n",
              "      <td>9</td>\n",
              "      <td>23</td>\n",
              "      <td>27</td>\n",
              "      <td>6</td>\n",
              "      <td>...</td>\n",
              "      <td>0</td>\n",
              "      <td>6</td>\n",
              "      <td>6</td>\n",
              "      <td>6</td>\n",
              "      <td>13.000000</td>\n",
              "      <td>0</td>\n",
              "      <td>12.7</td>\n",
              "      <td>3.7</td>\n",
              "      <td>-1.70</td>\n",
              "      <td>Graduate</td>\n",
              "    </tr>\n",
              "  </tbody>\n",
              "</table>\n",
              "<p>10 rows × 35 columns</p>\n",
              "</div>"
            ],
            "text/plain": [
              "      Marital status  Application mode  Application order  Course  \\\n",
              "4414               1                 1                  1       8   \n",
              "4415               4                12                  1      12   \n",
              "4416               1                14                  2      12   \n",
              "4417               1                 1                  1       5   \n",
              "4418               1                15                  1       5   \n",
              "4419               1                 1                  6      15   \n",
              "4420               1                 1                  2      15   \n",
              "4421               1                 1                  1      12   \n",
              "4422               1                 1                  1       9   \n",
              "4423               1                 5                  1      15   \n",
              "\n",
              "      Daytime/evening attendance  Previous qualification  Nacionality  \\\n",
              "4414                           1                       1            1   \n",
              "4415                           1                      12            1   \n",
              "4416                           1                       1            1   \n",
              "4417                           1                       1            1   \n",
              "4418                           1                      14            1   \n",
              "4419                           1                       1            1   \n",
              "4420                           1                       1           19   \n",
              "4421                           1                       1            1   \n",
              "4422                           1                       1            1   \n",
              "4423                           1                       1            9   \n",
              "\n",
              "      Mother's qualification  Father's qualification  Mother's occupation  \\\n",
              "4414                       3                      28                    4   \n",
              "4415                      22                      27                    7   \n",
              "4416                      23                      28                   10   \n",
              "4417                       1                       1                   10   \n",
              "4418                       3                      28                    4   \n",
              "4419                       1                       1                    6   \n",
              "4420                       1                       1                   10   \n",
              "4421                      22                      27                   10   \n",
              "4422                      22                      27                    8   \n",
              "4423                      23                      27                    6   \n",
              "\n",
              "      ...  Curricular units 2nd sem (credited)  \\\n",
              "4414  ...                                    0   \n",
              "4415  ...                                    0   \n",
              "4416  ...                                   11   \n",
              "4417  ...                                    0   \n",
              "4418  ...                                    5   \n",
              "4419  ...                                    0   \n",
              "4420  ...                                    0   \n",
              "4421  ...                                    0   \n",
              "4422  ...                                    0   \n",
              "4423  ...                                    0   \n",
              "\n",
              "      Curricular units 2nd sem (enrolled)  \\\n",
              "4414                                    5   \n",
              "4415                                    7   \n",
              "4416                                   14   \n",
              "4417                                    6   \n",
              "4418                                    9   \n",
              "4419                                    6   \n",
              "4420                                    6   \n",
              "4421                                    8   \n",
              "4422                                    5   \n",
              "4423                                    6   \n",
              "\n",
              "      Curricular units 2nd sem (evaluations)  \\\n",
              "4414                                       8   \n",
              "4415                                      12   \n",
              "4416                                      15   \n",
              "4417                                       6   \n",
              "4418                                      10   \n",
              "4419                                       8   \n",
              "4420                                       6   \n",
              "4421                                       9   \n",
              "4422                                       6   \n",
              "4423                                       6   \n",
              "\n",
              "      Curricular units 2nd sem (approved)  Curricular units 2nd sem (grade)  \\\n",
              "4414                                    5                         11.600000   \n",
              "4415                                    3                         11.083333   \n",
              "4416                                   12                         12.625000   \n",
              "4417                                    6                         13.500000   \n",
              "4418                                    7                         13.142857   \n",
              "4419                                    5                         12.666667   \n",
              "4420                                    2                         11.000000   \n",
              "4421                                    1                         13.500000   \n",
              "4422                                    5                         12.000000   \n",
              "4423                                    6                         13.000000   \n",
              "\n",
              "      Curricular units 2nd sem (without evaluations)  Unemployment rate  \\\n",
              "4414                                               0                9.4   \n",
              "4415                                               0               11.1   \n",
              "4416                                               1                7.6   \n",
              "4417                                               0               16.2   \n",
              "4418                                               1               16.2   \n",
              "4419                                               0               15.5   \n",
              "4420                                               0               11.1   \n",
              "4421                                               0               13.9   \n",
              "4422                                               0                9.4   \n",
              "4423                                               0               12.7   \n",
              "\n",
              "      Inflation rate   GDP    Target  \n",
              "4414            -0.8 -3.12  Graduate  \n",
              "4415             0.6  2.02   Dropout  \n",
              "4416             2.6  0.32  Graduate  \n",
              "4417             0.3 -0.92  Graduate  \n",
              "4418             0.3 -0.92  Graduate  \n",
              "4419             2.8 -4.06  Graduate  \n",
              "4420             0.6  2.02   Dropout  \n",
              "4421            -0.3  0.79   Dropout  \n",
              "4422            -0.8 -3.12  Graduate  \n",
              "4423             3.7 -1.70  Graduate  \n",
              "\n",
              "[10 rows x 35 columns]"
            ]
          },
          "execution_count": 309,
          "metadata": {},
          "output_type": "execute_result"
        }
      ],
      "source": [
        "df.tail(10)"
      ]
    },
    {
      "cell_type": "code",
      "execution_count": null,
      "id": "aa5a1149-7065-433b-afe8-bd4d11cd337e",
      "metadata": {
        "id": "aa5a1149-7065-433b-afe8-bd4d11cd337e",
        "outputId": "37884eb9-beca-44a6-81de-ac03ee18ba67"
      },
      "outputs": [
        {
          "name": "stdout",
          "output_type": "stream",
          "text": [
            "<class 'pandas.core.frame.DataFrame'>\n",
            "RangeIndex: 4424 entries, 0 to 4423\n",
            "Data columns (total 35 columns):\n",
            " #   Column                                          Non-Null Count  Dtype  \n",
            "---  ------                                          --------------  -----  \n",
            " 0   Marital status                                  4424 non-null   int64  \n",
            " 1   Application mode                                4424 non-null   int64  \n",
            " 2   Application order                               4424 non-null   int64  \n",
            " 3   Course                                          4424 non-null   int64  \n",
            " 4   Daytime/evening attendance                      4424 non-null   int64  \n",
            " 5   Previous qualification                          4424 non-null   int64  \n",
            " 6   Nacionality                                     4424 non-null   int64  \n",
            " 7   Mother's qualification                          4424 non-null   int64  \n",
            " 8   Father's qualification                          4424 non-null   int64  \n",
            " 9   Mother's occupation                             4424 non-null   int64  \n",
            " 10  Father's occupation                             4424 non-null   int64  \n",
            " 11  Displaced                                       4424 non-null   int64  \n",
            " 12  Educational special needs                       4424 non-null   int64  \n",
            " 13  Debtor                                          4424 non-null   int64  \n",
            " 14  Tuition fees up to date                         4424 non-null   int64  \n",
            " 15  Gender                                          4424 non-null   int64  \n",
            " 16  Scholarship holder                              4424 non-null   int64  \n",
            " 17  Age at enrollment                               4424 non-null   int64  \n",
            " 18  International                                   4424 non-null   int64  \n",
            " 19  Curricular units 1st sem (credited)             4424 non-null   int64  \n",
            " 20  Curricular units 1st sem (enrolled)             4424 non-null   int64  \n",
            " 21  Curricular units 1st sem (evaluations)          4424 non-null   int64  \n",
            " 22  Curricular units 1st sem (approved)             4424 non-null   int64  \n",
            " 23  Curricular units 1st sem (grade)                4424 non-null   float64\n",
            " 24  Curricular units 1st sem (without evaluations)  4424 non-null   int64  \n",
            " 25  Curricular units 2nd sem (credited)             4424 non-null   int64  \n",
            " 26  Curricular units 2nd sem (enrolled)             4424 non-null   int64  \n",
            " 27  Curricular units 2nd sem (evaluations)          4424 non-null   int64  \n",
            " 28  Curricular units 2nd sem (approved)             4424 non-null   int64  \n",
            " 29  Curricular units 2nd sem (grade)                4424 non-null   float64\n",
            " 30  Curricular units 2nd sem (without evaluations)  4424 non-null   int64  \n",
            " 31  Unemployment rate                               4424 non-null   float64\n",
            " 32  Inflation rate                                  4424 non-null   float64\n",
            " 33  GDP                                             4424 non-null   float64\n",
            " 34  Target                                          4424 non-null   object \n",
            "dtypes: float64(5), int64(29), object(1)\n",
            "memory usage: 1.2+ MB\n"
          ]
        }
      ],
      "source": [
        "df.info()"
      ]
    },
    {
      "cell_type": "code",
      "execution_count": null,
      "id": "7b5cde1c-3484-484b-8f80-25139ac72668",
      "metadata": {
        "id": "7b5cde1c-3484-484b-8f80-25139ac72668",
        "outputId": "2a10520e-df1b-4425-af2a-df64ad97ce9b"
      },
      "outputs": [
        {
          "data": {
            "text/html": [
              "<div>\n",
              "<style scoped>\n",
              "    .dataframe tbody tr th:only-of-type {\n",
              "        vertical-align: middle;\n",
              "    }\n",
              "\n",
              "    .dataframe tbody tr th {\n",
              "        vertical-align: top;\n",
              "    }\n",
              "\n",
              "    .dataframe thead th {\n",
              "        text-align: right;\n",
              "    }\n",
              "</style>\n",
              "<table border=\"1\" class=\"dataframe\">\n",
              "  <thead>\n",
              "    <tr style=\"text-align: right;\">\n",
              "      <th></th>\n",
              "      <th>Marital status</th>\n",
              "      <th>Application mode</th>\n",
              "      <th>Application order</th>\n",
              "      <th>Course</th>\n",
              "      <th>Daytime/evening attendance</th>\n",
              "      <th>Previous qualification</th>\n",
              "      <th>Nacionality</th>\n",
              "      <th>Mother's qualification</th>\n",
              "      <th>Father's qualification</th>\n",
              "      <th>Mother's occupation</th>\n",
              "      <th>...</th>\n",
              "      <th>Curricular units 1st sem (without evaluations)</th>\n",
              "      <th>Curricular units 2nd sem (credited)</th>\n",
              "      <th>Curricular units 2nd sem (enrolled)</th>\n",
              "      <th>Curricular units 2nd sem (evaluations)</th>\n",
              "      <th>Curricular units 2nd sem (approved)</th>\n",
              "      <th>Curricular units 2nd sem (grade)</th>\n",
              "      <th>Curricular units 2nd sem (without evaluations)</th>\n",
              "      <th>Unemployment rate</th>\n",
              "      <th>Inflation rate</th>\n",
              "      <th>GDP</th>\n",
              "    </tr>\n",
              "  </thead>\n",
              "  <tbody>\n",
              "    <tr>\n",
              "      <th>count</th>\n",
              "      <td>4424.000000</td>\n",
              "      <td>4424.000000</td>\n",
              "      <td>4424.000000</td>\n",
              "      <td>4424.000000</td>\n",
              "      <td>4424.000000</td>\n",
              "      <td>4424.000000</td>\n",
              "      <td>4424.000000</td>\n",
              "      <td>4424.000000</td>\n",
              "      <td>4424.000000</td>\n",
              "      <td>4424.000000</td>\n",
              "      <td>...</td>\n",
              "      <td>4424.000000</td>\n",
              "      <td>4424.000000</td>\n",
              "      <td>4424.000000</td>\n",
              "      <td>4424.000000</td>\n",
              "      <td>4424.000000</td>\n",
              "      <td>4424.000000</td>\n",
              "      <td>4424.000000</td>\n",
              "      <td>4424.000000</td>\n",
              "      <td>4424.000000</td>\n",
              "      <td>4424.000000</td>\n",
              "    </tr>\n",
              "    <tr>\n",
              "      <th>mean</th>\n",
              "      <td>1.178571</td>\n",
              "      <td>6.886980</td>\n",
              "      <td>1.727848</td>\n",
              "      <td>9.899186</td>\n",
              "      <td>0.890823</td>\n",
              "      <td>2.531420</td>\n",
              "      <td>1.254521</td>\n",
              "      <td>12.322107</td>\n",
              "      <td>16.455244</td>\n",
              "      <td>7.317812</td>\n",
              "      <td>...</td>\n",
              "      <td>0.137658</td>\n",
              "      <td>0.541817</td>\n",
              "      <td>6.232143</td>\n",
              "      <td>8.063291</td>\n",
              "      <td>4.435805</td>\n",
              "      <td>10.230206</td>\n",
              "      <td>0.150316</td>\n",
              "      <td>11.566139</td>\n",
              "      <td>1.228029</td>\n",
              "      <td>0.001969</td>\n",
              "    </tr>\n",
              "    <tr>\n",
              "      <th>std</th>\n",
              "      <td>0.605747</td>\n",
              "      <td>5.298964</td>\n",
              "      <td>1.313793</td>\n",
              "      <td>4.331792</td>\n",
              "      <td>0.311897</td>\n",
              "      <td>3.963707</td>\n",
              "      <td>1.748447</td>\n",
              "      <td>9.026251</td>\n",
              "      <td>11.044800</td>\n",
              "      <td>3.997828</td>\n",
              "      <td>...</td>\n",
              "      <td>0.690880</td>\n",
              "      <td>1.918546</td>\n",
              "      <td>2.195951</td>\n",
              "      <td>3.947951</td>\n",
              "      <td>3.014764</td>\n",
              "      <td>5.210808</td>\n",
              "      <td>0.753774</td>\n",
              "      <td>2.663850</td>\n",
              "      <td>1.382711</td>\n",
              "      <td>2.269935</td>\n",
              "    </tr>\n",
              "    <tr>\n",
              "      <th>min</th>\n",
              "      <td>1.000000</td>\n",
              "      <td>1.000000</td>\n",
              "      <td>0.000000</td>\n",
              "      <td>1.000000</td>\n",
              "      <td>0.000000</td>\n",
              "      <td>1.000000</td>\n",
              "      <td>1.000000</td>\n",
              "      <td>1.000000</td>\n",
              "      <td>1.000000</td>\n",
              "      <td>1.000000</td>\n",
              "      <td>...</td>\n",
              "      <td>0.000000</td>\n",
              "      <td>0.000000</td>\n",
              "      <td>0.000000</td>\n",
              "      <td>0.000000</td>\n",
              "      <td>0.000000</td>\n",
              "      <td>0.000000</td>\n",
              "      <td>0.000000</td>\n",
              "      <td>7.600000</td>\n",
              "      <td>-0.800000</td>\n",
              "      <td>-4.060000</td>\n",
              "    </tr>\n",
              "    <tr>\n",
              "      <th>25%</th>\n",
              "      <td>1.000000</td>\n",
              "      <td>1.000000</td>\n",
              "      <td>1.000000</td>\n",
              "      <td>6.000000</td>\n",
              "      <td>1.000000</td>\n",
              "      <td>1.000000</td>\n",
              "      <td>1.000000</td>\n",
              "      <td>2.000000</td>\n",
              "      <td>3.000000</td>\n",
              "      <td>5.000000</td>\n",
              "      <td>...</td>\n",
              "      <td>0.000000</td>\n",
              "      <td>0.000000</td>\n",
              "      <td>5.000000</td>\n",
              "      <td>6.000000</td>\n",
              "      <td>2.000000</td>\n",
              "      <td>10.750000</td>\n",
              "      <td>0.000000</td>\n",
              "      <td>9.400000</td>\n",
              "      <td>0.300000</td>\n",
              "      <td>-1.700000</td>\n",
              "    </tr>\n",
              "    <tr>\n",
              "      <th>50%</th>\n",
              "      <td>1.000000</td>\n",
              "      <td>8.000000</td>\n",
              "      <td>1.000000</td>\n",
              "      <td>10.000000</td>\n",
              "      <td>1.000000</td>\n",
              "      <td>1.000000</td>\n",
              "      <td>1.000000</td>\n",
              "      <td>13.000000</td>\n",
              "      <td>14.000000</td>\n",
              "      <td>6.000000</td>\n",
              "      <td>...</td>\n",
              "      <td>0.000000</td>\n",
              "      <td>0.000000</td>\n",
              "      <td>6.000000</td>\n",
              "      <td>8.000000</td>\n",
              "      <td>5.000000</td>\n",
              "      <td>12.200000</td>\n",
              "      <td>0.000000</td>\n",
              "      <td>11.100000</td>\n",
              "      <td>1.400000</td>\n",
              "      <td>0.320000</td>\n",
              "    </tr>\n",
              "    <tr>\n",
              "      <th>75%</th>\n",
              "      <td>1.000000</td>\n",
              "      <td>12.000000</td>\n",
              "      <td>2.000000</td>\n",
              "      <td>13.000000</td>\n",
              "      <td>1.000000</td>\n",
              "      <td>1.000000</td>\n",
              "      <td>1.000000</td>\n",
              "      <td>22.000000</td>\n",
              "      <td>27.000000</td>\n",
              "      <td>10.000000</td>\n",
              "      <td>...</td>\n",
              "      <td>0.000000</td>\n",
              "      <td>0.000000</td>\n",
              "      <td>7.000000</td>\n",
              "      <td>10.000000</td>\n",
              "      <td>6.000000</td>\n",
              "      <td>13.333333</td>\n",
              "      <td>0.000000</td>\n",
              "      <td>13.900000</td>\n",
              "      <td>2.600000</td>\n",
              "      <td>1.790000</td>\n",
              "    </tr>\n",
              "    <tr>\n",
              "      <th>max</th>\n",
              "      <td>6.000000</td>\n",
              "      <td>18.000000</td>\n",
              "      <td>9.000000</td>\n",
              "      <td>17.000000</td>\n",
              "      <td>1.000000</td>\n",
              "      <td>17.000000</td>\n",
              "      <td>21.000000</td>\n",
              "      <td>29.000000</td>\n",
              "      <td>34.000000</td>\n",
              "      <td>32.000000</td>\n",
              "      <td>...</td>\n",
              "      <td>12.000000</td>\n",
              "      <td>19.000000</td>\n",
              "      <td>23.000000</td>\n",
              "      <td>33.000000</td>\n",
              "      <td>20.000000</td>\n",
              "      <td>18.571429</td>\n",
              "      <td>12.000000</td>\n",
              "      <td>16.200000</td>\n",
              "      <td>3.700000</td>\n",
              "      <td>3.510000</td>\n",
              "    </tr>\n",
              "  </tbody>\n",
              "</table>\n",
              "<p>8 rows × 34 columns</p>\n",
              "</div>"
            ],
            "text/plain": [
              "       Marital status  Application mode  Application order       Course  \\\n",
              "count     4424.000000       4424.000000        4424.000000  4424.000000   \n",
              "mean         1.178571          6.886980           1.727848     9.899186   \n",
              "std          0.605747          5.298964           1.313793     4.331792   \n",
              "min          1.000000          1.000000           0.000000     1.000000   \n",
              "25%          1.000000          1.000000           1.000000     6.000000   \n",
              "50%          1.000000          8.000000           1.000000    10.000000   \n",
              "75%          1.000000         12.000000           2.000000    13.000000   \n",
              "max          6.000000         18.000000           9.000000    17.000000   \n",
              "\n",
              "       Daytime/evening attendance  Previous qualification  Nacionality  \\\n",
              "count                 4424.000000             4424.000000  4424.000000   \n",
              "mean                     0.890823                2.531420     1.254521   \n",
              "std                      0.311897                3.963707     1.748447   \n",
              "min                      0.000000                1.000000     1.000000   \n",
              "25%                      1.000000                1.000000     1.000000   \n",
              "50%                      1.000000                1.000000     1.000000   \n",
              "75%                      1.000000                1.000000     1.000000   \n",
              "max                      1.000000               17.000000    21.000000   \n",
              "\n",
              "       Mother's qualification  Father's qualification  Mother's occupation  \\\n",
              "count             4424.000000             4424.000000          4424.000000   \n",
              "mean                12.322107               16.455244             7.317812   \n",
              "std                  9.026251               11.044800             3.997828   \n",
              "min                  1.000000                1.000000             1.000000   \n",
              "25%                  2.000000                3.000000             5.000000   \n",
              "50%                 13.000000               14.000000             6.000000   \n",
              "75%                 22.000000               27.000000            10.000000   \n",
              "max                 29.000000               34.000000            32.000000   \n",
              "\n",
              "       ...  Curricular units 1st sem (without evaluations)  \\\n",
              "count  ...                                     4424.000000   \n",
              "mean   ...                                        0.137658   \n",
              "std    ...                                        0.690880   \n",
              "min    ...                                        0.000000   \n",
              "25%    ...                                        0.000000   \n",
              "50%    ...                                        0.000000   \n",
              "75%    ...                                        0.000000   \n",
              "max    ...                                       12.000000   \n",
              "\n",
              "       Curricular units 2nd sem (credited)  \\\n",
              "count                          4424.000000   \n",
              "mean                              0.541817   \n",
              "std                               1.918546   \n",
              "min                               0.000000   \n",
              "25%                               0.000000   \n",
              "50%                               0.000000   \n",
              "75%                               0.000000   \n",
              "max                              19.000000   \n",
              "\n",
              "       Curricular units 2nd sem (enrolled)  \\\n",
              "count                          4424.000000   \n",
              "mean                              6.232143   \n",
              "std                               2.195951   \n",
              "min                               0.000000   \n",
              "25%                               5.000000   \n",
              "50%                               6.000000   \n",
              "75%                               7.000000   \n",
              "max                              23.000000   \n",
              "\n",
              "       Curricular units 2nd sem (evaluations)  \\\n",
              "count                             4424.000000   \n",
              "mean                                 8.063291   \n",
              "std                                  3.947951   \n",
              "min                                  0.000000   \n",
              "25%                                  6.000000   \n",
              "50%                                  8.000000   \n",
              "75%                                 10.000000   \n",
              "max                                 33.000000   \n",
              "\n",
              "       Curricular units 2nd sem (approved)  Curricular units 2nd sem (grade)  \\\n",
              "count                          4424.000000                       4424.000000   \n",
              "mean                              4.435805                         10.230206   \n",
              "std                               3.014764                          5.210808   \n",
              "min                               0.000000                          0.000000   \n",
              "25%                               2.000000                         10.750000   \n",
              "50%                               5.000000                         12.200000   \n",
              "75%                               6.000000                         13.333333   \n",
              "max                              20.000000                         18.571429   \n",
              "\n",
              "       Curricular units 2nd sem (without evaluations)  Unemployment rate  \\\n",
              "count                                     4424.000000        4424.000000   \n",
              "mean                                         0.150316          11.566139   \n",
              "std                                          0.753774           2.663850   \n",
              "min                                          0.000000           7.600000   \n",
              "25%                                          0.000000           9.400000   \n",
              "50%                                          0.000000          11.100000   \n",
              "75%                                          0.000000          13.900000   \n",
              "max                                         12.000000          16.200000   \n",
              "\n",
              "       Inflation rate          GDP  \n",
              "count     4424.000000  4424.000000  \n",
              "mean         1.228029     0.001969  \n",
              "std          1.382711     2.269935  \n",
              "min         -0.800000    -4.060000  \n",
              "25%          0.300000    -1.700000  \n",
              "50%          1.400000     0.320000  \n",
              "75%          2.600000     1.790000  \n",
              "max          3.700000     3.510000  \n",
              "\n",
              "[8 rows x 34 columns]"
            ]
          },
          "execution_count": 311,
          "metadata": {},
          "output_type": "execute_result"
        }
      ],
      "source": [
        "df.describe()"
      ]
    },
    {
      "cell_type": "code",
      "execution_count": null,
      "id": "b7c21e9a-5e56-4ad9-a60e-73aba1786dd6",
      "metadata": {
        "id": "b7c21e9a-5e56-4ad9-a60e-73aba1786dd6",
        "outputId": "1ea66328-a42f-4616-8998-76d26af41f91"
      },
      "outputs": [
        {
          "data": {
            "text/html": [
              "<div>\n",
              "<style scoped>\n",
              "    .dataframe tbody tr th:only-of-type {\n",
              "        vertical-align: middle;\n",
              "    }\n",
              "\n",
              "    .dataframe tbody tr th {\n",
              "        vertical-align: top;\n",
              "    }\n",
              "\n",
              "    .dataframe thead th {\n",
              "        text-align: right;\n",
              "    }\n",
              "</style>\n",
              "<table border=\"1\" class=\"dataframe\">\n",
              "  <thead>\n",
              "    <tr style=\"text-align: right;\">\n",
              "      <th></th>\n",
              "      <th>Target</th>\n",
              "    </tr>\n",
              "  </thead>\n",
              "  <tbody>\n",
              "    <tr>\n",
              "      <th>count</th>\n",
              "      <td>4424</td>\n",
              "    </tr>\n",
              "    <tr>\n",
              "      <th>unique</th>\n",
              "      <td>3</td>\n",
              "    </tr>\n",
              "    <tr>\n",
              "      <th>top</th>\n",
              "      <td>Graduate</td>\n",
              "    </tr>\n",
              "    <tr>\n",
              "      <th>freq</th>\n",
              "      <td>2209</td>\n",
              "    </tr>\n",
              "  </tbody>\n",
              "</table>\n",
              "</div>"
            ],
            "text/plain": [
              "          Target\n",
              "count       4424\n",
              "unique         3\n",
              "top     Graduate\n",
              "freq        2209"
            ]
          },
          "execution_count": 312,
          "metadata": {},
          "output_type": "execute_result"
        }
      ],
      "source": [
        "df.describe(include = object)"
      ]
    },
    {
      "cell_type": "code",
      "execution_count": null,
      "id": "2e00fe1b-79b3-4948-beec-a0b3de82c26e",
      "metadata": {
        "jp-MarkdownHeadingCollapsed": true,
        "id": "2e00fe1b-79b3-4948-beec-a0b3de82c26e",
        "outputId": "22c3cd20-5247-40fa-d54a-0e5448475ac4"
      },
      "outputs": [
        {
          "data": {
            "text/plain": [
              "Marital status                                    0\n",
              "Application mode                                  0\n",
              "Application order                                 0\n",
              "Course                                            0\n",
              "Daytime/evening attendance                        0\n",
              "Previous qualification                            0\n",
              "Nacionality                                       0\n",
              "Mother's qualification                            0\n",
              "Father's qualification                            0\n",
              "Mother's occupation                               0\n",
              "Father's occupation                               0\n",
              "Displaced                                         0\n",
              "Educational special needs                         0\n",
              "Debtor                                            0\n",
              "Tuition fees up to date                           0\n",
              "Gender                                            0\n",
              "Scholarship holder                                0\n",
              "Age at enrollment                                 0\n",
              "International                                     0\n",
              "Curricular units 1st sem (credited)               0\n",
              "Curricular units 1st sem (enrolled)               0\n",
              "Curricular units 1st sem (evaluations)            0\n",
              "Curricular units 1st sem (approved)               0\n",
              "Curricular units 1st sem (grade)                  0\n",
              "Curricular units 1st sem (without evaluations)    0\n",
              "Curricular units 2nd sem (credited)               0\n",
              "Curricular units 2nd sem (enrolled)               0\n",
              "Curricular units 2nd sem (evaluations)            0\n",
              "Curricular units 2nd sem (approved)               0\n",
              "Curricular units 2nd sem (grade)                  0\n",
              "Curricular units 2nd sem (without evaluations)    0\n",
              "Unemployment rate                                 0\n",
              "Inflation rate                                    0\n",
              "GDP                                               0\n",
              "Target                                            0\n",
              "dtype: int64"
            ]
          },
          "execution_count": 313,
          "metadata": {},
          "output_type": "execute_result"
        }
      ],
      "source": [
        "df.isnull().sum()"
      ]
    },
    {
      "cell_type": "code",
      "execution_count": null,
      "id": "2f2bfef1-12c0-440f-ab88-53da5bb30a2e",
      "metadata": {
        "id": "2f2bfef1-12c0-440f-ab88-53da5bb30a2e"
      },
      "outputs": [],
      "source": [
        "df = df.drop_duplicates()"
      ]
    },
    {
      "cell_type": "code",
      "execution_count": null,
      "id": "239e50c6-099f-43cc-8fe9-d708c9525e11",
      "metadata": {
        "id": "239e50c6-099f-43cc-8fe9-d708c9525e11",
        "outputId": "4dab39a0-bc50-4453-fab3-ccff46204944"
      },
      "outputs": [
        {
          "data": {
            "text/plain": [
              "['Marital status',\n",
              " 'Application mode',\n",
              " 'Application order',\n",
              " 'Course',\n",
              " 'Daytime/evening attendance',\n",
              " 'Previous qualification',\n",
              " 'Nacionality',\n",
              " \"Mother's qualification\",\n",
              " \"Father's qualification\",\n",
              " \"Mother's occupation\",\n",
              " \"Father's occupation\",\n",
              " 'Displaced',\n",
              " 'Educational special needs',\n",
              " 'Debtor',\n",
              " 'Tuition fees up to date',\n",
              " 'Gender',\n",
              " 'Scholarship holder',\n",
              " 'Age at enrollment',\n",
              " 'International',\n",
              " 'Curricular units 1st sem (credited)',\n",
              " 'Curricular units 1st sem (enrolled)',\n",
              " 'Curricular units 1st sem (evaluations)',\n",
              " 'Curricular units 1st sem (approved)',\n",
              " 'Curricular units 1st sem (grade)',\n",
              " 'Curricular units 1st sem (without evaluations)',\n",
              " 'Curricular units 2nd sem (credited)',\n",
              " 'Curricular units 2nd sem (enrolled)',\n",
              " 'Curricular units 2nd sem (evaluations)',\n",
              " 'Curricular units 2nd sem (approved)',\n",
              " 'Curricular units 2nd sem (grade)',\n",
              " 'Curricular units 2nd sem (without evaluations)',\n",
              " 'Unemployment rate',\n",
              " 'Inflation rate',\n",
              " 'GDP',\n",
              " 'Target']"
            ]
          },
          "execution_count": 315,
          "metadata": {},
          "output_type": "execute_result"
        }
      ],
      "source": [
        "df.columns.tolist()"
      ]
    },
    {
      "cell_type": "code",
      "execution_count": null,
      "id": "3098543d-f6a5-462e-95df-d14e6496c4a5",
      "metadata": {
        "id": "3098543d-f6a5-462e-95df-d14e6496c4a5",
        "outputId": "b1ba9bfc-07c3-478c-a213-a3a86c7366de"
      },
      "outputs": [
        {
          "name": "stdout",
          "output_type": "stream",
          "text": [
            "Marital status                                      int64\n",
            "Application mode                                    int64\n",
            "Application order                                   int64\n",
            "Course                                              int64\n",
            "Daytime/evening attendance                          int64\n",
            "Previous qualification                              int64\n",
            "Nacionality                                         int64\n",
            "Mother's qualification                              int64\n",
            "Father's qualification                              int64\n",
            "Mother's occupation                                 int64\n",
            "Father's occupation                                 int64\n",
            "Displaced                                           int64\n",
            "Educational special needs                           int64\n",
            "Debtor                                              int64\n",
            "Tuition fees up to date                             int64\n",
            "Gender                                              int64\n",
            "Scholarship holder                                  int64\n",
            "Age at enrollment                                   int64\n",
            "International                                       int64\n",
            "Curricular units 1st sem (credited)                 int64\n",
            "Curricular units 1st sem (enrolled)                 int64\n",
            "Curricular units 1st sem (evaluations)              int64\n",
            "Curricular units 1st sem (approved)                 int64\n",
            "Curricular units 1st sem (grade)                  float64\n",
            "Curricular units 1st sem (without evaluations)      int64\n",
            "Curricular units 2nd sem (credited)                 int64\n",
            "Curricular units 2nd sem (enrolled)                 int64\n",
            "Curricular units 2nd sem (evaluations)              int64\n",
            "Curricular units 2nd sem (approved)                 int64\n",
            "Curricular units 2nd sem (grade)                  float64\n",
            "Curricular units 2nd sem (without evaluations)      int64\n",
            "Unemployment rate                                 float64\n",
            "Inflation rate                                    float64\n",
            "GDP                                               float64\n",
            "Target                                             object\n",
            "dtype: object\n",
            "Marital status                                      6\n",
            "Application mode                                   18\n",
            "Application order                                   8\n",
            "Course                                             17\n",
            "Daytime/evening attendance                          2\n",
            "Previous qualification                             17\n",
            "Nacionality                                        21\n",
            "Mother's qualification                             29\n",
            "Father's qualification                             34\n",
            "Mother's occupation                                32\n",
            "Father's occupation                                46\n",
            "Displaced                                           2\n",
            "Educational special needs                           2\n",
            "Debtor                                              2\n",
            "Tuition fees up to date                             2\n",
            "Gender                                              2\n",
            "Scholarship holder                                  2\n",
            "Age at enrollment                                  46\n",
            "International                                       2\n",
            "Curricular units 1st sem (credited)                21\n",
            "Curricular units 1st sem (enrolled)                23\n",
            "Curricular units 1st sem (evaluations)             35\n",
            "Curricular units 1st sem (approved)                23\n",
            "Curricular units 1st sem (grade)                  805\n",
            "Curricular units 1st sem (without evaluations)     11\n",
            "Curricular units 2nd sem (credited)                19\n",
            "Curricular units 2nd sem (enrolled)                22\n",
            "Curricular units 2nd sem (evaluations)             30\n",
            "Curricular units 2nd sem (approved)                20\n",
            "Curricular units 2nd sem (grade)                  786\n",
            "Curricular units 2nd sem (without evaluations)     10\n",
            "Unemployment rate                                  10\n",
            "Inflation rate                                      9\n",
            "GDP                                                10\n",
            "Target                                              3\n",
            "dtype: int64\n"
          ]
        }
      ],
      "source": [
        "# Check data types\n",
        "print(df.dtypes)\n",
        "\n",
        "# Check unique values for each column\n",
        "print(df.nunique())\n"
      ]
    },
    {
      "cell_type": "markdown",
      "id": "18b778f5-ff65-422f-a587-e5ac88a434b6",
      "metadata": {
        "id": "18b778f5-ff65-422f-a587-e5ac88a434b6"
      },
      "source": [
        "## **4. Data Preprocessing**"
      ]
    },
    {
      "cell_type": "code",
      "execution_count": null,
      "id": "75e6a053-ffa0-49fb-8a7a-a0b63b4ac1d5",
      "metadata": {
        "id": "75e6a053-ffa0-49fb-8a7a-a0b63b4ac1d5"
      },
      "outputs": [],
      "source": [
        "# If numeric columns have missing values, fill with mean/median:\n",
        "num_cols = df.select_dtypes(include=['int64', 'float64']).columns\n",
        "\n",
        "for col in num_cols:\n",
        "    df[col] = df[col].fillna(df[col].median())\n",
        "\n",
        "# If categorical columns have missing values, fill with mode:\n",
        "cat_cols = df.select_dtypes(include=['object']).columns\n",
        "\n",
        "for col in cat_cols:\n",
        "    df[col] = df[col].fillna(df[col].mode()[0])\n"
      ]
    },
    {
      "cell_type": "code",
      "execution_count": null,
      "id": "cfd05448-3bb6-4cce-9aa1-6b066086514e",
      "metadata": {
        "scrolled": true,
        "id": "cfd05448-3bb6-4cce-9aa1-6b066086514e",
        "outputId": "60b46bce-5282-4f30-bc46-7c938876219a"
      },
      "outputs": [
        {
          "data": {
            "image/png": "[encoded data removed]",
            "text/plain": [
              "<Figure size 640x480 with 1 Axes>"
            ]
          },
          "metadata": {},
          "output_type": "display_data"
        }
      ],
      "source": [
        "# Visualize class balance\n",
        "sns.countplot(x='Target', data=df)\n",
        "plt.title('Dropout vs Non-Dropout Distribution')\n",
        "plt.show()"
      ]
    },
    {
      "cell_type": "markdown",
      "id": "7eced27d-bdb7-4147-b0b4-c97240d8a690",
      "metadata": {
        "id": "7eced27d-bdb7-4147-b0b4-c97240d8a690"
      },
      "source": [
        "## **Insight**\n",
        "- Graduates are the largest group, dropouts form a significant share.\n",
        "- This confirms dropout prediction is vital for education retention planning."
      ]
    },
    {
      "cell_type": "code",
      "execution_count": null,
      "id": "86bb847e-fc71-4a54-a512-67bbe74cba2a",
      "metadata": {
        "id": "86bb847e-fc71-4a54-a512-67bbe74cba2a"
      },
      "outputs": [],
      "source": [
        "# If any numeric-looking columns are stored as object, convert:\n",
        "for col in df.columns:\n",
        "    if df[col].dtype == 'object':\n",
        "        try:\n",
        "            df[col] = pd.to_numeric(df[col])\n",
        "        except:\n",
        "            pass\n"
      ]
    },
    {
      "cell_type": "code",
      "execution_count": null,
      "id": "d988ac31-c212-4578-9ae7-b8822f47be08",
      "metadata": {
        "id": "d988ac31-c212-4578-9ae7-b8822f47be08"
      },
      "outputs": [],
      "source": [
        "# Label Encoding for binary columns\n",
        "le = LabelEncoder()\n",
        "for col in df.select_dtypes(include=['object']).columns:\n",
        "    df[col] = le.fit_transform(df[col])\n"
      ]
    },
    {
      "cell_type": "code",
      "execution_count": null,
      "id": "da3d4d58-1daf-42e4-a2d6-6ba35577f631",
      "metadata": {
        "id": "da3d4d58-1daf-42e4-a2d6-6ba35577f631"
      },
      "outputs": [],
      "source": [
        " for col in num_cols:\n",
        "    mean = df[col].mean()\n",
        "    std = df[col].std()\n",
        "    upper = mean + 3*std\n",
        "    lower = mean - 3*std\n",
        "    df = df[(df[col] >= lower) & (df[col] <= upper)]\n"
      ]
    },
    {
      "cell_type": "markdown",
      "id": "d67b777e-26e7-4121-b4c8-b0e0b4fb1df3",
      "metadata": {
        "id": "d67b777e-26e7-4121-b4c8-b0e0b4fb1df3"
      },
      "source": [
        "## **5.Model Training & Evaluation- Random Forest**"
      ]
    },
    {
      "cell_type": "code",
      "execution_count": null,
      "id": "36641be6-2d88-460b-b2d7-5b4a91b33ccb",
      "metadata": {
        "id": "36641be6-2d88-460b-b2d7-5b4a91b33ccb"
      },
      "outputs": [],
      "source": [
        "from sklearn import set_config\n",
        "set_config(display='text')"
      ]
    },
    {
      "cell_type": "code",
      "execution_count": null,
      "id": "99e25d64-b507-4043-9645-03742d3e0fcf",
      "metadata": {
        "id": "99e25d64-b507-4043-9645-03742d3e0fcf"
      },
      "outputs": [],
      "source": [
        "# Features and target\n",
        "X = df.drop('Target', axis=1)\n",
        "y = df['Target']\n",
        "\n",
        "# Scale numeric features\n",
        "from sklearn.preprocessing import StandardScaler\n",
        "scaler = StandardScaler()\n",
        "X_scaled = scaler.fit_transform(X)\n",
        "\n",
        "# Train-test split\n",
        "from sklearn.model_selection import train_test_split\n",
        "X_train, X_test, y_train, y_test = train_test_split(\n",
        "    X_scaled, y, test_size=0.2, random_state=42, stratify=y\n",
        ")\n"
      ]
    },
    {
      "cell_type": "code",
      "execution_count": null,
      "id": "74e1413b-b8b0-44c7-bf78-2fbe59c5e149",
      "metadata": {
        "id": "74e1413b-b8b0-44c7-bf78-2fbe59c5e149"
      },
      "outputs": [],
      "source": [
        "clf = RandomForestClassifier(random_state=42)"
      ]
    },
    {
      "cell_type": "code",
      "execution_count": null,
      "id": "efcfcfe4-d980-4fa8-938a-a5674f0a2cd2",
      "metadata": {
        "id": "efcfcfe4-d980-4fa8-938a-a5674f0a2cd2",
        "outputId": "6087c364-6693-4b8d-ec91-e24bc7d1d7bc"
      },
      "outputs": [
        {
          "data": {
            "text/plain": [
              "RandomForestClassifier(random_state=42)"
            ]
          },
          "execution_count": 326,
          "metadata": {},
          "output_type": "execute_result"
        }
      ],
      "source": [
        "clf.fit(X_train, y_train)"
      ]
    },
    {
      "cell_type": "code",
      "execution_count": null,
      "id": "1f833f2a-c510-4dd5-93b7-77cb4f0ca367",
      "metadata": {
        "id": "1f833f2a-c510-4dd5-93b7-77cb4f0ca367"
      },
      "outputs": [],
      "source": [
        "y_pred = clf.predict(X_test)\n"
      ]
    },
    {
      "cell_type": "code",
      "execution_count": null,
      "id": "c6097228-11b1-4a5f-8b45-e1e447e292f4",
      "metadata": {
        "id": "c6097228-11b1-4a5f-8b45-e1e447e292f4",
        "outputId": "ac031c70-7e67-44a3-a8b3-3dbb84e0f9a5"
      },
      "outputs": [
        {
          "name": "stdout",
          "output_type": "stream",
          "text": [
            "[[156  14  20]\n",
            " [ 29  37  43]\n",
            " [  4   9 313]]\n"
          ]
        }
      ],
      "source": [
        "print(confusion_matrix(y_test, y_pred))"
      ]
    },
    {
      "cell_type": "code",
      "execution_count": null,
      "id": "b231d159-927a-4321-90c2-649a958e37d6",
      "metadata": {
        "id": "b231d159-927a-4321-90c2-649a958e37d6",
        "outputId": "6b948edc-a161-44b3-8e64-0a5df5f4fc2e"
      },
      "outputs": [
        {
          "name": "stdout",
          "output_type": "stream",
          "text": [
            "Accuracy: 0.8096\n"
          ]
        }
      ],
      "source": [
        "print(\"Accuracy:\", accuracy_score(y_test, y_pred))"
      ]
    },
    {
      "cell_type": "code",
      "execution_count": null,
      "id": "ab9484d9-e961-471a-8d3a-d20e155daf45",
      "metadata": {
        "id": "ab9484d9-e961-471a-8d3a-d20e155daf45",
        "outputId": "bb6d0561-ba5d-4932-fa7d-ea511872a738"
      },
      "outputs": [
        {
          "name": "stdout",
          "output_type": "stream",
          "text": [
            "Best Params: {'max_depth': 20, 'min_samples_split': 5, 'n_estimators': 200}\n"
          ]
        }
      ],
      "source": [
        "param_grid = {\n",
        "    'n_estimators': [100, 200, 300],\n",
        "    'max_depth': [None, 10, 20],\n",
        "    'min_samples_split': [2, 5, 10]\n",
        "}\n",
        "\n",
        "grid = GridSearchCV(RandomForestClassifier(random_state=42), param_grid, cv=5)\n",
        "grid.fit(X_train, y_train)\n",
        "\n",
        "print(\"Best Params:\", grid.best_params_)"
      ]
    },
    {
      "cell_type": "code",
      "execution_count": null,
      "id": "56395204-606a-43d4-8b33-0ac25fadb5a8",
      "metadata": {
        "id": "56395204-606a-43d4-8b33-0ac25fadb5a8"
      },
      "outputs": [],
      "source": [
        "best_rf = grid.best_estimator_\n",
        "y_pred_best = best_rf.predict(X_test)"
      ]
    },
    {
      "cell_type": "code",
      "execution_count": null,
      "id": "83736ca3-2206-4b24-8a1f-9978e9afc84c",
      "metadata": {
        "id": "83736ca3-2206-4b24-8a1f-9978e9afc84c",
        "outputId": "c950c3b5-c853-40da-c16a-df430a9b907c"
      },
      "outputs": [
        {
          "name": "stdout",
          "output_type": "stream",
          "text": [
            "              precision    recall  f1-score   support\n",
            "\n",
            "           0       0.83      0.83      0.83       190\n",
            "           1       0.59      0.33      0.42       109\n",
            "           2       0.83      0.95      0.89       326\n",
            "\n",
            "    accuracy                           0.81       625\n",
            "   macro avg       0.75      0.70      0.71       625\n",
            "weighted avg       0.79      0.81      0.79       625\n",
            "\n"
          ]
        }
      ],
      "source": [
        "print(classification_report(y_test, y_pred_best))"
      ]
    },
    {
      "cell_type": "code",
      "execution_count": null,
      "id": "9e41b207-d211-4540-923a-284c137ec8f4",
      "metadata": {
        "id": "9e41b207-d211-4540-923a-284c137ec8f4",
        "outputId": "dbbf34b4-9b71-4deb-9048-3312546346fe"
      },
      "outputs": [
        {
          "name": "stdout",
          "output_type": "stream",
          "text": [
            "Final Accuracy: 0.8064\n"
          ]
        }
      ],
      "source": [
        "print(\"Final Accuracy:\", accuracy_score(y_test, y_pred_best))"
      ]
    },
    {
      "cell_type": "code",
      "execution_count": null,
      "id": "e6901613-0b7b-46f4-844a-5d7cba1c32d6",
      "metadata": {
        "id": "e6901613-0b7b-46f4-844a-5d7cba1c32d6",
        "outputId": "0857f9b4-12f8-4397-b652-bcdbcb40074a"
      },
      "outputs": [
        {
          "name": "stdout",
          "output_type": "stream",
          "text": [
            "Target\n",
            "2    0.521781\n",
            "0    0.304612\n",
            "1    0.173607\n",
            "Name: proportion, dtype: float64\n"
          ]
        }
      ],
      "source": [
        "print(df['Target'].value_counts(normalize=True))"
      ]
    },
    {
      "cell_type": "markdown",
      "id": "b39a30e4-7134-4a97-a166-fcf461fec5e2",
      "metadata": {
        "id": "b39a30e4-7134-4a97-a166-fcf461fec5e2"
      },
      "source": [
        "## **6. Model Training & Evaluation - XGBoost**"
      ]
    },
    {
      "cell_type": "code",
      "execution_count": null,
      "id": "bfbe32ac-c8fa-46ce-90c5-606ac12ef4b1",
      "metadata": {
        "id": "bfbe32ac-c8fa-46ce-90c5-606ac12ef4b1"
      },
      "outputs": [],
      "source": [
        "from xgboost import XGBClassifier\n",
        "\n",
        "xgb = XGBClassifier(\n",
        "    Aobjective='multi:softmax',\n",
        "    num_class=3,   # Because you have 3 classes!\n",
        "    eval_metric='mlogloss',\n",
        "    use_label_encoder=False,\n",
        "    random_state=42\n",
        ")"
      ]
    },
    {
      "cell_type": "code",
      "execution_count": null,
      "id": "83b99424-7164-43c6-a5bf-bbae68cfe8ce",
      "metadata": {
        "id": "83b99424-7164-43c6-a5bf-bbae68cfe8ce"
      },
      "outputs": [],
      "source": [
        "import warnings\n",
        "warnings.filterwarnings('ignore')"
      ]
    },
    {
      "cell_type": "code",
      "execution_count": null,
      "id": "b34f2601-cd5e-4506-9461-dc56d38b5447",
      "metadata": {
        "id": "b34f2601-cd5e-4506-9461-dc56d38b5447",
        "outputId": "0cdbedbf-56f4-4786-bd00-a96cd9238c14"
      },
      "outputs": [
        {
          "name": "stdout",
          "output_type": "stream",
          "text": [
            "\n",
            "Confusion Matrix:\n",
            " [[156  16  18]\n",
            " [ 30  43  36]\n",
            " [  6  16 304]]\n",
            "\n",
            "Classification Report:\n",
            "               precision    recall  f1-score   support\n",
            "\n",
            "           0       0.81      0.82      0.82       190\n",
            "           1       0.57      0.39      0.47       109\n",
            "           2       0.85      0.93      0.89       326\n",
            "\n",
            "    accuracy                           0.80       625\n",
            "   macro avg       0.74      0.72      0.72       625\n",
            "weighted avg       0.79      0.80      0.79       625\n",
            "\n",
            "Accuracy: 80.48%\n"
          ]
        }
      ],
      "source": [
        "xgb.fit(X_train, y_train)\n",
        "\n",
        "y_pred = xgb.predict(X_test)\n",
        "\n",
        "print(\"\\nConfusion Matrix:\\n\", confusion_matrix(y_test, y_pred))\n",
        "print(\"\\nClassification Report:\\n\", classification_report(y_test, y_pred))\n",
        "print(\"Accuracy: {:.2f}%\".format(accuracy_score(y_test, y_pred)*100))"
      ]
    },
    {
      "cell_type": "code",
      "execution_count": null,
      "id": "7c84f361-e223-440e-a499-0e45499c13b1",
      "metadata": {
        "id": "7c84f361-e223-440e-a499-0e45499c13b1",
        "outputId": "9a9dfcde-d6d1-453d-9e13-7080644c91e3"
      },
      "outputs": [
        {
          "data": {
            "image/png": "[encoded data removed]",
            "text/plain": [
              "<Figure size 640x480 with 2 Axes>"
            ]
          },
          "metadata": {},
          "output_type": "display_data"
        }
      ],
      "source": [
        "xgb_preds = xgb.predict(X_test)\n",
        "\n",
        "cm_xgb = confusion_matrix(y_true, xgb_preds)\n",
        "\n",
        "disp_xgb = ConfusionMatrixDisplay(confusion_matrix=cm_xgb)\n",
        "disp_xgb.plot(cmap='Greens')\n",
        "plt.title(\"Confusion Matrix — XGBoost\")\n",
        "plt.show()"
      ]
    },
    {
      "cell_type": "markdown",
      "id": "774494f3-ac96-4239-a72c-f314aa80f8f1",
      "metadata": {
        "id": "774494f3-ac96-4239-a72c-f314aa80f8f1"
      },
      "source": [
        "## **Insight**\n",
        "- XGBoost shows more class overlap with higher misclassifications.\n",
        "- Its confusion matrix proves it struggles more than the MLP on this data."
      ]
    },
    {
      "cell_type": "markdown",
      "id": "c985bd1a-1144-4299-bfaf-07fb0ac3b209",
      "metadata": {
        "id": "c985bd1a-1144-4299-bfaf-07fb0ac3b209"
      },
      "source": [
        "## **7. Model Training & Evaluation - Multi-Layer-Percepton (MLP)**"
      ]
    },
    {
      "cell_type": "code",
      "execution_count": null,
      "id": "bc37ca84-ec00-4a04-b417-901e702bad33",
      "metadata": {
        "id": "bc37ca84-ec00-4a04-b417-901e702bad33"
      },
      "outputs": [],
      "source": [
        "from tensorflow.keras.models import Sequential\n",
        "from tensorflow.keras.layers import Dense, Dropout, BatchNormalization\n",
        "from tensorflow.keras.callbacks import EarlyStopping, ReduceLROnPlateau\n",
        "from sklearn.model_selection import train_test_split\n",
        "from sklearn.preprocessing import StandardScaler\n",
        "from tensorflow.keras.utils import to_categorical"
      ]
    },
    {
      "cell_type": "code",
      "execution_count": null,
      "id": "3845ab49-ecb2-4e15-90f4-664bb2670c39",
      "metadata": {
        "id": "3845ab49-ecb2-4e15-90f4-664bb2670c39"
      },
      "outputs": [],
      "source": [
        "df.columns = df.columns.str.strip().str.replace(' ', '_')\n",
        "\n",
        "# Features & target\n",
        "X = df.drop('Target', axis=1)\n",
        "y = df['Target']\n",
        "\n",
        "# One-hot encode Target for softmax\n",
        "y_cat = to_categorical(y, num_classes=3)\n",
        "\n",
        "# Scale numeric features\n",
        "scaler = StandardScaler()\n",
        "X_scaled = scaler.fit_transform(X)\n",
        "\n",
        "# Train / Validation / Test split\n",
        "X_train, X_test, y_train, y_test = train_test_split(\n",
        "    X_scaled, y_cat, test_size=0.2, random_state=42, stratify=y_cat)\n",
        "\n",
        "X_train, X_val, y_train, y_val = train_test_split(\n",
        "    X_train, y_train, test_size=0.2, random_state=42, stratify=y_train)\n"
      ]
    },
    {
      "cell_type": "code",
      "execution_count": null,
      "id": "ddf16ec6-67b8-4f3e-8714-2a795f552cd9",
      "metadata": {
        "id": "ddf16ec6-67b8-4f3e-8714-2a795f552cd9"
      },
      "outputs": [],
      "source": [
        "from tensorflow.keras import Sequential\n",
        "from tensorflow.keras.layers import Dense, Dropout, BatchNormalization\n",
        "\n",
        "model = Sequential([\n",
        "    Dense(512, activation='relu', input_shape=(X_train.shape[1],)),\n",
        "    BatchNormalization(),\n",
        "    Dropout(0.5),\n",
        "    Dense(256, activation='relu'),\n",
        "    BatchNormalization(),\n",
        "    Dropout(0.4),\n",
        "    Dense(128, activation='relu'),\n",
        "    Dropout(0.3),\n",
        "    Dense(3, activation='softmax')\n",
        "])\n"
      ]
    },
    {
      "cell_type": "code",
      "execution_count": null,
      "id": "a0d1ea8b-8042-44b4-9da1-b9e6322f7c25",
      "metadata": {
        "id": "a0d1ea8b-8042-44b4-9da1-b9e6322f7c25",
        "outputId": "7eb67640-9320-4af1-b425-5e85b5db6f66"
      },
      "outputs": [
        {
          "data": {
            "text/html": [
              "<pre style=\"white-space:pre;overflow-x:auto;line-height:normal;font-family:Menlo,'DejaVu Sans Mono',consolas,'Courier New',monospace\"><span style=\"font-weight: bold\">Model: \"sequential_11\"</span>\n",
              "</pre>\n"
            ],
            "text/plain": [
              "\u001b[1mModel: \"sequential_11\"\u001b[0m\n"
            ]
          },
          "metadata": {},
          "output_type": "display_data"
        },
        {
          "data": {
            "text/html": [
              "<pre style=\"white-space:pre;overflow-x:auto;line-height:normal;font-family:Menlo,'DejaVu Sans Mono',consolas,'Courier New',monospace\">┏━━━━━━━━━━━━━━━━━━━━━━━━━━━━━━━━━━━━━━┳━━━━━━━━━━━━━━━━━━━━━━━━━━━━━┳━━━━━━━━━━━━━━━━━┓\n",
              "┃<span style=\"font-weight: bold\"> Layer (type)                         </span>┃<span style=\"font-weight: bold\"> Output Shape                </span>┃<span style=\"font-weight: bold\">         Param # </span>┃\n",
              "┡━━━━━━━━━━━━━━━━━━━━━━━━━━━━━━━━━━━━━━╇━━━━━━━━━━━━━━━━━━━━━━━━━━━━━╇━━━━━━━━━━━━━━━━━┩\n",
              "│ dense_46 (<span style=\"color: #0087ff; text-decoration-color: #0087ff\">Dense</span>)                     │ (<span style=\"color: #00d7ff; text-decoration-color: #00d7ff\">None</span>, <span style=\"color: #00af00; text-decoration-color: #00af00\">512</span>)                 │          <span style=\"color: #00af00; text-decoration-color: #00af00\">17,920</span> │\n",
              "├──────────────────────────────────────┼─────────────────────────────┼─────────────────┤\n",
              "│ batch_normalization_24               │ (<span style=\"color: #00d7ff; text-decoration-color: #00d7ff\">None</span>, <span style=\"color: #00af00; text-decoration-color: #00af00\">512</span>)                 │           <span style=\"color: #00af00; text-decoration-color: #00af00\">2,048</span> │\n",
              "│ (<span style=\"color: #0087ff; text-decoration-color: #0087ff\">BatchNormalization</span>)                 │                             │                 │\n",
              "├──────────────────────────────────────┼─────────────────────────────┼─────────────────┤\n",
              "│ dropout_35 (<span style=\"color: #0087ff; text-decoration-color: #0087ff\">Dropout</span>)                 │ (<span style=\"color: #00d7ff; text-decoration-color: #00d7ff\">None</span>, <span style=\"color: #00af00; text-decoration-color: #00af00\">512</span>)                 │               <span style=\"color: #00af00; text-decoration-color: #00af00\">0</span> │\n",
              "├──────────────────────────────────────┼─────────────────────────────┼─────────────────┤\n",
              "│ dense_47 (<span style=\"color: #0087ff; text-decoration-color: #0087ff\">Dense</span>)                     │ (<span style=\"color: #00d7ff; text-decoration-color: #00d7ff\">None</span>, <span style=\"color: #00af00; text-decoration-color: #00af00\">256</span>)                 │         <span style=\"color: #00af00; text-decoration-color: #00af00\">131,328</span> │\n",
              "├──────────────────────────────────────┼─────────────────────────────┼─────────────────┤\n",
              "│ batch_normalization_25               │ (<span style=\"color: #00d7ff; text-decoration-color: #00d7ff\">None</span>, <span style=\"color: #00af00; text-decoration-color: #00af00\">256</span>)                 │           <span style=\"color: #00af00; text-decoration-color: #00af00\">1,024</span> │\n",
              "│ (<span style=\"color: #0087ff; text-decoration-color: #0087ff\">BatchNormalization</span>)                 │                             │                 │\n",
              "├──────────────────────────────────────┼─────────────────────────────┼─────────────────┤\n",
              "│ dropout_36 (<span style=\"color: #0087ff; text-decoration-color: #0087ff\">Dropout</span>)                 │ (<span style=\"color: #00d7ff; text-decoration-color: #00d7ff\">None</span>, <span style=\"color: #00af00; text-decoration-color: #00af00\">256</span>)                 │               <span style=\"color: #00af00; text-decoration-color: #00af00\">0</span> │\n",
              "├──────────────────────────────────────┼─────────────────────────────┼─────────────────┤\n",
              "│ dense_48 (<span style=\"color: #0087ff; text-decoration-color: #0087ff\">Dense</span>)                     │ (<span style=\"color: #00d7ff; text-decoration-color: #00d7ff\">None</span>, <span style=\"color: #00af00; text-decoration-color: #00af00\">128</span>)                 │          <span style=\"color: #00af00; text-decoration-color: #00af00\">32,896</span> │\n",
              "├──────────────────────────────────────┼─────────────────────────────┼─────────────────┤\n",
              "│ dropout_37 (<span style=\"color: #0087ff; text-decoration-color: #0087ff\">Dropout</span>)                 │ (<span style=\"color: #00d7ff; text-decoration-color: #00d7ff\">None</span>, <span style=\"color: #00af00; text-decoration-color: #00af00\">128</span>)                 │               <span style=\"color: #00af00; text-decoration-color: #00af00\">0</span> │\n",
              "├──────────────────────────────────────┼─────────────────────────────┼─────────────────┤\n",
              "│ dense_49 (<span style=\"color: #0087ff; text-decoration-color: #0087ff\">Dense</span>)                     │ (<span style=\"color: #00d7ff; text-decoration-color: #00d7ff\">None</span>, <span style=\"color: #00af00; text-decoration-color: #00af00\">3</span>)                   │             <span style=\"color: #00af00; text-decoration-color: #00af00\">387</span> │\n",
              "└──────────────────────────────────────┴─────────────────────────────┴─────────────────┘\n",
              "</pre>\n"
            ],
            "text/plain": [
              "┏━━━━━━━━━━━━━━━━━━━━━━━━━━━━━━━━━━━━━━┳━━━━━━━━━━━━━━━━━━━━━━━━━━━━━┳━━━━━━━━━━━━━━━━━┓\n",
              "┃\u001b[1m \u001b[0m\u001b[1mLayer (type)                        \u001b[0m\u001b[1m \u001b[0m┃\u001b[1m \u001b[0m\u001b[1mOutput Shape               \u001b[0m\u001b[1m \u001b[0m┃\u001b[1m \u001b[0m\u001b[1m        Param #\u001b[0m\u001b[1m \u001b[0m┃\n",
              "┡━━━━━━━━━━━━━━━━━━━━━━━━━━━━━━━━━━━━━━╇━━━━━━━━━━━━━━━━━━━━━━━━━━━━━╇━━━━━━━━━━━━━━━━━┩\n",
              "│ dense_46 (\u001b[38;5;33mDense\u001b[0m)                     │ (\u001b[38;5;45mNone\u001b[0m, \u001b[38;5;34m512\u001b[0m)                 │          \u001b[38;5;34m17,920\u001b[0m │\n",
              "├──────────────────────────────────────┼─────────────────────────────┼─────────────────┤\n",
              "│ batch_normalization_24               │ (\u001b[38;5;45mNone\u001b[0m, \u001b[38;5;34m512\u001b[0m)                 │           \u001b[38;5;34m2,048\u001b[0m │\n",
              "│ (\u001b[38;5;33mBatchNormalization\u001b[0m)                 │                             │                 │\n",
              "├──────────────────────────────────────┼─────────────────────────────┼─────────────────┤\n",
              "│ dropout_35 (\u001b[38;5;33mDropout\u001b[0m)                 │ (\u001b[38;5;45mNone\u001b[0m, \u001b[38;5;34m512\u001b[0m)                 │               \u001b[38;5;34m0\u001b[0m │\n",
              "├──────────────────────────────────────┼─────────────────────────────┼─────────────────┤\n",
              "│ dense_47 (\u001b[38;5;33mDense\u001b[0m)                     │ (\u001b[38;5;45mNone\u001b[0m, \u001b[38;5;34m256\u001b[0m)                 │         \u001b[38;5;34m131,328\u001b[0m │\n",
              "├──────────────────────────────────────┼─────────────────────────────┼─────────────────┤\n",
              "│ batch_normalization_25               │ (\u001b[38;5;45mNone\u001b[0m, \u001b[38;5;34m256\u001b[0m)                 │           \u001b[38;5;34m1,024\u001b[0m │\n",
              "│ (\u001b[38;5;33mBatchNormalization\u001b[0m)                 │                             │                 │\n",
              "├──────────────────────────────────────┼─────────────────────────────┼─────────────────┤\n",
              "│ dropout_36 (\u001b[38;5;33mDropout\u001b[0m)                 │ (\u001b[38;5;45mNone\u001b[0m, \u001b[38;5;34m256\u001b[0m)                 │               \u001b[38;5;34m0\u001b[0m │\n",
              "├──────────────────────────────────────┼─────────────────────────────┼─────────────────┤\n",
              "│ dense_48 (\u001b[38;5;33mDense\u001b[0m)                     │ (\u001b[38;5;45mNone\u001b[0m, \u001b[38;5;34m128\u001b[0m)                 │          \u001b[38;5;34m32,896\u001b[0m │\n",
              "├──────────────────────────────────────┼─────────────────────────────┼─────────────────┤\n",
              "│ dropout_37 (\u001b[38;5;33mDropout\u001b[0m)                 │ (\u001b[38;5;45mNone\u001b[0m, \u001b[38;5;34m128\u001b[0m)                 │               \u001b[38;5;34m0\u001b[0m │\n",
              "├──────────────────────────────────────┼─────────────────────────────┼─────────────────┤\n",
              "│ dense_49 (\u001b[38;5;33mDense\u001b[0m)                     │ (\u001b[38;5;45mNone\u001b[0m, \u001b[38;5;34m3\u001b[0m)                   │             \u001b[38;5;34m387\u001b[0m │\n",
              "└──────────────────────────────────────┴─────────────────────────────┴─────────────────┘\n"
            ]
          },
          "metadata": {},
          "output_type": "display_data"
        },
        {
          "data": {
            "text/html": [
              "<pre style=\"white-space:pre;overflow-x:auto;line-height:normal;font-family:Menlo,'DejaVu Sans Mono',consolas,'Courier New',monospace\"><span style=\"font-weight: bold\"> Total params: </span><span style=\"color: #00af00; text-decoration-color: #00af00\">185,603</span> (725.01 KB)\n",
              "</pre>\n"
            ],
            "text/plain": [
              "\u001b[1m Total params: \u001b[0m\u001b[38;5;34m185,603\u001b[0m (725.01 KB)\n"
            ]
          },
          "metadata": {},
          "output_type": "display_data"
        },
        {
          "data": {
            "text/html": [
              "<pre style=\"white-space:pre;overflow-x:auto;line-height:normal;font-family:Menlo,'DejaVu Sans Mono',consolas,'Courier New',monospace\"><span style=\"font-weight: bold\"> Trainable params: </span><span style=\"color: #00af00; text-decoration-color: #00af00\">184,067</span> (719.01 KB)\n",
              "</pre>\n"
            ],
            "text/plain": [
              "\u001b[1m Trainable params: \u001b[0m\u001b[38;5;34m184,067\u001b[0m (719.01 KB)\n"
            ]
          },
          "metadata": {},
          "output_type": "display_data"
        },
        {
          "data": {
            "text/html": [
              "<pre style=\"white-space:pre;overflow-x:auto;line-height:normal;font-family:Menlo,'DejaVu Sans Mono',consolas,'Courier New',monospace\"><span style=\"font-weight: bold\"> Non-trainable params: </span><span style=\"color: #00af00; text-decoration-color: #00af00\">1,536</span> (6.00 KB)\n",
              "</pre>\n"
            ],
            "text/plain": [
              "\u001b[1m Non-trainable params: \u001b[0m\u001b[38;5;34m1,536\u001b[0m (6.00 KB)\n"
            ]
          },
          "metadata": {},
          "output_type": "display_data"
        }
      ],
      "source": [
        "model.compile(optimizer='adam',\n",
        "              loss='categorical_crossentropy',\n",
        "              metrics=['accuracy'])\n",
        "\n",
        "model.summary()\n"
      ]
    },
    {
      "cell_type": "code",
      "execution_count": null,
      "id": "7391b9e6-b5b3-4c49-ac72-382bb8c2c29d",
      "metadata": {
        "id": "7391b9e6-b5b3-4c49-ac72-382bb8c2c29d",
        "outputId": "9b483560-9df6-480f-c514-0adc4c117fa4"
      },
      "outputs": [
        {
          "data": {
            "text/html": [
              "<pre style=\"white-space:pre;overflow-x:auto;line-height:normal;font-family:Menlo,'DejaVu Sans Mono',consolas,'Courier New',monospace\"><span style=\"font-weight: bold\">Model: \"sequential_13\"</span>\n",
              "</pre>\n"
            ],
            "text/plain": [
              "\u001b[1mModel: \"sequential_13\"\u001b[0m\n"
            ]
          },
          "metadata": {},
          "output_type": "display_data"
        },
        {
          "data": {
            "text/html": [
              "<pre style=\"white-space:pre;overflow-x:auto;line-height:normal;font-family:Menlo,'DejaVu Sans Mono',consolas,'Courier New',monospace\">┏━━━━━━━━━━━━━━━━━━━━━━━━━━━━━━━━━━━━━━┳━━━━━━━━━━━━━━━━━━━━━━━━━━━━━┳━━━━━━━━━━━━━━━━━┓\n",
              "┃<span style=\"font-weight: bold\"> Layer (type)                         </span>┃<span style=\"font-weight: bold\"> Output Shape                </span>┃<span style=\"font-weight: bold\">         Param # </span>┃\n",
              "┡━━━━━━━━━━━━━━━━━━━━━━━━━━━━━━━━━━━━━━╇━━━━━━━━━━━━━━━━━━━━━━━━━━━━━╇━━━━━━━━━━━━━━━━━┩\n",
              "│ dense_55 (<span style=\"color: #0087ff; text-decoration-color: #0087ff\">Dense</span>)                     │ (<span style=\"color: #00d7ff; text-decoration-color: #00d7ff\">None</span>, <span style=\"color: #00af00; text-decoration-color: #00af00\">512</span>)                 │          <span style=\"color: #00af00; text-decoration-color: #00af00\">17,920</span> │\n",
              "├──────────────────────────────────────┼─────────────────────────────┼─────────────────┤\n",
              "│ batch_normalization_29               │ (<span style=\"color: #00d7ff; text-decoration-color: #00d7ff\">None</span>, <span style=\"color: #00af00; text-decoration-color: #00af00\">512</span>)                 │           <span style=\"color: #00af00; text-decoration-color: #00af00\">2,048</span> │\n",
              "│ (<span style=\"color: #0087ff; text-decoration-color: #0087ff\">BatchNormalization</span>)                 │                             │                 │\n",
              "├──────────────────────────────────────┼─────────────────────────────┼─────────────────┤\n",
              "│ dropout_42 (<span style=\"color: #0087ff; text-decoration-color: #0087ff\">Dropout</span>)                 │ (<span style=\"color: #00d7ff; text-decoration-color: #00d7ff\">None</span>, <span style=\"color: #00af00; text-decoration-color: #00af00\">512</span>)                 │               <span style=\"color: #00af00; text-decoration-color: #00af00\">0</span> │\n",
              "├──────────────────────────────────────┼─────────────────────────────┼─────────────────┤\n",
              "│ dense_56 (<span style=\"color: #0087ff; text-decoration-color: #0087ff\">Dense</span>)                     │ (<span style=\"color: #00d7ff; text-decoration-color: #00d7ff\">None</span>, <span style=\"color: #00af00; text-decoration-color: #00af00\">256</span>)                 │         <span style=\"color: #00af00; text-decoration-color: #00af00\">131,328</span> │\n",
              "├──────────────────────────────────────┼─────────────────────────────┼─────────────────┤\n",
              "│ batch_normalization_30               │ (<span style=\"color: #00d7ff; text-decoration-color: #00d7ff\">None</span>, <span style=\"color: #00af00; text-decoration-color: #00af00\">256</span>)                 │           <span style=\"color: #00af00; text-decoration-color: #00af00\">1,024</span> │\n",
              "│ (<span style=\"color: #0087ff; text-decoration-color: #0087ff\">BatchNormalization</span>)                 │                             │                 │\n",
              "├──────────────────────────────────────┼─────────────────────────────┼─────────────────┤\n",
              "│ dropout_43 (<span style=\"color: #0087ff; text-decoration-color: #0087ff\">Dropout</span>)                 │ (<span style=\"color: #00d7ff; text-decoration-color: #00d7ff\">None</span>, <span style=\"color: #00af00; text-decoration-color: #00af00\">256</span>)                 │               <span style=\"color: #00af00; text-decoration-color: #00af00\">0</span> │\n",
              "├──────────────────────────────────────┼─────────────────────────────┼─────────────────┤\n",
              "│ dense_57 (<span style=\"color: #0087ff; text-decoration-color: #0087ff\">Dense</span>)                     │ (<span style=\"color: #00d7ff; text-decoration-color: #00d7ff\">None</span>, <span style=\"color: #00af00; text-decoration-color: #00af00\">128</span>)                 │          <span style=\"color: #00af00; text-decoration-color: #00af00\">32,896</span> │\n",
              "├──────────────────────────────────────┼─────────────────────────────┼─────────────────┤\n",
              "│ batch_normalization_31               │ (<span style=\"color: #00d7ff; text-decoration-color: #00d7ff\">None</span>, <span style=\"color: #00af00; text-decoration-color: #00af00\">128</span>)                 │             <span style=\"color: #00af00; text-decoration-color: #00af00\">512</span> │\n",
              "│ (<span style=\"color: #0087ff; text-decoration-color: #0087ff\">BatchNormalization</span>)                 │                             │                 │\n",
              "├──────────────────────────────────────┼─────────────────────────────┼─────────────────┤\n",
              "│ dropout_44 (<span style=\"color: #0087ff; text-decoration-color: #0087ff\">Dropout</span>)                 │ (<span style=\"color: #00d7ff; text-decoration-color: #00d7ff\">None</span>, <span style=\"color: #00af00; text-decoration-color: #00af00\">128</span>)                 │               <span style=\"color: #00af00; text-decoration-color: #00af00\">0</span> │\n",
              "├──────────────────────────────────────┼─────────────────────────────┼─────────────────┤\n",
              "│ dense_58 (<span style=\"color: #0087ff; text-decoration-color: #0087ff\">Dense</span>)                     │ (<span style=\"color: #00d7ff; text-decoration-color: #00d7ff\">None</span>, <span style=\"color: #00af00; text-decoration-color: #00af00\">64</span>)                  │           <span style=\"color: #00af00; text-decoration-color: #00af00\">8,256</span> │\n",
              "├──────────────────────────────────────┼─────────────────────────────┼─────────────────┤\n",
              "│ dropout_45 (<span style=\"color: #0087ff; text-decoration-color: #0087ff\">Dropout</span>)                 │ (<span style=\"color: #00d7ff; text-decoration-color: #00d7ff\">None</span>, <span style=\"color: #00af00; text-decoration-color: #00af00\">64</span>)                  │               <span style=\"color: #00af00; text-decoration-color: #00af00\">0</span> │\n",
              "├──────────────────────────────────────┼─────────────────────────────┼─────────────────┤\n",
              "│ dense_59 (<span style=\"color: #0087ff; text-decoration-color: #0087ff\">Dense</span>)                     │ (<span style=\"color: #00d7ff; text-decoration-color: #00d7ff\">None</span>, <span style=\"color: #00af00; text-decoration-color: #00af00\">3</span>)                   │             <span style=\"color: #00af00; text-decoration-color: #00af00\">195</span> │\n",
              "└──────────────────────────────────────┴─────────────────────────────┴─────────────────┘\n",
              "</pre>\n"
            ],
            "text/plain": [
              "┏━━━━━━━━━━━━━━━━━━━━━━━━━━━━━━━━━━━━━━┳━━━━━━━━━━━━━━━━━━━━━━━━━━━━━┳━━━━━━━━━━━━━━━━━┓\n",
              "┃\u001b[1m \u001b[0m\u001b[1mLayer (type)                        \u001b[0m\u001b[1m \u001b[0m┃\u001b[1m \u001b[0m\u001b[1mOutput Shape               \u001b[0m\u001b[1m \u001b[0m┃\u001b[1m \u001b[0m\u001b[1m        Param #\u001b[0m\u001b[1m \u001b[0m┃\n",
              "┡━━━━━━━━━━━━━━━━━━━━━━━━━━━━━━━━━━━━━━╇━━━━━━━━━━━━━━━━━━━━━━━━━━━━━╇━━━━━━━━━━━━━━━━━┩\n",
              "│ dense_55 (\u001b[38;5;33mDense\u001b[0m)                     │ (\u001b[38;5;45mNone\u001b[0m, \u001b[38;5;34m512\u001b[0m)                 │          \u001b[38;5;34m17,920\u001b[0m │\n",
              "├──────────────────────────────────────┼─────────────────────────────┼─────────────────┤\n",
              "│ batch_normalization_29               │ (\u001b[38;5;45mNone\u001b[0m, \u001b[38;5;34m512\u001b[0m)                 │           \u001b[38;5;34m2,048\u001b[0m │\n",
              "│ (\u001b[38;5;33mBatchNormalization\u001b[0m)                 │                             │                 │\n",
              "├──────────────────────────────────────┼─────────────────────────────┼─────────────────┤\n",
              "│ dropout_42 (\u001b[38;5;33mDropout\u001b[0m)                 │ (\u001b[38;5;45mNone\u001b[0m, \u001b[38;5;34m512\u001b[0m)                 │               \u001b[38;5;34m0\u001b[0m │\n",
              "├──────────────────────────────────────┼─────────────────────────────┼─────────────────┤\n",
              "│ dense_56 (\u001b[38;5;33mDense\u001b[0m)                     │ (\u001b[38;5;45mNone\u001b[0m, \u001b[38;5;34m256\u001b[0m)                 │         \u001b[38;5;34m131,328\u001b[0m │\n",
              "├──────────────────────────────────────┼─────────────────────────────┼─────────────────┤\n",
              "│ batch_normalization_30               │ (\u001b[38;5;45mNone\u001b[0m, \u001b[38;5;34m256\u001b[0m)                 │           \u001b[38;5;34m1,024\u001b[0m │\n",
              "│ (\u001b[38;5;33mBatchNormalization\u001b[0m)                 │                             │                 │\n",
              "├──────────────────────────────────────┼─────────────────────────────┼─────────────────┤\n",
              "│ dropout_43 (\u001b[38;5;33mDropout\u001b[0m)                 │ (\u001b[38;5;45mNone\u001b[0m, \u001b[38;5;34m256\u001b[0m)                 │               \u001b[38;5;34m0\u001b[0m │\n",
              "├──────────────────────────────────────┼─────────────────────────────┼─────────────────┤\n",
              "│ dense_57 (\u001b[38;5;33mDense\u001b[0m)                     │ (\u001b[38;5;45mNone\u001b[0m, \u001b[38;5;34m128\u001b[0m)                 │          \u001b[38;5;34m32,896\u001b[0m │\n",
              "├──────────────────────────────────────┼─────────────────────────────┼─────────────────┤\n",
              "│ batch_normalization_31               │ (\u001b[38;5;45mNone\u001b[0m, \u001b[38;5;34m128\u001b[0m)                 │             \u001b[38;5;34m512\u001b[0m │\n",
              "│ (\u001b[38;5;33mBatchNormalization\u001b[0m)                 │                             │                 │\n",
              "├──────────────────────────────────────┼─────────────────────────────┼─────────────────┤\n",
              "│ dropout_44 (\u001b[38;5;33mDropout\u001b[0m)                 │ (\u001b[38;5;45mNone\u001b[0m, \u001b[38;5;34m128\u001b[0m)                 │               \u001b[38;5;34m0\u001b[0m │\n",
              "├──────────────────────────────────────┼─────────────────────────────┼─────────────────┤\n",
              "│ dense_58 (\u001b[38;5;33mDense\u001b[0m)                     │ (\u001b[38;5;45mNone\u001b[0m, \u001b[38;5;34m64\u001b[0m)                  │           \u001b[38;5;34m8,256\u001b[0m │\n",
              "├──────────────────────────────────────┼─────────────────────────────┼─────────────────┤\n",
              "│ dropout_45 (\u001b[38;5;33mDropout\u001b[0m)                 │ (\u001b[38;5;45mNone\u001b[0m, \u001b[38;5;34m64\u001b[0m)                  │               \u001b[38;5;34m0\u001b[0m │\n",
              "├──────────────────────────────────────┼─────────────────────────────┼─────────────────┤\n",
              "│ dense_59 (\u001b[38;5;33mDense\u001b[0m)                     │ (\u001b[38;5;45mNone\u001b[0m, \u001b[38;5;34m3\u001b[0m)                   │             \u001b[38;5;34m195\u001b[0m │\n",
              "└──────────────────────────────────────┴─────────────────────────────┴─────────────────┘\n"
            ]
          },
          "metadata": {},
          "output_type": "display_data"
        },
        {
          "data": {
            "text/html": [
              "<pre style=\"white-space:pre;overflow-x:auto;line-height:normal;font-family:Menlo,'DejaVu Sans Mono',consolas,'Courier New',monospace\"><span style=\"font-weight: bold\"> Total params: </span><span style=\"color: #00af00; text-decoration-color: #00af00\">194,179</span> (758.51 KB)\n",
              "</pre>\n"
            ],
            "text/plain": [
              "\u001b[1m Total params: \u001b[0m\u001b[38;5;34m194,179\u001b[0m (758.51 KB)\n"
            ]
          },
          "metadata": {},
          "output_type": "display_data"
        },
        {
          "data": {
            "text/html": [
              "<pre style=\"white-space:pre;overflow-x:auto;line-height:normal;font-family:Menlo,'DejaVu Sans Mono',consolas,'Courier New',monospace\"><span style=\"font-weight: bold\"> Trainable params: </span><span style=\"color: #00af00; text-decoration-color: #00af00\">192,387</span> (751.51 KB)\n",
              "</pre>\n"
            ],
            "text/plain": [
              "\u001b[1m Trainable params: \u001b[0m\u001b[38;5;34m192,387\u001b[0m (751.51 KB)\n"
            ]
          },
          "metadata": {},
          "output_type": "display_data"
        },
        {
          "data": {
            "text/html": [
              "<pre style=\"white-space:pre;overflow-x:auto;line-height:normal;font-family:Menlo,'DejaVu Sans Mono',consolas,'Courier New',monospace\"><span style=\"font-weight: bold\"> Non-trainable params: </span><span style=\"color: #00af00; text-decoration-color: #00af00\">1,792</span> (7.00 KB)\n",
              "</pre>\n"
            ],
            "text/plain": [
              "\u001b[1m Non-trainable params: \u001b[0m\u001b[38;5;34m1,792\u001b[0m (7.00 KB)\n"
            ]
          },
          "metadata": {},
          "output_type": "display_data"
        }
      ],
      "source": [
        "from tensorflow.keras.models import Sequential\n",
        "from tensorflow.keras.layers import Dense, Dropout, BatchNormalization\n",
        "from tensorflow.keras.optimizers import Adam\n",
        "from tensorflow.keras.callbacks import EarlyStopping, ReduceLROnPlateau\n",
        "\n",
        "# 📌 Redesigned architecture\n",
        "model = Sequential([\n",
        "    Dense(512, activation='relu', input_shape=(X_train.shape[1],)),\n",
        "    BatchNormalization(),\n",
        "    Dropout(0.5),  # Strong regularization\n",
        "\n",
        "    Dense(256, activation='relu'),\n",
        "    BatchNormalization(),\n",
        "    Dropout(0.4),\n",
        "\n",
        "    Dense(128, activation='relu'),\n",
        "    BatchNormalization(),\n",
        "    Dropout(0.3),\n",
        "\n",
        "    Dense(64, activation='relu'),\n",
        "    Dropout(0.2),\n",
        "\n",
        "    Dense(3, activation='softmax')  # 3 classes\n",
        "])\n",
        "\n",
        "# 📌 Use a smaller learning rate for better generalization\n",
        "optimizer = Adam(learning_rate=0.001)\n",
        "\n",
        "model.compile(optimizer=optimizer,\n",
        "              loss='categorical_crossentropy',\n",
        "              metrics=['accuracy'])\n",
        "\n",
        "model.summary()\n"
      ]
    },
    {
      "cell_type": "code",
      "execution_count": null,
      "id": "26208636-a772-484a-9bdb-b4ab6f6f6c68",
      "metadata": {
        "id": "26208636-a772-484a-9bdb-b4ab6f6f6c68",
        "outputId": "32819c5b-1ea4-4399-bd7f-e9e9e104a80b"
      },
      "outputs": [
        {
          "name": "stdout",
          "output_type": "stream",
          "text": [
            "Epoch 1/250\n",
            "\u001b[1m8/8\u001b[0m \u001b[32m━━━━━━━━━━━━━━━━━━━━\u001b[0m\u001b[37m\u001b[0m \u001b[1m0s\u001b[0m 28ms/step - accuracy: 0.9688 - loss: 0.0886 - val_accuracy: 0.7620 - val_loss: 1.2801\n",
            "Epoch 2/250\n",
            "\u001b[1m8/8\u001b[0m \u001b[32m━━━━━━━━━━━━━━━━━━━━\u001b[0m\u001b[37m\u001b[0m \u001b[1m0s\u001b[0m 22ms/step - accuracy: 0.9628 - loss: 0.1063 - val_accuracy: 0.7640 - val_loss: 1.2706\n",
            "Epoch 3/250\n",
            "\u001b[1m8/8\u001b[0m \u001b[32m━━━━━━━━━━━━━━━━━━━━\u001b[0m\u001b[37m\u001b[0m \u001b[1m0s\u001b[0m 21ms/step - accuracy: 0.9602 - loss: 0.0984 - val_accuracy: 0.7620 - val_loss: 1.2822\n",
            "Epoch 4/250\n",
            "\u001b[1m8/8\u001b[0m \u001b[32m━━━━━━━━━━━━━━━━━━━━\u001b[0m\u001b[37m\u001b[0m \u001b[1m0s\u001b[0m 22ms/step - accuracy: 0.9504 - loss: 0.1133 - val_accuracy: 0.7520 - val_loss: 1.2777\n",
            "Epoch 5/250\n",
            "\u001b[1m8/8\u001b[0m \u001b[32m━━━━━━━━━━━━━━━━━━━━\u001b[0m\u001b[37m\u001b[0m \u001b[1m0s\u001b[0m 25ms/step - accuracy: 0.9681 - loss: 0.0994 - val_accuracy: 0.7620 - val_loss: 1.2811\n",
            "Epoch 6/250\n",
            "\u001b[1m8/8\u001b[0m \u001b[32m━━━━━━━━━━━━━━━━━━━━\u001b[0m\u001b[37m\u001b[0m \u001b[1m0s\u001b[0m 25ms/step - accuracy: 0.9644 - loss: 0.0934 - val_accuracy: 0.7680 - val_loss: 1.2921\n",
            "Epoch 7/250\n",
            "\u001b[1m8/8\u001b[0m \u001b[32m━━━━━━━━━━━━━━━━━━━━\u001b[0m\u001b[37m\u001b[0m \u001b[1m0s\u001b[0m 21ms/step - accuracy: 0.9648 - loss: 0.0900 - val_accuracy: 0.7700 - val_loss: 1.2970\n",
            "Epoch 8/250\n",
            "\u001b[1m8/8\u001b[0m \u001b[32m━━━━━━━━━━━━━━━━━━━━\u001b[0m\u001b[37m\u001b[0m \u001b[1m0s\u001b[0m 23ms/step - accuracy: 0.9686 - loss: 0.0914 - val_accuracy: 0.7700 - val_loss: 1.2905\n",
            "Epoch 9/250\n",
            "\u001b[1m8/8\u001b[0m \u001b[32m━━━━━━━━━━━━━━━━━━━━\u001b[0m\u001b[37m\u001b[0m \u001b[1m0s\u001b[0m 22ms/step - accuracy: 0.9649 - loss: 0.0900 - val_accuracy: 0.7700 - val_loss: 1.2999\n",
            "Epoch 10/250\n",
            "\u001b[1m8/8\u001b[0m \u001b[32m━━━━━━━━━━━━━━━━━━━━\u001b[0m\u001b[37m\u001b[0m \u001b[1m0s\u001b[0m 20ms/step - accuracy: 0.9639 - loss: 0.1013 - val_accuracy: 0.7740 - val_loss: 1.3148\n",
            "Epoch 11/250\n",
            "\u001b[1m8/8\u001b[0m \u001b[32m━━━━━━━━━━━━━━━━━━━━\u001b[0m\u001b[37m\u001b[0m \u001b[1m0s\u001b[0m 20ms/step - accuracy: 0.9703 - loss: 0.0886 - val_accuracy: 0.7660 - val_loss: 1.2950\n",
            "Epoch 12/250\n",
            "\u001b[1m8/8\u001b[0m \u001b[32m━━━━━━━━━━━━━━━━━━━━\u001b[0m\u001b[37m\u001b[0m \u001b[1m0s\u001b[0m 21ms/step - accuracy: 0.9638 - loss: 0.1000 - val_accuracy: 0.7720 - val_loss: 1.2797\n",
            "Epoch 13/250\n",
            "\u001b[1m8/8\u001b[0m \u001b[32m━━━━━━━━━━━━━━━━━━━━\u001b[0m\u001b[37m\u001b[0m \u001b[1m0s\u001b[0m 20ms/step - accuracy: 0.9613 - loss: 0.1136 - val_accuracy: 0.7740 - val_loss: 1.2882\n",
            "Epoch 14/250\n",
            "\u001b[1m8/8\u001b[0m \u001b[32m━━━━━━━━━━━━━━━━━━━━\u001b[0m\u001b[37m\u001b[0m \u001b[1m0s\u001b[0m 22ms/step - accuracy: 0.9690 - loss: 0.0770 - val_accuracy: 0.7680 - val_loss: 1.3069\n",
            "Epoch 15/250\n",
            "\u001b[1m8/8\u001b[0m \u001b[32m━━━━━━━━━━━━━━━━━━━━\u001b[0m\u001b[37m\u001b[0m \u001b[1m0s\u001b[0m 21ms/step - accuracy: 0.9680 - loss: 0.0937 - val_accuracy: 0.7620 - val_loss: 1.3146\n",
            "Epoch 16/250\n",
            "\u001b[1m8/8\u001b[0m \u001b[32m━━━━━━━━━━━━━━━━━━━━\u001b[0m\u001b[37m\u001b[0m \u001b[1m0s\u001b[0m 21ms/step - accuracy: 0.9587 - loss: 0.1070 - val_accuracy: 0.7700 - val_loss: 1.3234\n",
            "Epoch 17/250\n",
            "\u001b[1m8/8\u001b[0m \u001b[32m━━━━━━━━━━━━━━━━━━━━\u001b[0m\u001b[37m\u001b[0m \u001b[1m0s\u001b[0m 20ms/step - accuracy: 0.9570 - loss: 0.1132 - val_accuracy: 0.7720 - val_loss: 1.3303\n",
            "Epoch 18/250\n",
            "\u001b[1m8/8\u001b[0m \u001b[32m━━━━━━━━━━━━━━━━━━━━\u001b[0m\u001b[37m\u001b[0m \u001b[1m0s\u001b[0m 20ms/step - accuracy: 0.9601 - loss: 0.0998 - val_accuracy: 0.7820 - val_loss: 1.3114\n",
            "Epoch 19/250\n",
            "\u001b[1m8/8\u001b[0m \u001b[32m━━━━━━━━━━━━━━━━━━━━\u001b[0m\u001b[37m\u001b[0m \u001b[1m0s\u001b[0m 21ms/step - accuracy: 0.9729 - loss: 0.0822 - val_accuracy: 0.7800 - val_loss: 1.3008\n",
            "Epoch 20/250\n",
            "\u001b[1m8/8\u001b[0m \u001b[32m━━━━━━━━━━━━━━━━━━━━\u001b[0m\u001b[37m\u001b[0m \u001b[1m0s\u001b[0m 20ms/step - accuracy: 0.9679 - loss: 0.0792 - val_accuracy: 0.7720 - val_loss: 1.3155\n",
            "Epoch 21/250\n",
            "\u001b[1m8/8\u001b[0m \u001b[32m━━━━━━━━━━━━━━━━━━━━\u001b[0m\u001b[37m\u001b[0m \u001b[1m0s\u001b[0m 21ms/step - accuracy: 0.9697 - loss: 0.0814 - val_accuracy: 0.7740 - val_loss: 1.3436\n",
            "Epoch 22/250\n",
            "\u001b[1m8/8\u001b[0m \u001b[32m━━━━━━━━━━━━━━━━━━━━\u001b[0m\u001b[37m\u001b[0m \u001b[1m0s\u001b[0m 23ms/step - accuracy: 0.9708 - loss: 0.0988 - val_accuracy: 0.7840 - val_loss: 1.3402\n",
            "Epoch 23/250\n",
            "\u001b[1m8/8\u001b[0m \u001b[32m━━━━━━━━━━━━━━━━━━━━\u001b[0m\u001b[37m\u001b[0m \u001b[1m0s\u001b[0m 24ms/step - accuracy: 0.9486 - loss: 0.1258 - val_accuracy: 0.7680 - val_loss: 1.3271\n",
            "Epoch 24/250\n",
            "\u001b[1m8/8\u001b[0m \u001b[32m━━━━━━━━━━━━━━━━━━━━\u001b[0m\u001b[37m\u001b[0m \u001b[1m0s\u001b[0m 22ms/step - accuracy: 0.9615 - loss: 0.0974 - val_accuracy: 0.7660 - val_loss: 1.3110\n",
            "Epoch 25/250\n",
            "\u001b[1m8/8\u001b[0m \u001b[32m━━━━━━━━━━━━━━━━━━━━\u001b[0m\u001b[37m\u001b[0m \u001b[1m0s\u001b[0m 24ms/step - accuracy: 0.9635 - loss: 0.0953 - val_accuracy: 0.7760 - val_loss: 1.3401\n",
            "Epoch 26/250\n",
            "\u001b[1m8/8\u001b[0m \u001b[32m━━━━━━━━━━━━━━━━━━━━\u001b[0m\u001b[37m\u001b[0m \u001b[1m0s\u001b[0m 28ms/step - accuracy: 0.9714 - loss: 0.0880 - val_accuracy: 0.7720 - val_loss: 1.3589\n",
            "Epoch 27/250\n",
            "\u001b[1m8/8\u001b[0m \u001b[32m━━━━━━━━━━━━━━━━━━━━\u001b[0m\u001b[37m\u001b[0m \u001b[1m0s\u001b[0m 21ms/step - accuracy: 0.9790 - loss: 0.0653 - val_accuracy: 0.7720 - val_loss: 1.3837\n",
            "Epoch 28/250\n",
            "\u001b[1m8/8\u001b[0m \u001b[32m━━━━━━━━━━━━━━━━━━━━\u001b[0m\u001b[37m\u001b[0m \u001b[1m0s\u001b[0m 21ms/step - accuracy: 0.9601 - loss: 0.1078 - val_accuracy: 0.7700 - val_loss: 1.3661\n",
            "Epoch 29/250\n",
            "\u001b[1m8/8\u001b[0m \u001b[32m━━━━━━━━━━━━━━━━━━━━\u001b[0m\u001b[37m\u001b[0m \u001b[1m0s\u001b[0m 22ms/step - accuracy: 0.9689 - loss: 0.0872 - val_accuracy: 0.7640 - val_loss: 1.3527\n",
            "Epoch 30/250\n",
            "\u001b[1m8/8\u001b[0m \u001b[32m━━━━━━━━━━━━━━━━━━━━\u001b[0m\u001b[37m\u001b[0m \u001b[1m0s\u001b[0m 24ms/step - accuracy: 0.9712 - loss: 0.0783 - val_accuracy: 0.7660 - val_loss: 1.3223\n",
            "Epoch 31/250\n",
            "\u001b[1m8/8\u001b[0m \u001b[32m━━━━━━━━━━━━━━━━━━━━\u001b[0m\u001b[37m\u001b[0m \u001b[1m0s\u001b[0m 22ms/step - accuracy: 0.9621 - loss: 0.1091 - val_accuracy: 0.7700 - val_loss: 1.3241\n",
            "Epoch 32/250\n",
            "\u001b[1m8/8\u001b[0m \u001b[32m━━━━━━━━━━━━━━━━━━━━\u001b[0m\u001b[37m\u001b[0m \u001b[1m0s\u001b[0m 22ms/step - accuracy: 0.9572 - loss: 0.1108 - val_accuracy: 0.7660 - val_loss: 1.3190\n",
            "Epoch 33/250\n",
            "\u001b[1m8/8\u001b[0m \u001b[32m━━━━━━━━━━━━━━━━━━━━\u001b[0m\u001b[37m\u001b[0m \u001b[1m0s\u001b[0m 24ms/step - accuracy: 0.9624 - loss: 0.1024 - val_accuracy: 0.7720 - val_loss: 1.3382\n",
            "Epoch 34/250\n",
            "\u001b[1m8/8\u001b[0m \u001b[32m━━━━━━━━━━━━━━━━━━━━\u001b[0m\u001b[37m\u001b[0m \u001b[1m0s\u001b[0m 22ms/step - accuracy: 0.9665 - loss: 0.0897 - val_accuracy: 0.7840 - val_loss: 1.3321\n",
            "Epoch 35/250\n",
            "\u001b[1m8/8\u001b[0m \u001b[32m━━━━━━━━━━━━━━━━━━━━\u001b[0m\u001b[37m\u001b[0m \u001b[1m0s\u001b[0m 19ms/step - accuracy: 0.9732 - loss: 0.0850 - val_accuracy: 0.7780 - val_loss: 1.3324\n",
            "Epoch 36/250\n",
            "\u001b[1m8/8\u001b[0m \u001b[32m━━━━━━━━━━━━━━━━━━━━\u001b[0m\u001b[37m\u001b[0m \u001b[1m0s\u001b[0m 20ms/step - accuracy: 0.9733 - loss: 0.0755 - val_accuracy: 0.7800 - val_loss: 1.3307\n",
            "Epoch 37/250\n",
            "\u001b[1m8/8\u001b[0m \u001b[32m━━━━━━━━━━━━━━━━━━━━\u001b[0m\u001b[37m\u001b[0m \u001b[1m0s\u001b[0m 26ms/step - accuracy: 0.9674 - loss: 0.0830 - val_accuracy: 0.7700 - val_loss: 1.3317\n",
            "Epoch 38/250\n",
            "\u001b[1m8/8\u001b[0m \u001b[32m━━━━━━━━━━━━━━━━━━━━\u001b[0m\u001b[37m\u001b[0m \u001b[1m0s\u001b[0m 19ms/step - accuracy: 0.9698 - loss: 0.0887 - val_accuracy: 0.7840 - val_loss: 1.3445\n",
            "Epoch 39/250\n",
            "\u001b[1m8/8\u001b[0m \u001b[32m━━━━━━━━━━━━━━━━━━━━\u001b[0m\u001b[37m\u001b[0m \u001b[1m0s\u001b[0m 21ms/step - accuracy: 0.9729 - loss: 0.0672 - val_accuracy: 0.7840 - val_loss: 1.3600\n",
            "Epoch 40/250\n",
            "\u001b[1m8/8\u001b[0m \u001b[32m━━━━━━━━━━━━━━━━━━━━\u001b[0m\u001b[37m\u001b[0m \u001b[1m0s\u001b[0m 20ms/step - accuracy: 0.9716 - loss: 0.0861 - val_accuracy: 0.7820 - val_loss: 1.3642\n",
            "Epoch 41/250\n",
            "\u001b[1m8/8\u001b[0m \u001b[32m━━━━━━━━━━━━━━━━━━━━\u001b[0m\u001b[37m\u001b[0m \u001b[1m0s\u001b[0m 25ms/step - accuracy: 0.9748 - loss: 0.0722 - val_accuracy: 0.7760 - val_loss: 1.3627\n",
            "Epoch 42/250\n",
            "\u001b[1m8/8\u001b[0m \u001b[32m━━━━━━━━━━━━━━━━━━━━\u001b[0m\u001b[37m\u001b[0m \u001b[1m0s\u001b[0m 26ms/step - accuracy: 0.9727 - loss: 0.0832 - val_accuracy: 0.7760 - val_loss: 1.3649\n",
            "Epoch 43/250\n",
            "\u001b[1m8/8\u001b[0m \u001b[32m━━━━━━━━━━━━━━━━━━━━\u001b[0m\u001b[37m\u001b[0m \u001b[1m0s\u001b[0m 25ms/step - accuracy: 0.9642 - loss: 0.1054 - val_accuracy: 0.7680 - val_loss: 1.3680\n",
            "Epoch 44/250\n",
            "\u001b[1m8/8\u001b[0m \u001b[32m━━━━━━━━━━━━━━━━━━━━\u001b[0m\u001b[37m\u001b[0m \u001b[1m0s\u001b[0m 28ms/step - accuracy: 0.9613 - loss: 0.1065 - val_accuracy: 0.7720 - val_loss: 1.3761\n",
            "Epoch 45/250\n",
            "\u001b[1m8/8\u001b[0m \u001b[32m━━━━━━━━━━━━━━━━━━━━\u001b[0m\u001b[37m\u001b[0m \u001b[1m0s\u001b[0m 19ms/step - accuracy: 0.9714 - loss: 0.0861 - val_accuracy: 0.7760 - val_loss: 1.3908\n",
            "Epoch 46/250\n",
            "\u001b[1m8/8\u001b[0m \u001b[32m━━━━━━━━━━━━━━━━━━━━\u001b[0m\u001b[37m\u001b[0m \u001b[1m0s\u001b[0m 23ms/step - accuracy: 0.9681 - loss: 0.0853 - val_accuracy: 0.7780 - val_loss: 1.3923\n",
            "Epoch 47/250\n",
            "\u001b[1m8/8\u001b[0m \u001b[32m━━━━━━━━━━━━━━━━━━━━\u001b[0m\u001b[37m\u001b[0m \u001b[1m0s\u001b[0m 25ms/step - accuracy: 0.9723 - loss: 0.0768 - val_accuracy: 0.7640 - val_loss: 1.3895\n",
            "Epoch 48/250\n",
            "\u001b[1m8/8\u001b[0m \u001b[32m━━━━━━━━━━━━━━━━━━━━\u001b[0m\u001b[37m\u001b[0m \u001b[1m0s\u001b[0m 21ms/step - accuracy: 0.9763 - loss: 0.0824 - val_accuracy: 0.7660 - val_loss: 1.3952\n",
            "Epoch 49/250\n",
            "\u001b[1m8/8\u001b[0m \u001b[32m━━━━━━━━━━━━━━━━━━━━\u001b[0m\u001b[37m\u001b[0m \u001b[1m0s\u001b[0m 18ms/step - accuracy: 0.9731 - loss: 0.0696 - val_accuracy: 0.7680 - val_loss: 1.4114\n",
            "Epoch 50/250\n",
            "\u001b[1m8/8\u001b[0m \u001b[32m━━━━━━━━━━━━━━━━━━━━\u001b[0m\u001b[37m\u001b[0m \u001b[1m0s\u001b[0m 24ms/step - accuracy: 0.9699 - loss: 0.0753 - val_accuracy: 0.7680 - val_loss: 1.4294\n",
            "Epoch 51/250\n",
            "\u001b[1m8/8\u001b[0m \u001b[32m━━━━━━━━━━━━━━━━━━━━\u001b[0m\u001b[37m\u001b[0m \u001b[1m0s\u001b[0m 22ms/step - accuracy: 0.9729 - loss: 0.0650 - val_accuracy: 0.7540 - val_loss: 1.4326\n",
            "Epoch 52/250\n",
            "\u001b[1m8/8\u001b[0m \u001b[32m━━━━━━━━━━━━━━━━━━━━\u001b[0m\u001b[37m\u001b[0m \u001b[1m0s\u001b[0m 21ms/step - accuracy: 0.9693 - loss: 0.0792 - val_accuracy: 0.7560 - val_loss: 1.4003\n",
            "Epoch 53/250\n",
            "\u001b[1m8/8\u001b[0m \u001b[32m━━━━━━━━━━━━━━━━━━━━\u001b[0m\u001b[37m\u001b[0m \u001b[1m0s\u001b[0m 19ms/step - accuracy: 0.9688 - loss: 0.0828 - val_accuracy: 0.7580 - val_loss: 1.3956\n",
            "Epoch 54/250\n",
            "\u001b[1m8/8\u001b[0m \u001b[32m━━━━━━━━━━━━━━━━━━━━\u001b[0m\u001b[37m\u001b[0m \u001b[1m0s\u001b[0m 23ms/step - accuracy: 0.9647 - loss: 0.0979 - val_accuracy: 0.7720 - val_loss: 1.4058\n",
            "Epoch 55/250\n",
            "\u001b[1m8/8\u001b[0m \u001b[32m━━━━━━━━━━━━━━━━━━━━\u001b[0m\u001b[37m\u001b[0m \u001b[1m0s\u001b[0m 20ms/step - accuracy: 0.9691 - loss: 0.0826 - val_accuracy: 0.7760 - val_loss: 1.4211\n",
            "Epoch 56/250\n",
            "\u001b[1m8/8\u001b[0m \u001b[32m━━━━━━━━━━━━━━━━━━━━\u001b[0m\u001b[37m\u001b[0m \u001b[1m0s\u001b[0m 27ms/step - accuracy: 0.9749 - loss: 0.0632 - val_accuracy: 0.7640 - val_loss: 1.4507\n",
            "Epoch 57/250\n",
            "\u001b[1m8/8\u001b[0m \u001b[32m━━━━━━━━━━━━━━━━━━━━\u001b[0m\u001b[37m\u001b[0m \u001b[1m0s\u001b[0m 23ms/step - accuracy: 0.9669 - loss: 0.0785 - val_accuracy: 0.7600 - val_loss: 1.4407\n",
            "Epoch 58/250\n",
            "\u001b[1m8/8\u001b[0m \u001b[32m━━━━━━━━━━━━━━━━━━━━\u001b[0m\u001b[37m\u001b[0m \u001b[1m0s\u001b[0m 22ms/step - accuracy: 0.9752 - loss: 0.0709 - val_accuracy: 0.7680 - val_loss: 1.4259\n",
            "Epoch 59/250\n",
            "\u001b[1m8/8\u001b[0m \u001b[32m━━━━━━━━━━━━━━━━━━━━\u001b[0m\u001b[37m\u001b[0m \u001b[1m0s\u001b[0m 23ms/step - accuracy: 0.9747 - loss: 0.0702 - val_accuracy: 0.7700 - val_loss: 1.4164\n",
            "Epoch 60/250\n",
            "\u001b[1m8/8\u001b[0m \u001b[32m━━━━━━━━━━━━━━━━━━━━\u001b[0m\u001b[37m\u001b[0m \u001b[1m0s\u001b[0m 24ms/step - accuracy: 0.9672 - loss: 0.0946 - val_accuracy: 0.7640 - val_loss: 1.4055\n",
            "Epoch 61/250\n",
            "\u001b[1m8/8\u001b[0m \u001b[32m━━━━━━━━━━━━━━━━━━━━\u001b[0m\u001b[37m\u001b[0m \u001b[1m0s\u001b[0m 18ms/step - accuracy: 0.9588 - loss: 0.0967 - val_accuracy: 0.7680 - val_loss: 1.4025\n",
            "Epoch 62/250\n",
            "\u001b[1m8/8\u001b[0m \u001b[32m━━━━━━━━━━━━━━━━━━━━\u001b[0m\u001b[37m\u001b[0m \u001b[1m0s\u001b[0m 24ms/step - accuracy: 0.9804 - loss: 0.0607 - val_accuracy: 0.7740 - val_loss: 1.4158\n",
            "Epoch 63/250\n",
            "\u001b[1m8/8\u001b[0m \u001b[32m━━━━━━━━━━━━━━━━━━━━\u001b[0m\u001b[37m\u001b[0m \u001b[1m0s\u001b[0m 21ms/step - accuracy: 0.9678 - loss: 0.0845 - val_accuracy: 0.7780 - val_loss: 1.4038\n",
            "Epoch 64/250\n",
            "\u001b[1m8/8\u001b[0m \u001b[32m━━━━━━━━━━━━━━━━━━━━\u001b[0m\u001b[37m\u001b[0m \u001b[1m0s\u001b[0m 25ms/step - accuracy: 0.9810 - loss: 0.0600 - val_accuracy: 0.7740 - val_loss: 1.4266\n",
            "Epoch 65/250\n",
            "\u001b[1m8/8\u001b[0m \u001b[32m━━━━━━━━━━━━━━━━━━━━\u001b[0m\u001b[37m\u001b[0m \u001b[1m0s\u001b[0m 22ms/step - accuracy: 0.9662 - loss: 0.0897 - val_accuracy: 0.7760 - val_loss: 1.4429\n",
            "Epoch 66/250\n",
            "\u001b[1m8/8\u001b[0m \u001b[32m━━━━━━━━━━━━━━━━━━━━\u001b[0m\u001b[37m\u001b[0m \u001b[1m0s\u001b[0m 24ms/step - accuracy: 0.9720 - loss: 0.0892 - val_accuracy: 0.7780 - val_loss: 1.4493\n",
            "Epoch 67/250\n",
            "\u001b[1m8/8\u001b[0m \u001b[32m━━━━━━━━━━━━━━━━━━━━\u001b[0m\u001b[37m\u001b[0m \u001b[1m0s\u001b[0m 21ms/step - accuracy: 0.9759 - loss: 0.0668 - val_accuracy: 0.7740 - val_loss: 1.4160\n",
            "Epoch 68/250\n",
            "\u001b[1m8/8\u001b[0m \u001b[32m━━━━━━━━━━━━━━━━━━━━\u001b[0m\u001b[37m\u001b[0m \u001b[1m0s\u001b[0m 23ms/step - accuracy: 0.9680 - loss: 0.0838 - val_accuracy: 0.7820 - val_loss: 1.3992\n",
            "Epoch 69/250\n",
            "\u001b[1m8/8\u001b[0m \u001b[32m━━━━━━━━━━━━━━━━━━━━\u001b[0m\u001b[37m\u001b[0m \u001b[1m0s\u001b[0m 20ms/step - accuracy: 0.9741 - loss: 0.0632 - val_accuracy: 0.7700 - val_loss: 1.4304\n",
            "Epoch 70/250\n",
            "\u001b[1m8/8\u001b[0m \u001b[32m━━━━━━━━━━━━━━━━━━━━\u001b[0m\u001b[37m\u001b[0m \u001b[1m0s\u001b[0m 19ms/step - accuracy: 0.9596 - loss: 0.0876 - val_accuracy: 0.7660 - val_loss: 1.4624\n",
            "Epoch 71/250\n",
            "\u001b[1m8/8\u001b[0m \u001b[32m━━━━━━━━━━━━━━━━━━━━\u001b[0m\u001b[37m\u001b[0m \u001b[1m0s\u001b[0m 18ms/step - accuracy: 0.9706 - loss: 0.0722 - val_accuracy: 0.7680 - val_loss: 1.4844\n",
            "Epoch 72/250\n",
            "\u001b[1m8/8\u001b[0m \u001b[32m━━━━━━━━━━━━━━━━━━━━\u001b[0m\u001b[37m\u001b[0m \u001b[1m0s\u001b[0m 22ms/step - accuracy: 0.9780 - loss: 0.0705 - val_accuracy: 0.7660 - val_loss: 1.4741\n",
            "Epoch 73/250\n",
            "\u001b[1m8/8\u001b[0m \u001b[32m━━━━━━━━━━━━━━━━━━━━\u001b[0m\u001b[37m\u001b[0m \u001b[1m0s\u001b[0m 22ms/step - accuracy: 0.9622 - loss: 0.1012 - val_accuracy: 0.7640 - val_loss: 1.4833\n",
            "Epoch 74/250\n",
            "\u001b[1m8/8\u001b[0m \u001b[32m━━━━━━━━━━━━━━━━━━━━\u001b[0m\u001b[37m\u001b[0m \u001b[1m0s\u001b[0m 22ms/step - accuracy: 0.9706 - loss: 0.0900 - val_accuracy: 0.7640 - val_loss: 1.4747\n",
            "Epoch 75/250\n",
            "\u001b[1m8/8\u001b[0m \u001b[32m━━━━━━━━━━━━━━━━━━━━\u001b[0m\u001b[37m\u001b[0m \u001b[1m0s\u001b[0m 21ms/step - accuracy: 0.9772 - loss: 0.0618 - val_accuracy: 0.7820 - val_loss: 1.4787\n",
            "Epoch 76/250\n",
            "\u001b[1m8/8\u001b[0m \u001b[32m━━━━━━━━━━━━━━━━━━━━\u001b[0m\u001b[37m\u001b[0m \u001b[1m0s\u001b[0m 24ms/step - accuracy: 0.9653 - loss: 0.0854 - val_accuracy: 0.7860 - val_loss: 1.4622\n",
            "Epoch 77/250\n",
            "\u001b[1m8/8\u001b[0m \u001b[32m━━━━━━━━━━━━━━━━━━━━\u001b[0m\u001b[37m\u001b[0m \u001b[1m0s\u001b[0m 19ms/step - accuracy: 0.9652 - loss: 0.0851 - val_accuracy: 0.7860 - val_loss: 1.4418\n",
            "Epoch 78/250\n",
            "\u001b[1m8/8\u001b[0m \u001b[32m━━━━━━━━━━━━━━━━━━━━\u001b[0m\u001b[37m\u001b[0m \u001b[1m0s\u001b[0m 23ms/step - accuracy: 0.9792 - loss: 0.0587 - val_accuracy: 0.7760 - val_loss: 1.4463\n",
            "Epoch 79/250\n",
            "\u001b[1m8/8\u001b[0m \u001b[32m━━━━━━━━━━━━━━━━━━━━\u001b[0m\u001b[37m\u001b[0m \u001b[1m0s\u001b[0m 22ms/step - accuracy: 0.9695 - loss: 0.0802 - val_accuracy: 0.7840 - val_loss: 1.4643\n",
            "Epoch 80/250\n",
            "\u001b[1m8/8\u001b[0m \u001b[32m━━━━━━━━━━━━━━━━━━━━\u001b[0m\u001b[37m\u001b[0m \u001b[1m0s\u001b[0m 24ms/step - accuracy: 0.9718 - loss: 0.0686 - val_accuracy: 0.7800 - val_loss: 1.4632\n",
            "Epoch 81/250\n",
            "\u001b[1m8/8\u001b[0m \u001b[32m━━━━━━━━━━━━━━━━━━━━\u001b[0m\u001b[37m\u001b[0m \u001b[1m0s\u001b[0m 24ms/step - accuracy: 0.9790 - loss: 0.0665 - val_accuracy: 0.7760 - val_loss: 1.4783\n",
            "Epoch 82/250\n",
            "\u001b[1m8/8\u001b[0m \u001b[32m━━━━━━━━━━━━━━━━━━━━\u001b[0m\u001b[37m\u001b[0m \u001b[1m0s\u001b[0m 21ms/step - accuracy: 0.9729 - loss: 0.0803 - val_accuracy: 0.7760 - val_loss: 1.4945\n",
            "Epoch 83/250\n",
            "\u001b[1m8/8\u001b[0m \u001b[32m━━━━━━━━━━━━━━━━━━━━\u001b[0m\u001b[37m\u001b[0m \u001b[1m0s\u001b[0m 24ms/step - accuracy: 0.9720 - loss: 0.0794 - val_accuracy: 0.7720 - val_loss: 1.4830\n",
            "Epoch 84/250\n",
            "\u001b[1m8/8\u001b[0m \u001b[32m━━━━━━━━━━━━━━━━━━━━\u001b[0m\u001b[37m\u001b[0m \u001b[1m0s\u001b[0m 22ms/step - accuracy: 0.9735 - loss: 0.0727 - val_accuracy: 0.7660 - val_loss: 1.4746\n",
            "Epoch 85/250\n",
            "\u001b[1m8/8\u001b[0m \u001b[32m━━━━━━━━━━━━━━━━━━━━\u001b[0m\u001b[37m\u001b[0m \u001b[1m0s\u001b[0m 20ms/step - accuracy: 0.9723 - loss: 0.0686 - val_accuracy: 0.7580 - val_loss: 1.4599\n",
            "Epoch 86/250\n",
            "\u001b[1m8/8\u001b[0m \u001b[32m━━━━━━━━━━━━━━━━━━━━\u001b[0m\u001b[37m\u001b[0m \u001b[1m0s\u001b[0m 23ms/step - accuracy: 0.9636 - loss: 0.0919 - val_accuracy: 0.7540 - val_loss: 1.4364\n",
            "Epoch 87/250\n",
            "\u001b[1m8/8\u001b[0m \u001b[32m━━━━━━━━━━━━━━━━━━━━\u001b[0m\u001b[37m\u001b[0m \u001b[1m0s\u001b[0m 21ms/step - accuracy: 0.9699 - loss: 0.0767 - val_accuracy: 0.7680 - val_loss: 1.4114\n",
            "Epoch 88/250\n",
            "\u001b[1m8/8\u001b[0m \u001b[32m━━━━━━━━━━━━━━━━━━━━\u001b[0m\u001b[37m\u001b[0m \u001b[1m0s\u001b[0m 19ms/step - accuracy: 0.9680 - loss: 0.0864 - val_accuracy: 0.7780 - val_loss: 1.4162\n",
            "Epoch 89/250\n",
            "\u001b[1m8/8\u001b[0m \u001b[32m━━━━━━━━━━━━━━━━━━━━\u001b[0m\u001b[37m\u001b[0m \u001b[1m0s\u001b[0m 24ms/step - accuracy: 0.9620 - loss: 0.0868 - val_accuracy: 0.7780 - val_loss: 1.4128\n",
            "Epoch 90/250\n",
            "\u001b[1m8/8\u001b[0m \u001b[32m━━━━━━━━━━━━━━━━━━━━\u001b[0m\u001b[37m\u001b[0m \u001b[1m0s\u001b[0m 20ms/step - accuracy: 0.9765 - loss: 0.0622 - val_accuracy: 0.7820 - val_loss: 1.4211\n",
            "Epoch 91/250\n",
            "\u001b[1m8/8\u001b[0m \u001b[32m━━━━━━━━━━━━━━━━━━━━\u001b[0m\u001b[37m\u001b[0m \u001b[1m0s\u001b[0m 23ms/step - accuracy: 0.9776 - loss: 0.0670 - val_accuracy: 0.7820 - val_loss: 1.4263\n",
            "Epoch 92/250\n",
            "\u001b[1m8/8\u001b[0m \u001b[32m━━━━━━━━━━━━━━━━━━━━\u001b[0m\u001b[37m\u001b[0m \u001b[1m0s\u001b[0m 21ms/step - accuracy: 0.9685 - loss: 0.0818 - val_accuracy: 0.7780 - val_loss: 1.4287\n",
            "Epoch 93/250\n",
            "\u001b[1m8/8\u001b[0m \u001b[32m━━━━━━━━━━━━━━━━━━━━\u001b[0m\u001b[37m\u001b[0m \u001b[1m0s\u001b[0m 21ms/step - accuracy: 0.9782 - loss: 0.0629 - val_accuracy: 0.7800 - val_loss: 1.4512\n",
            "Epoch 94/250\n",
            "\u001b[1m8/8\u001b[0m \u001b[32m━━━━━━━━━━━━━━━━━━━━\u001b[0m\u001b[37m\u001b[0m \u001b[1m0s\u001b[0m 19ms/step - accuracy: 0.9746 - loss: 0.0598 - val_accuracy: 0.7800 - val_loss: 1.4526\n",
            "Epoch 95/250\n",
            "\u001b[1m8/8\u001b[0m \u001b[32m━━━━━━━━━━━━━━━━━━━━\u001b[0m\u001b[37m\u001b[0m \u001b[1m0s\u001b[0m 23ms/step - accuracy: 0.9772 - loss: 0.0669 - val_accuracy: 0.7800 - val_loss: 1.4511\n",
            "Epoch 96/250\n",
            "\u001b[1m8/8\u001b[0m \u001b[32m━━━━━━━━━━━━━━━━━━━━\u001b[0m\u001b[37m\u001b[0m \u001b[1m0s\u001b[0m 22ms/step - accuracy: 0.9769 - loss: 0.0639 - val_accuracy: 0.7800 - val_loss: 1.4679\n",
            "Epoch 97/250\n",
            "\u001b[1m8/8\u001b[0m \u001b[32m━━━━━━━━━━━━━━━━━━━━\u001b[0m\u001b[37m\u001b[0m \u001b[1m0s\u001b[0m 23ms/step - accuracy: 0.9701 - loss: 0.0826 - val_accuracy: 0.7740 - val_loss: 1.4756\n",
            "Epoch 98/250\n",
            "\u001b[1m8/8\u001b[0m \u001b[32m━━━━━━━━━━━━━━━━━━━━\u001b[0m\u001b[37m\u001b[0m \u001b[1m0s\u001b[0m 19ms/step - accuracy: 0.9702 - loss: 0.0916 - val_accuracy: 0.7700 - val_loss: 1.4808\n",
            "Epoch 99/250\n",
            "\u001b[1m8/8\u001b[0m \u001b[32m━━━━━━━━━━━━━━━━━━━━\u001b[0m\u001b[37m\u001b[0m \u001b[1m0s\u001b[0m 20ms/step - accuracy: 0.9813 - loss: 0.0618 - val_accuracy: 0.7680 - val_loss: 1.4731\n",
            "Epoch 100/250\n",
            "\u001b[1m8/8\u001b[0m \u001b[32m━━━━━━━━━━━━━━━━━━━━\u001b[0m\u001b[37m\u001b[0m \u001b[1m0s\u001b[0m 23ms/step - accuracy: 0.9751 - loss: 0.0606 - val_accuracy: 0.7680 - val_loss: 1.4769\n",
            "Epoch 101/250\n",
            "\u001b[1m8/8\u001b[0m \u001b[32m━━━━━━━━━━━━━━━━━━━━\u001b[0m\u001b[37m\u001b[0m \u001b[1m0s\u001b[0m 19ms/step - accuracy: 0.9629 - loss: 0.0921 - val_accuracy: 0.7660 - val_loss: 1.4621\n",
            "Epoch 102/250\n",
            "\u001b[1m8/8\u001b[0m \u001b[32m━━━━━━━━━━━━━━━━━━━━\u001b[0m\u001b[37m\u001b[0m \u001b[1m0s\u001b[0m 22ms/step - accuracy: 0.9699 - loss: 0.0736 - val_accuracy: 0.7760 - val_loss: 1.4617\n",
            "Epoch 103/250\n",
            "\u001b[1m8/8\u001b[0m \u001b[32m━━━━━━━━━━━━━━━━━━━━\u001b[0m\u001b[37m\u001b[0m \u001b[1m0s\u001b[0m 25ms/step - accuracy: 0.9758 - loss: 0.0664 - val_accuracy: 0.7740 - val_loss: 1.4754\n",
            "Epoch 104/250\n",
            "\u001b[1m8/8\u001b[0m \u001b[32m━━━━━━━━━━━━━━━━━━━━\u001b[0m\u001b[37m\u001b[0m \u001b[1m0s\u001b[0m 23ms/step - accuracy: 0.9705 - loss: 0.0744 - val_accuracy: 0.7800 - val_loss: 1.4742\n",
            "Epoch 105/250\n",
            "\u001b[1m8/8\u001b[0m \u001b[32m━━━━━━━━━━━━━━━━━━━━\u001b[0m\u001b[37m\u001b[0m \u001b[1m0s\u001b[0m 20ms/step - accuracy: 0.9723 - loss: 0.0677 - val_accuracy: 0.7820 - val_loss: 1.4562\n",
            "Epoch 106/250\n",
            "\u001b[1m8/8\u001b[0m \u001b[32m━━━━━━━━━━━━━━━━━━━━\u001b[0m\u001b[37m\u001b[0m \u001b[1m0s\u001b[0m 24ms/step - accuracy: 0.9733 - loss: 0.0629 - val_accuracy: 0.7780 - val_loss: 1.4231\n",
            "Epoch 107/250\n",
            "\u001b[1m8/8\u001b[0m \u001b[32m━━━━━━━━━━━━━━━━━━━━\u001b[0m\u001b[37m\u001b[0m \u001b[1m0s\u001b[0m 33ms/step - accuracy: 0.9776 - loss: 0.0597 - val_accuracy: 0.7780 - val_loss: 1.4336\n",
            "Epoch 108/250\n",
            "\u001b[1m8/8\u001b[0m \u001b[32m━━━━━━━━━━━━━━━━━━━━\u001b[0m\u001b[37m\u001b[0m \u001b[1m0s\u001b[0m 24ms/step - accuracy: 0.9741 - loss: 0.0810 - val_accuracy: 0.7860 - val_loss: 1.4748\n",
            "Epoch 109/250\n",
            "\u001b[1m8/8\u001b[0m \u001b[32m━━━━━━━━━━━━━━━━━━━━\u001b[0m\u001b[37m\u001b[0m \u001b[1m0s\u001b[0m 28ms/step - accuracy: 0.9759 - loss: 0.0668 - val_accuracy: 0.7920 - val_loss: 1.4963\n",
            "Epoch 110/250\n",
            "\u001b[1m8/8\u001b[0m \u001b[32m━━━━━━━━━━━━━━━━━━━━\u001b[0m\u001b[37m\u001b[0m \u001b[1m0s\u001b[0m 24ms/step - accuracy: 0.9830 - loss: 0.0565 - val_accuracy: 0.7780 - val_loss: 1.4986\n",
            "Epoch 111/250\n",
            "\u001b[1m8/8\u001b[0m \u001b[32m━━━━━━━━━━━━━━━━━━━━\u001b[0m\u001b[37m\u001b[0m \u001b[1m0s\u001b[0m 25ms/step - accuracy: 0.9761 - loss: 0.0707 - val_accuracy: 0.7720 - val_loss: 1.4950\n",
            "Epoch 112/250\n",
            "\u001b[1m8/8\u001b[0m \u001b[32m━━━━━━━━━━━━━━━━━━━━\u001b[0m\u001b[37m\u001b[0m \u001b[1m0s\u001b[0m 20ms/step - accuracy: 0.9785 - loss: 0.0712 - val_accuracy: 0.7800 - val_loss: 1.5155\n",
            "Epoch 113/250\n",
            "\u001b[1m8/8\u001b[0m \u001b[32m━━━━━━━━━━━━━━━━━━━━\u001b[0m\u001b[37m\u001b[0m \u001b[1m0s\u001b[0m 21ms/step - accuracy: 0.9807 - loss: 0.0525 - val_accuracy: 0.7820 - val_loss: 1.5503\n",
            "Epoch 114/250\n",
            "\u001b[1m8/8\u001b[0m \u001b[32m━━━━━━━━━━━━━━━━━━━━\u001b[0m\u001b[37m\u001b[0m \u001b[1m0s\u001b[0m 21ms/step - accuracy: 0.9715 - loss: 0.0724 - val_accuracy: 0.7760 - val_loss: 1.5395\n",
            "Epoch 115/250\n",
            "\u001b[1m8/8\u001b[0m \u001b[32m━━━━━━━━━━━━━━━━━━━━\u001b[0m\u001b[37m\u001b[0m \u001b[1m0s\u001b[0m 22ms/step - accuracy: 0.9805 - loss: 0.0575 - val_accuracy: 0.7760 - val_loss: 1.5334\n",
            "Epoch 116/250\n",
            "\u001b[1m8/8\u001b[0m \u001b[32m━━━━━━━━━━━━━━━━━━━━\u001b[0m\u001b[37m\u001b[0m \u001b[1m0s\u001b[0m 22ms/step - accuracy: 0.9757 - loss: 0.0804 - val_accuracy: 0.7760 - val_loss: 1.5100\n",
            "Epoch 117/250\n",
            "\u001b[1m8/8\u001b[0m \u001b[32m━━━━━━━━━━━━━━━━━━━━\u001b[0m\u001b[37m\u001b[0m \u001b[1m0s\u001b[0m 20ms/step - accuracy: 0.9763 - loss: 0.0620 - val_accuracy: 0.7860 - val_loss: 1.5208\n",
            "Epoch 118/250\n",
            "\u001b[1m8/8\u001b[0m \u001b[32m━━━━━━━━━━━━━━━━━━━━\u001b[0m\u001b[37m\u001b[0m \u001b[1m0s\u001b[0m 20ms/step - accuracy: 0.9738 - loss: 0.0689 - val_accuracy: 0.7760 - val_loss: 1.5323\n",
            "Epoch 119/250\n",
            "\u001b[1m8/8\u001b[0m \u001b[32m━━━━━━━━━━━━━━━━━━━━\u001b[0m\u001b[37m\u001b[0m \u001b[1m0s\u001b[0m 18ms/step - accuracy: 0.9767 - loss: 0.0724 - val_accuracy: 0.7760 - val_loss: 1.5223\n",
            "Epoch 120/250\n",
            "\u001b[1m8/8\u001b[0m \u001b[32m━━━━━━━━━━━━━━━━━━━━\u001b[0m\u001b[37m\u001b[0m \u001b[1m0s\u001b[0m 25ms/step - accuracy: 0.9779 - loss: 0.0735 - val_accuracy: 0.7780 - val_loss: 1.5242\n",
            "Epoch 121/250\n",
            "\u001b[1m8/8\u001b[0m \u001b[32m━━━━━━━━━━━━━━━━━━━━\u001b[0m\u001b[37m\u001b[0m \u001b[1m0s\u001b[0m 22ms/step - accuracy: 0.9725 - loss: 0.0712 - val_accuracy: 0.7780 - val_loss: 1.5283\n",
            "Epoch 122/250\n",
            "\u001b[1m8/8\u001b[0m \u001b[32m━━━━━━━━━━━━━━━━━━━━\u001b[0m\u001b[37m\u001b[0m \u001b[1m0s\u001b[0m 18ms/step - accuracy: 0.9779 - loss: 0.0559 - val_accuracy: 0.7800 - val_loss: 1.5427\n",
            "Epoch 123/250\n",
            "\u001b[1m8/8\u001b[0m \u001b[32m━━━━━━━━━━━━━━━━━━━━\u001b[0m\u001b[37m\u001b[0m \u001b[1m0s\u001b[0m 23ms/step - accuracy: 0.9754 - loss: 0.0675 - val_accuracy: 0.7740 - val_loss: 1.5564\n",
            "Epoch 124/250\n",
            "\u001b[1m8/8\u001b[0m \u001b[32m━━━━━━━━━━━━━━━━━━━━\u001b[0m\u001b[37m\u001b[0m \u001b[1m0s\u001b[0m 18ms/step - accuracy: 0.9770 - loss: 0.0602 - val_accuracy: 0.7760 - val_loss: 1.5097\n",
            "Epoch 125/250\n",
            "\u001b[1m8/8\u001b[0m \u001b[32m━━━━━━━━━━━━━━━━━━━━\u001b[0m\u001b[37m\u001b[0m \u001b[1m0s\u001b[0m 25ms/step - accuracy: 0.9805 - loss: 0.0580 - val_accuracy: 0.7740 - val_loss: 1.5036\n",
            "Epoch 126/250\n",
            "\u001b[1m8/8\u001b[0m \u001b[32m━━━━━━━━━━━━━━━━━━━━\u001b[0m\u001b[37m\u001b[0m \u001b[1m0s\u001b[0m 19ms/step - accuracy: 0.9711 - loss: 0.0730 - val_accuracy: 0.7720 - val_loss: 1.5125\n",
            "Epoch 127/250\n",
            "\u001b[1m8/8\u001b[0m \u001b[32m━━━━━━━━━━━━━━━━━━━━\u001b[0m\u001b[37m\u001b[0m \u001b[1m0s\u001b[0m 20ms/step - accuracy: 0.9725 - loss: 0.0742 - val_accuracy: 0.7780 - val_loss: 1.5221\n",
            "Epoch 128/250\n",
            "\u001b[1m8/8\u001b[0m \u001b[32m━━━━━━━━━━━━━━━━━━━━\u001b[0m\u001b[37m\u001b[0m \u001b[1m0s\u001b[0m 38ms/step - accuracy: 0.9775 - loss: 0.0642 - val_accuracy: 0.7760 - val_loss: 1.5365\n",
            "Epoch 129/250\n",
            "\u001b[1m8/8\u001b[0m \u001b[32m━━━━━━━━━━━━━━━━━━━━\u001b[0m\u001b[37m\u001b[0m \u001b[1m0s\u001b[0m 22ms/step - accuracy: 0.9856 - loss: 0.0417 - val_accuracy: 0.7720 - val_loss: 1.5440\n",
            "Epoch 130/250\n",
            "\u001b[1m8/8\u001b[0m \u001b[32m━━━━━━━━━━━━━━━━━━━━\u001b[0m\u001b[37m\u001b[0m \u001b[1m0s\u001b[0m 29ms/step - accuracy: 0.9680 - loss: 0.0806 - val_accuracy: 0.7820 - val_loss: 1.5537\n",
            "Epoch 131/250\n",
            "\u001b[1m8/8\u001b[0m \u001b[32m━━━━━━━━━━━━━━━━━━━━\u001b[0m\u001b[37m\u001b[0m \u001b[1m0s\u001b[0m 24ms/step - accuracy: 0.9708 - loss: 0.0750 - val_accuracy: 0.7700 - val_loss: 1.5529\n",
            "Epoch 132/250\n",
            "\u001b[1m8/8\u001b[0m \u001b[32m━━━━━━━━━━━━━━━━━━━━\u001b[0m\u001b[37m\u001b[0m \u001b[1m0s\u001b[0m 25ms/step - accuracy: 0.9705 - loss: 0.0864 - val_accuracy: 0.7800 - val_loss: 1.5071\n",
            "Epoch 133/250\n",
            "\u001b[1m8/8\u001b[0m \u001b[32m━━━━━━━━━━━━━━━━━━━━\u001b[0m\u001b[37m\u001b[0m \u001b[1m0s\u001b[0m 21ms/step - accuracy: 0.9786 - loss: 0.0626 - val_accuracy: 0.7780 - val_loss: 1.5020\n",
            "Epoch 134/250\n",
            "\u001b[1m8/8\u001b[0m \u001b[32m━━━━━━━━━━━━━━━━━━━━\u001b[0m\u001b[37m\u001b[0m \u001b[1m0s\u001b[0m 20ms/step - accuracy: 0.9800 - loss: 0.0519 - val_accuracy: 0.7640 - val_loss: 1.5145\n",
            "Epoch 135/250\n",
            "\u001b[1m8/8\u001b[0m \u001b[32m━━━━━━━━━━━━━━━━━━━━\u001b[0m\u001b[37m\u001b[0m \u001b[1m0s\u001b[0m 20ms/step - accuracy: 0.9773 - loss: 0.0773 - val_accuracy: 0.7680 - val_loss: 1.5320\n",
            "Epoch 136/250\n",
            "\u001b[1m8/8\u001b[0m \u001b[32m━━━━━━━━━━━━━━━━━━━━\u001b[0m\u001b[37m\u001b[0m \u001b[1m0s\u001b[0m 22ms/step - accuracy: 0.9761 - loss: 0.0630 - val_accuracy: 0.7720 - val_loss: 1.5305\n",
            "Epoch 137/250\n",
            "\u001b[1m8/8\u001b[0m \u001b[32m━━━━━━━━━━━━━━━━━━━━\u001b[0m\u001b[37m\u001b[0m \u001b[1m0s\u001b[0m 24ms/step - accuracy: 0.9817 - loss: 0.0522 - val_accuracy: 0.7720 - val_loss: 1.5386\n",
            "Epoch 138/250\n",
            "\u001b[1m8/8\u001b[0m \u001b[32m━━━━━━━━━━━━━━━━━━━━\u001b[0m\u001b[37m\u001b[0m \u001b[1m0s\u001b[0m 22ms/step - accuracy: 0.9794 - loss: 0.0612 - val_accuracy: 0.7720 - val_loss: 1.5667\n",
            "Epoch 139/250\n",
            "\u001b[1m8/8\u001b[0m \u001b[32m━━━━━━━━━━━━━━━━━━━━\u001b[0m\u001b[37m\u001b[0m \u001b[1m0s\u001b[0m 21ms/step - accuracy: 0.9769 - loss: 0.0732 - val_accuracy: 0.7740 - val_loss: 1.5571\n",
            "Epoch 140/250\n",
            "\u001b[1m8/8\u001b[0m \u001b[32m━━━━━━━━━━━━━━━━━━━━\u001b[0m\u001b[37m\u001b[0m \u001b[1m0s\u001b[0m 20ms/step - accuracy: 0.9795 - loss: 0.0505 - val_accuracy: 0.7760 - val_loss: 1.5672\n",
            "Epoch 141/250\n",
            "\u001b[1m8/8\u001b[0m \u001b[32m━━━━━━━━━━━━━━━━━━━━\u001b[0m\u001b[37m\u001b[0m \u001b[1m0s\u001b[0m 23ms/step - accuracy: 0.9721 - loss: 0.0721 - val_accuracy: 0.7820 - val_loss: 1.5686\n",
            "Epoch 142/250\n",
            "\u001b[1m8/8\u001b[0m \u001b[32m━━━━━━━━━━━━━━━━━━━━\u001b[0m\u001b[37m\u001b[0m \u001b[1m0s\u001b[0m 22ms/step - accuracy: 0.9820 - loss: 0.0492 - val_accuracy: 0.7760 - val_loss: 1.5750\n",
            "Epoch 143/250\n",
            "\u001b[1m8/8\u001b[0m \u001b[32m━━━━━━━━━━━━━━━━━━━━\u001b[0m\u001b[37m\u001b[0m \u001b[1m0s\u001b[0m 21ms/step - accuracy: 0.9775 - loss: 0.0627 - val_accuracy: 0.7780 - val_loss: 1.5728\n",
            "Epoch 144/250\n",
            "\u001b[1m8/8\u001b[0m \u001b[32m━━━━━━━━━━━━━━━━━━━━\u001b[0m\u001b[37m\u001b[0m \u001b[1m0s\u001b[0m 22ms/step - accuracy: 0.9805 - loss: 0.0518 - val_accuracy: 0.7740 - val_loss: 1.5489\n",
            "Epoch 145/250\n",
            "\u001b[1m8/8\u001b[0m \u001b[32m━━━━━━━━━━━━━━━━━━━━\u001b[0m\u001b[37m\u001b[0m \u001b[1m0s\u001b[0m 21ms/step - accuracy: 0.9761 - loss: 0.0634 - val_accuracy: 0.7720 - val_loss: 1.5464\n",
            "Epoch 146/250\n",
            "\u001b[1m8/8\u001b[0m \u001b[32m━━━━━━━━━━━━━━━━━━━━\u001b[0m\u001b[37m\u001b[0m \u001b[1m0s\u001b[0m 24ms/step - accuracy: 0.9824 - loss: 0.0577 - val_accuracy: 0.7720 - val_loss: 1.5217\n",
            "Epoch 147/250\n",
            "\u001b[1m8/8\u001b[0m \u001b[32m━━━━━━━━━━━━━━━━━━━━\u001b[0m\u001b[37m\u001b[0m \u001b[1m0s\u001b[0m 18ms/step - accuracy: 0.9792 - loss: 0.0543 - val_accuracy: 0.7860 - val_loss: 1.5297\n",
            "Epoch 148/250\n",
            "\u001b[1m8/8\u001b[0m \u001b[32m━━━━━━━━━━━━━━━━━━━━\u001b[0m\u001b[37m\u001b[0m \u001b[1m0s\u001b[0m 21ms/step - accuracy: 0.9741 - loss: 0.0716 - val_accuracy: 0.7920 - val_loss: 1.5604\n",
            "Epoch 149/250\n",
            "\u001b[1m8/8\u001b[0m \u001b[32m━━━━━━━━━━━━━━━━━━━━\u001b[0m\u001b[37m\u001b[0m \u001b[1m0s\u001b[0m 22ms/step - accuracy: 0.9747 - loss: 0.0785 - val_accuracy: 0.7860 - val_loss: 1.5561\n",
            "Epoch 150/250\n",
            "\u001b[1m8/8\u001b[0m \u001b[32m━━━━━━━━━━━━━━━━━━━━\u001b[0m\u001b[37m\u001b[0m \u001b[1m0s\u001b[0m 18ms/step - accuracy: 0.9772 - loss: 0.0655 - val_accuracy: 0.7900 - val_loss: 1.5470\n",
            "Epoch 151/250\n",
            "\u001b[1m8/8\u001b[0m \u001b[32m━━━━━━━━━━━━━━━━━━━━\u001b[0m\u001b[37m\u001b[0m \u001b[1m0s\u001b[0m 21ms/step - accuracy: 0.9794 - loss: 0.0511 - val_accuracy: 0.7860 - val_loss: 1.5233\n",
            "Epoch 152/250\n",
            "\u001b[1m8/8\u001b[0m \u001b[32m━━━━━━━━━━━━━━━━━━━━\u001b[0m\u001b[37m\u001b[0m \u001b[1m0s\u001b[0m 20ms/step - accuracy: 0.9725 - loss: 0.0711 - val_accuracy: 0.7960 - val_loss: 1.5062\n",
            "Epoch 153/250\n",
            "\u001b[1m8/8\u001b[0m \u001b[32m━━━━━━━━━━━━━━━━━━━━\u001b[0m\u001b[37m\u001b[0m \u001b[1m0s\u001b[0m 21ms/step - accuracy: 0.9803 - loss: 0.0616 - val_accuracy: 0.7860 - val_loss: 1.5087\n",
            "Epoch 154/250\n",
            "\u001b[1m8/8\u001b[0m \u001b[32m━━━━━━━━━━━━━━━━━━━━\u001b[0m\u001b[37m\u001b[0m \u001b[1m0s\u001b[0m 20ms/step - accuracy: 0.9800 - loss: 0.0539 - val_accuracy: 0.7920 - val_loss: 1.5344\n",
            "Epoch 155/250\n",
            "\u001b[1m8/8\u001b[0m \u001b[32m━━━━━━━━━━━━━━━━━━━━\u001b[0m\u001b[37m\u001b[0m \u001b[1m0s\u001b[0m 22ms/step - accuracy: 0.9794 - loss: 0.0615 - val_accuracy: 0.7860 - val_loss: 1.5447\n",
            "Epoch 156/250\n",
            "\u001b[1m8/8\u001b[0m \u001b[32m━━━━━━━━━━━━━━━━━━━━\u001b[0m\u001b[37m\u001b[0m \u001b[1m0s\u001b[0m 22ms/step - accuracy: 0.9866 - loss: 0.0422 - val_accuracy: 0.7860 - val_loss: 1.5477\n",
            "Epoch 157/250\n",
            "\u001b[1m8/8\u001b[0m \u001b[32m━━━━━━━━━━━━━━━━━━━━\u001b[0m\u001b[37m\u001b[0m \u001b[1m0s\u001b[0m 21ms/step - accuracy: 0.9786 - loss: 0.0552 - val_accuracy: 0.7880 - val_loss: 1.5292\n",
            "Epoch 158/250\n",
            "\u001b[1m8/8\u001b[0m \u001b[32m━━━━━━━━━━━━━━━━━━━━\u001b[0m\u001b[37m\u001b[0m \u001b[1m0s\u001b[0m 21ms/step - accuracy: 0.9833 - loss: 0.0507 - val_accuracy: 0.7860 - val_loss: 1.5132\n",
            "Epoch 159/250\n",
            "\u001b[1m8/8\u001b[0m \u001b[32m━━━━━━━━━━━━━━━━━━━━\u001b[0m\u001b[37m\u001b[0m \u001b[1m0s\u001b[0m 20ms/step - accuracy: 0.9853 - loss: 0.0451 - val_accuracy: 0.7860 - val_loss: 1.5086\n",
            "Epoch 160/250\n",
            "\u001b[1m8/8\u001b[0m \u001b[32m━━━━━━━━━━━━━━━━━━━━\u001b[0m\u001b[37m\u001b[0m \u001b[1m0s\u001b[0m 19ms/step - accuracy: 0.9863 - loss: 0.0399 - val_accuracy: 0.7920 - val_loss: 1.5318\n",
            "Epoch 161/250\n",
            "\u001b[1m8/8\u001b[0m \u001b[32m━━━━━━━━━━━━━━━━━━━━\u001b[0m\u001b[37m\u001b[0m \u001b[1m0s\u001b[0m 22ms/step - accuracy: 0.9814 - loss: 0.0534 - val_accuracy: 0.7880 - val_loss: 1.5801\n",
            "Epoch 162/250\n",
            "\u001b[1m8/8\u001b[0m \u001b[32m━━━━━━━━━━━━━━━━━━━━\u001b[0m\u001b[37m\u001b[0m \u001b[1m0s\u001b[0m 25ms/step - accuracy: 0.9834 - loss: 0.0559 - val_accuracy: 0.7880 - val_loss: 1.6066\n",
            "Epoch 163/250\n",
            "\u001b[1m8/8\u001b[0m \u001b[32m━━━━━━━━━━━━━━━━━━━━\u001b[0m\u001b[37m\u001b[0m \u001b[1m0s\u001b[0m 33ms/step - accuracy: 0.9750 - loss: 0.0619 - val_accuracy: 0.7780 - val_loss: 1.6109\n",
            "Epoch 164/250\n",
            "\u001b[1m8/8\u001b[0m \u001b[32m━━━━━━━━━━━━━━━━━━━━\u001b[0m\u001b[37m\u001b[0m \u001b[1m0s\u001b[0m 26ms/step - accuracy: 0.9864 - loss: 0.0532 - val_accuracy: 0.7740 - val_loss: 1.6065\n",
            "Epoch 165/250\n",
            "\u001b[1m8/8\u001b[0m \u001b[32m━━━━━━━━━━━━━━━━━━━━\u001b[0m\u001b[37m\u001b[0m \u001b[1m0s\u001b[0m 23ms/step - accuracy: 0.9810 - loss: 0.0583 - val_accuracy: 0.7780 - val_loss: 1.6038\n",
            "Epoch 166/250\n",
            "\u001b[1m8/8\u001b[0m \u001b[32m━━━━━━━━━━━━━━━━━━━━\u001b[0m\u001b[37m\u001b[0m \u001b[1m0s\u001b[0m 20ms/step - accuracy: 0.9825 - loss: 0.0541 - val_accuracy: 0.7780 - val_loss: 1.5861\n",
            "Epoch 167/250\n",
            "\u001b[1m8/8\u001b[0m \u001b[32m━━━━━━━━━━━━━━━━━━━━\u001b[0m\u001b[37m\u001b[0m \u001b[1m0s\u001b[0m 25ms/step - accuracy: 0.9823 - loss: 0.0458 - val_accuracy: 0.7780 - val_loss: 1.5753\n",
            "Epoch 168/250\n",
            "\u001b[1m8/8\u001b[0m \u001b[32m━━━━━━━━━━━━━━━━━━━━\u001b[0m\u001b[37m\u001b[0m \u001b[1m0s\u001b[0m 25ms/step - accuracy: 0.9746 - loss: 0.0705 - val_accuracy: 0.7800 - val_loss: 1.5571\n",
            "Epoch 169/250\n",
            "\u001b[1m8/8\u001b[0m \u001b[32m━━━━━━━━━━━━━━━━━━━━\u001b[0m\u001b[37m\u001b[0m \u001b[1m0s\u001b[0m 21ms/step - accuracy: 0.9741 - loss: 0.0722 - val_accuracy: 0.7760 - val_loss: 1.5577\n",
            "Epoch 170/250\n",
            "\u001b[1m8/8\u001b[0m \u001b[32m━━━━━━━━━━━━━━━━━━━━\u001b[0m\u001b[37m\u001b[0m \u001b[1m0s\u001b[0m 21ms/step - accuracy: 0.9763 - loss: 0.0762 - val_accuracy: 0.7780 - val_loss: 1.5555\n",
            "Epoch 171/250\n",
            "\u001b[1m8/8\u001b[0m \u001b[32m━━━━━━━━━━━━━━━━━━━━\u001b[0m\u001b[37m\u001b[0m \u001b[1m0s\u001b[0m 20ms/step - accuracy: 0.9749 - loss: 0.0649 - val_accuracy: 0.7700 - val_loss: 1.5670\n",
            "Epoch 172/250\n",
            "\u001b[1m8/8\u001b[0m \u001b[32m━━━━━━━━━━━━━━━━━━━━\u001b[0m\u001b[37m\u001b[0m \u001b[1m0s\u001b[0m 19ms/step - accuracy: 0.9753 - loss: 0.0777 - val_accuracy: 0.7780 - val_loss: 1.5618\n",
            "Epoch 173/250\n",
            "\u001b[1m8/8\u001b[0m \u001b[32m━━━━━━━━━━━━━━━━━━━━\u001b[0m\u001b[37m\u001b[0m \u001b[1m0s\u001b[0m 21ms/step - accuracy: 0.9814 - loss: 0.0495 - val_accuracy: 0.7800 - val_loss: 1.5441\n",
            "Epoch 174/250\n",
            "\u001b[1m8/8\u001b[0m \u001b[32m━━━━━━━━━━━━━━━━━━━━\u001b[0m\u001b[37m\u001b[0m \u001b[1m0s\u001b[0m 17ms/step - accuracy: 0.9879 - loss: 0.0454 - val_accuracy: 0.7820 - val_loss: 1.5492\n",
            "Epoch 175/250\n",
            "\u001b[1m8/8\u001b[0m \u001b[32m━━━━━━━━━━━━━━━━━━━━\u001b[0m\u001b[37m\u001b[0m \u001b[1m0s\u001b[0m 19ms/step - accuracy: 0.9846 - loss: 0.0426 - val_accuracy: 0.7760 - val_loss: 1.5683\n",
            "Epoch 176/250\n",
            "\u001b[1m8/8\u001b[0m \u001b[32m━━━━━━━━━━━━━━━━━━━━\u001b[0m\u001b[37m\u001b[0m \u001b[1m0s\u001b[0m 23ms/step - accuracy: 0.9798 - loss: 0.0571 - val_accuracy: 0.7640 - val_loss: 1.5689\n",
            "Epoch 177/250\n",
            "\u001b[1m8/8\u001b[0m \u001b[32m━━━━━━━━━━━━━━━━━━━━\u001b[0m\u001b[37m\u001b[0m \u001b[1m0s\u001b[0m 22ms/step - accuracy: 0.9738 - loss: 0.0624 - val_accuracy: 0.7720 - val_loss: 1.5789\n",
            "Epoch 178/250\n",
            "\u001b[1m8/8\u001b[0m \u001b[32m━━━━━━━━━━━━━━━━━━━━\u001b[0m\u001b[37m\u001b[0m \u001b[1m0s\u001b[0m 22ms/step - accuracy: 0.9860 - loss: 0.0388 - val_accuracy: 0.7780 - val_loss: 1.5974\n",
            "Epoch 179/250\n",
            "\u001b[1m8/8\u001b[0m \u001b[32m━━━━━━━━━━━━━━━━━━━━\u001b[0m\u001b[37m\u001b[0m \u001b[1m0s\u001b[0m 33ms/step - accuracy: 0.9794 - loss: 0.0521 - val_accuracy: 0.7800 - val_loss: 1.5980\n",
            "Epoch 180/250\n",
            "\u001b[1m8/8\u001b[0m \u001b[32m━━━━━━━━━━━━━━━━━━━━\u001b[0m\u001b[37m\u001b[0m \u001b[1m0s\u001b[0m 27ms/step - accuracy: 0.9846 - loss: 0.0443 - val_accuracy: 0.7780 - val_loss: 1.6059\n",
            "Epoch 181/250\n",
            "\u001b[1m8/8\u001b[0m \u001b[32m━━━━━━━━━━━━━━━━━━━━\u001b[0m\u001b[37m\u001b[0m \u001b[1m0s\u001b[0m 18ms/step - accuracy: 0.9824 - loss: 0.0417 - val_accuracy: 0.7700 - val_loss: 1.6208\n",
            "Epoch 182/250\n",
            "\u001b[1m8/8\u001b[0m \u001b[32m━━━━━━━━━━━━━━━━━━━━\u001b[0m\u001b[37m\u001b[0m \u001b[1m0s\u001b[0m 24ms/step - accuracy: 0.9853 - loss: 0.0467 - val_accuracy: 0.7680 - val_loss: 1.6339\n",
            "Epoch 183/250\n",
            "\u001b[1m8/8\u001b[0m \u001b[32m━━━━━━━━━━━━━━━━━━━━\u001b[0m\u001b[37m\u001b[0m \u001b[1m0s\u001b[0m 23ms/step - accuracy: 0.9893 - loss: 0.0365 - val_accuracy: 0.7680 - val_loss: 1.6504\n",
            "Epoch 184/250\n",
            "\u001b[1m8/8\u001b[0m \u001b[32m━━━━━━━━━━━━━━━━━━━━\u001b[0m\u001b[37m\u001b[0m \u001b[1m0s\u001b[0m 20ms/step - accuracy: 0.9804 - loss: 0.0516 - val_accuracy: 0.7720 - val_loss: 1.6471\n",
            "Epoch 185/250\n",
            "\u001b[1m8/8\u001b[0m \u001b[32m━━━━━━━━━━━━━━━━━━━━\u001b[0m\u001b[37m\u001b[0m \u001b[1m0s\u001b[0m 20ms/step - accuracy: 0.9845 - loss: 0.0561 - val_accuracy: 0.7760 - val_loss: 1.6475\n",
            "Epoch 186/250\n",
            "\u001b[1m8/8\u001b[0m \u001b[32m━━━━━━━━━━━━━━━━━━━━\u001b[0m\u001b[37m\u001b[0m \u001b[1m0s\u001b[0m 21ms/step - accuracy: 0.9857 - loss: 0.0514 - val_accuracy: 0.7740 - val_loss: 1.6358\n",
            "Epoch 187/250\n",
            "\u001b[1m8/8\u001b[0m \u001b[32m━━━━━━━━━━━━━━━━━━━━\u001b[0m\u001b[37m\u001b[0m \u001b[1m0s\u001b[0m 20ms/step - accuracy: 0.9780 - loss: 0.0542 - val_accuracy: 0.7680 - val_loss: 1.6386\n",
            "Epoch 188/250\n",
            "\u001b[1m8/8\u001b[0m \u001b[32m━━━━━━━━━━━━━━━━━━━━\u001b[0m\u001b[37m\u001b[0m \u001b[1m0s\u001b[0m 27ms/step - accuracy: 0.9752 - loss: 0.0582 - val_accuracy: 0.7660 - val_loss: 1.6767\n",
            "Epoch 189/250\n",
            "\u001b[1m8/8\u001b[0m \u001b[32m━━━━━━━━━━━━━━━━━━━━\u001b[0m\u001b[37m\u001b[0m \u001b[1m0s\u001b[0m 24ms/step - accuracy: 0.9778 - loss: 0.0642 - val_accuracy: 0.7760 - val_loss: 1.6929\n",
            "Epoch 190/250\n",
            "\u001b[1m8/8\u001b[0m \u001b[32m━━━━━━━━━━━━━━━━━━━━\u001b[0m\u001b[37m\u001b[0m \u001b[1m0s\u001b[0m 27ms/step - accuracy: 0.9817 - loss: 0.0536 - val_accuracy: 0.7800 - val_loss: 1.6845\n",
            "Epoch 191/250\n",
            "\u001b[1m8/8\u001b[0m \u001b[32m━━━━━━━━━━━━━━━━━━━━\u001b[0m\u001b[37m\u001b[0m \u001b[1m0s\u001b[0m 23ms/step - accuracy: 0.9793 - loss: 0.0522 - val_accuracy: 0.7780 - val_loss: 1.6856\n",
            "Epoch 192/250\n",
            "\u001b[1m8/8\u001b[0m \u001b[32m━━━━━━━━━━━━━━━━━━━━\u001b[0m\u001b[37m\u001b[0m \u001b[1m0s\u001b[0m 27ms/step - accuracy: 0.9815 - loss: 0.0510 - val_accuracy: 0.7740 - val_loss: 1.6792\n",
            "Epoch 193/250\n",
            "\u001b[1m8/8\u001b[0m \u001b[32m━━━━━━━━━━━━━━━━━━━━\u001b[0m\u001b[37m\u001b[0m \u001b[1m0s\u001b[0m 36ms/step - accuracy: 0.9823 - loss: 0.0477 - val_accuracy: 0.7740 - val_loss: 1.6643\n",
            "Epoch 194/250\n",
            "\u001b[1m8/8\u001b[0m \u001b[32m━━━━━━━━━━━━━━━━━━━━\u001b[0m\u001b[37m\u001b[0m \u001b[1m0s\u001b[0m 21ms/step - accuracy: 0.9811 - loss: 0.0521 - val_accuracy: 0.7720 - val_loss: 1.6637\n",
            "Epoch 195/250\n",
            "\u001b[1m8/8\u001b[0m \u001b[32m━━━━━━━━━━━━━━━━━━━━\u001b[0m\u001b[37m\u001b[0m \u001b[1m0s\u001b[0m 26ms/step - accuracy: 0.9882 - loss: 0.0413 - val_accuracy: 0.7720 - val_loss: 1.6678\n",
            "Epoch 196/250\n",
            "\u001b[1m8/8\u001b[0m \u001b[32m━━━━━━━━━━━━━━━━━━━━\u001b[0m\u001b[37m\u001b[0m \u001b[1m0s\u001b[0m 26ms/step - accuracy: 0.9798 - loss: 0.0498 - val_accuracy: 0.7740 - val_loss: 1.6636\n",
            "Epoch 197/250\n",
            "\u001b[1m8/8\u001b[0m \u001b[32m━━━━━━━━━━━━━━━━━━━━\u001b[0m\u001b[37m\u001b[0m \u001b[1m0s\u001b[0m 26ms/step - accuracy: 0.9797 - loss: 0.0445 - val_accuracy: 0.7800 - val_loss: 1.6666\n",
            "Epoch 198/250\n",
            "\u001b[1m8/8\u001b[0m \u001b[32m━━━━━━━━━━━━━━━━━━━━\u001b[0m\u001b[37m\u001b[0m \u001b[1m0s\u001b[0m 24ms/step - accuracy: 0.9792 - loss: 0.0579 - val_accuracy: 0.7780 - val_loss: 1.6794\n",
            "Epoch 199/250\n",
            "\u001b[1m8/8\u001b[0m \u001b[32m━━━━━━━━━━━━━━━━━━━━\u001b[0m\u001b[37m\u001b[0m \u001b[1m0s\u001b[0m 20ms/step - accuracy: 0.9741 - loss: 0.0728 - val_accuracy: 0.7780 - val_loss: 1.7046\n",
            "Epoch 200/250\n",
            "\u001b[1m8/8\u001b[0m \u001b[32m━━━━━━━━━━━━━━━━━━━━\u001b[0m\u001b[37m\u001b[0m \u001b[1m0s\u001b[0m 23ms/step - accuracy: 0.9821 - loss: 0.0457 - val_accuracy: 0.7720 - val_loss: 1.6829\n",
            "Epoch 201/250\n",
            "\u001b[1m8/8\u001b[0m \u001b[32m━━━━━━━━━━━━━━━━━━━━\u001b[0m\u001b[37m\u001b[0m \u001b[1m0s\u001b[0m 23ms/step - accuracy: 0.9803 - loss: 0.0565 - val_accuracy: 0.7780 - val_loss: 1.6563\n",
            "Epoch 202/250\n",
            "\u001b[1m8/8\u001b[0m \u001b[32m━━━━━━━━━━━━━━━━━━━━\u001b[0m\u001b[37m\u001b[0m \u001b[1m0s\u001b[0m 26ms/step - accuracy: 0.9817 - loss: 0.0536 - val_accuracy: 0.7740 - val_loss: 1.6478\n",
            "Epoch 203/250\n",
            "\u001b[1m8/8\u001b[0m \u001b[32m━━━━━━━━━━━━━━━━━━━━\u001b[0m\u001b[37m\u001b[0m \u001b[1m0s\u001b[0m 23ms/step - accuracy: 0.9798 - loss: 0.0614 - val_accuracy: 0.7740 - val_loss: 1.6431\n",
            "Epoch 204/250\n",
            "\u001b[1m8/8\u001b[0m \u001b[32m━━━━━━━━━━━━━━━━━━━━\u001b[0m\u001b[37m\u001b[0m \u001b[1m0s\u001b[0m 29ms/step - accuracy: 0.9820 - loss: 0.0516 - val_accuracy: 0.7840 - val_loss: 1.6565\n",
            "Epoch 205/250\n",
            "\u001b[1m8/8\u001b[0m \u001b[32m━━━━━━━━━━━━━━━━━━━━\u001b[0m\u001b[37m\u001b[0m \u001b[1m0s\u001b[0m 24ms/step - accuracy: 0.9815 - loss: 0.0502 - val_accuracy: 0.7780 - val_loss: 1.6324\n",
            "Epoch 206/250\n",
            "\u001b[1m8/8\u001b[0m \u001b[32m━━━━━━━━━━━━━━━━━━━━\u001b[0m\u001b[37m\u001b[0m \u001b[1m0s\u001b[0m 27ms/step - accuracy: 0.9842 - loss: 0.0454 - val_accuracy: 0.7720 - val_loss: 1.6132\n",
            "Epoch 207/250\n",
            "\u001b[1m8/8\u001b[0m \u001b[32m━━━━━━━━━━━━━━━━━━━━\u001b[0m\u001b[37m\u001b[0m \u001b[1m0s\u001b[0m 26ms/step - accuracy: 0.9843 - loss: 0.0441 - val_accuracy: 0.7720 - val_loss: 1.6191\n",
            "Epoch 208/250\n",
            "\u001b[1m8/8\u001b[0m \u001b[32m━━━━━━━━━━━━━━━━━━━━\u001b[0m\u001b[37m\u001b[0m \u001b[1m0s\u001b[0m 28ms/step - accuracy: 0.9860 - loss: 0.0430 - val_accuracy: 0.7800 - val_loss: 1.6258\n",
            "Epoch 209/250\n",
            "\u001b[1m8/8\u001b[0m \u001b[32m━━━━━━━━━━━━━━━━━━━━\u001b[0m\u001b[37m\u001b[0m \u001b[1m0s\u001b[0m 22ms/step - accuracy: 0.9843 - loss: 0.0513 - val_accuracy: 0.7760 - val_loss: 1.6384\n",
            "Epoch 210/250\n",
            "\u001b[1m8/8\u001b[0m \u001b[32m━━━━━━━━━━━━━━━━━━━━\u001b[0m\u001b[37m\u001b[0m \u001b[1m0s\u001b[0m 19ms/step - accuracy: 0.9806 - loss: 0.0533 - val_accuracy: 0.7760 - val_loss: 1.6339\n",
            "Epoch 211/250\n",
            "\u001b[1m8/8\u001b[0m \u001b[32m━━━━━━━━━━━━━━━━━━━━\u001b[0m\u001b[37m\u001b[0m \u001b[1m0s\u001b[0m 19ms/step - accuracy: 0.9802 - loss: 0.0598 - val_accuracy: 0.7820 - val_loss: 1.6027\n",
            "Epoch 212/250\n",
            "\u001b[1m8/8\u001b[0m \u001b[32m━━━━━━━━━━━━━━━━━━━━\u001b[0m\u001b[37m\u001b[0m \u001b[1m0s\u001b[0m 20ms/step - accuracy: 0.9774 - loss: 0.0576 - val_accuracy: 0.7840 - val_loss: 1.5995\n",
            "Epoch 213/250\n",
            "\u001b[1m8/8\u001b[0m \u001b[32m━━━━━━━━━━━━━━━━━━━━\u001b[0m\u001b[37m\u001b[0m \u001b[1m0s\u001b[0m 19ms/step - accuracy: 0.9869 - loss: 0.0363 - val_accuracy: 0.7900 - val_loss: 1.6176\n",
            "Epoch 214/250\n",
            "\u001b[1m8/8\u001b[0m \u001b[32m━━━━━━━━━━━━━━━━━━━━\u001b[0m\u001b[37m\u001b[0m \u001b[1m0s\u001b[0m 18ms/step - accuracy: 0.9827 - loss: 0.0496 - val_accuracy: 0.7800 - val_loss: 1.6260\n",
            "Epoch 215/250\n",
            "\u001b[1m8/8\u001b[0m \u001b[32m━━━━━━━━━━━━━━━━━━━━\u001b[0m\u001b[37m\u001b[0m \u001b[1m0s\u001b[0m 18ms/step - accuracy: 0.9825 - loss: 0.0508 - val_accuracy: 0.7800 - val_loss: 1.6341\n",
            "Epoch 216/250\n",
            "\u001b[1m8/8\u001b[0m \u001b[32m━━━━━━━━━━━━━━━━━━━━\u001b[0m\u001b[37m\u001b[0m \u001b[1m0s\u001b[0m 18ms/step - accuracy: 0.9847 - loss: 0.0398 - val_accuracy: 0.7800 - val_loss: 1.6587\n",
            "Epoch 217/250\n",
            "\u001b[1m8/8\u001b[0m \u001b[32m━━━━━━━━━━━━━━━━━━━━\u001b[0m\u001b[37m\u001b[0m \u001b[1m0s\u001b[0m 20ms/step - accuracy: 0.9773 - loss: 0.0536 - val_accuracy: 0.7720 - val_loss: 1.6699\n",
            "Epoch 218/250\n",
            "\u001b[1m8/8\u001b[0m \u001b[32m━━━━━━━━━━━━━━━━━━━━\u001b[0m\u001b[37m\u001b[0m \u001b[1m0s\u001b[0m 26ms/step - accuracy: 0.9762 - loss: 0.0480 - val_accuracy: 0.7760 - val_loss: 1.6488\n",
            "Epoch 219/250\n",
            "\u001b[1m8/8\u001b[0m \u001b[32m━━━━━━━━━━━━━━━━━━━━\u001b[0m\u001b[37m\u001b[0m \u001b[1m0s\u001b[0m 24ms/step - accuracy: 0.9884 - loss: 0.0286 - val_accuracy: 0.7720 - val_loss: 1.6297\n",
            "Epoch 220/250\n",
            "\u001b[1m8/8\u001b[0m \u001b[32m━━━━━━━━━━━━━━━━━━━━\u001b[0m\u001b[37m\u001b[0m \u001b[1m0s\u001b[0m 23ms/step - accuracy: 0.9836 - loss: 0.0473 - val_accuracy: 0.7760 - val_loss: 1.6161\n",
            "Epoch 221/250\n",
            "\u001b[1m8/8\u001b[0m \u001b[32m━━━━━━━━━━━━━━━━━━━━\u001b[0m\u001b[37m\u001b[0m \u001b[1m0s\u001b[0m 22ms/step - accuracy: 0.9865 - loss: 0.0467 - val_accuracy: 0.7720 - val_loss: 1.6185\n",
            "Epoch 222/250\n",
            "\u001b[1m8/8\u001b[0m \u001b[32m━━━━━━━━━━━━━━━━━━━━\u001b[0m\u001b[37m\u001b[0m \u001b[1m0s\u001b[0m 20ms/step - accuracy: 0.9786 - loss: 0.0539 - val_accuracy: 0.7720 - val_loss: 1.6033\n",
            "Epoch 223/250\n",
            "\u001b[1m8/8\u001b[0m \u001b[32m━━━━━━━━━━━━━━━━━━━━\u001b[0m\u001b[37m\u001b[0m \u001b[1m0s\u001b[0m 22ms/step - accuracy: 0.9759 - loss: 0.0608 - val_accuracy: 0.7740 - val_loss: 1.6022\n",
            "Epoch 224/250\n",
            "\u001b[1m8/8\u001b[0m \u001b[32m━━━━━━━━━━━━━━━━━━━━\u001b[0m\u001b[37m\u001b[0m \u001b[1m0s\u001b[0m 22ms/step - accuracy: 0.9815 - loss: 0.0543 - val_accuracy: 0.7700 - val_loss: 1.6068\n",
            "Epoch 225/250\n",
            "\u001b[1m8/8\u001b[0m \u001b[32m━━━━━━━━━━━━━━━━━━━━\u001b[0m\u001b[37m\u001b[0m \u001b[1m0s\u001b[0m 20ms/step - accuracy: 0.9820 - loss: 0.0499 - val_accuracy: 0.7760 - val_loss: 1.6132\n",
            "Epoch 226/250\n",
            "\u001b[1m8/8\u001b[0m \u001b[32m━━━━━━━━━━━━━━━━━━━━\u001b[0m\u001b[37m\u001b[0m \u001b[1m0s\u001b[0m 23ms/step - accuracy: 0.9862 - loss: 0.0382 - val_accuracy: 0.7800 - val_loss: 1.6384\n",
            "Epoch 227/250\n",
            "\u001b[1m8/8\u001b[0m \u001b[32m━━━━━━━━━━━━━━━━━━━━\u001b[0m\u001b[37m\u001b[0m \u001b[1m0s\u001b[0m 18ms/step - accuracy: 0.9848 - loss: 0.0451 - val_accuracy: 0.7820 - val_loss: 1.6428\n",
            "Epoch 228/250\n",
            "\u001b[1m8/8\u001b[0m \u001b[32m━━━━━━━━━━━━━━━━━━━━\u001b[0m\u001b[37m\u001b[0m \u001b[1m0s\u001b[0m 22ms/step - accuracy: 0.9716 - loss: 0.0577 - val_accuracy: 0.7800 - val_loss: 1.6003\n",
            "Epoch 229/250\n",
            "\u001b[1m8/8\u001b[0m \u001b[32m━━━━━━━━━━━━━━━━━━━━\u001b[0m\u001b[37m\u001b[0m \u001b[1m0s\u001b[0m 22ms/step - accuracy: 0.9810 - loss: 0.0541 - val_accuracy: 0.7860 - val_loss: 1.5909\n",
            "Epoch 230/250\n",
            "\u001b[1m8/8\u001b[0m \u001b[32m━━━━━━━━━━━━━━━━━━━━\u001b[0m\u001b[37m\u001b[0m \u001b[1m0s\u001b[0m 24ms/step - accuracy: 0.9812 - loss: 0.0583 - val_accuracy: 0.7720 - val_loss: 1.6133\n",
            "Epoch 231/250\n",
            "\u001b[1m8/8\u001b[0m \u001b[32m━━━━━━━━━━━━━━━━━━━━\u001b[0m\u001b[37m\u001b[0m \u001b[1m0s\u001b[0m 19ms/step - accuracy: 0.9836 - loss: 0.0402 - val_accuracy: 0.7720 - val_loss: 1.6313\n",
            "Epoch 232/250\n",
            "\u001b[1m8/8\u001b[0m \u001b[32m━━━━━━━━━━━━━━━━━━━━\u001b[0m\u001b[37m\u001b[0m \u001b[1m0s\u001b[0m 21ms/step - accuracy: 0.9802 - loss: 0.0459 - val_accuracy: 0.7740 - val_loss: 1.6223\n",
            "Epoch 233/250\n",
            "\u001b[1m8/8\u001b[0m \u001b[32m━━━━━━━━━━━━━━━━━━━━\u001b[0m\u001b[37m\u001b[0m \u001b[1m0s\u001b[0m 25ms/step - accuracy: 0.9831 - loss: 0.0491 - val_accuracy: 0.7820 - val_loss: 1.6071\n",
            "Epoch 234/250\n",
            "\u001b[1m8/8\u001b[0m \u001b[32m━━━━━━━━━━━━━━━━━━━━\u001b[0m\u001b[37m\u001b[0m \u001b[1m0s\u001b[0m 25ms/step - accuracy: 0.9742 - loss: 0.0673 - val_accuracy: 0.7760 - val_loss: 1.5863\n",
            "Epoch 235/250\n",
            "\u001b[1m8/8\u001b[0m \u001b[32m━━━━━━━━━━━━━━━━━━━━\u001b[0m\u001b[37m\u001b[0m \u001b[1m0s\u001b[0m 22ms/step - accuracy: 0.9886 - loss: 0.0398 - val_accuracy: 0.7740 - val_loss: 1.5950\n",
            "Epoch 236/250\n",
            "\u001b[1m8/8\u001b[0m \u001b[32m━━━━━━━━━━━━━━━━━━━━\u001b[0m\u001b[37m\u001b[0m \u001b[1m0s\u001b[0m 25ms/step - accuracy: 0.9804 - loss: 0.0568 - val_accuracy: 0.7720 - val_loss: 1.5931\n",
            "Epoch 237/250\n",
            "\u001b[1m8/8\u001b[0m \u001b[32m━━━━━━━━━━━━━━━━━━━━\u001b[0m\u001b[37m\u001b[0m \u001b[1m0s\u001b[0m 21ms/step - accuracy: 0.9826 - loss: 0.0489 - val_accuracy: 0.7740 - val_loss: 1.6129\n",
            "Epoch 238/250\n",
            "\u001b[1m8/8\u001b[0m \u001b[32m━━━━━━━━━━━━━━━━━━━━\u001b[0m\u001b[37m\u001b[0m \u001b[1m0s\u001b[0m 21ms/step - accuracy: 0.9809 - loss: 0.0454 - val_accuracy: 0.7700 - val_loss: 1.6288\n",
            "Epoch 239/250\n",
            "\u001b[1m8/8\u001b[0m \u001b[32m━━━━━━━━━━━━━━━━━━━━\u001b[0m\u001b[37m\u001b[0m \u001b[1m0s\u001b[0m 20ms/step - accuracy: 0.9810 - loss: 0.0521 - val_accuracy: 0.7760 - val_loss: 1.6364\n",
            "Epoch 240/250\n",
            "\u001b[1m8/8\u001b[0m \u001b[32m━━━━━━━━━━━━━━━━━━━━\u001b[0m\u001b[37m\u001b[0m \u001b[1m0s\u001b[0m 23ms/step - accuracy: 0.9814 - loss: 0.0539 - val_accuracy: 0.7760 - val_loss: 1.6429\n",
            "Epoch 241/250\n",
            "\u001b[1m8/8\u001b[0m \u001b[32m━━━━━━━━━━━━━━━━━━━━\u001b[0m\u001b[37m\u001b[0m \u001b[1m0s\u001b[0m 22ms/step - accuracy: 0.9733 - loss: 0.0607 - val_accuracy: 0.7760 - val_loss: 1.6476\n",
            "Epoch 242/250\n",
            "\u001b[1m8/8\u001b[0m \u001b[32m━━━━━━━━━━━━━━━━━━━━\u001b[0m\u001b[37m\u001b[0m \u001b[1m0s\u001b[0m 24ms/step - accuracy: 0.9803 - loss: 0.0523 - val_accuracy: 0.7700 - val_loss: 1.6416\n",
            "Epoch 243/250\n",
            "\u001b[1m8/8\u001b[0m \u001b[32m━━━━━━━━━━━━━━━━━━━━\u001b[0m\u001b[37m\u001b[0m \u001b[1m0s\u001b[0m 22ms/step - accuracy: 0.9849 - loss: 0.0466 - val_accuracy: 0.7680 - val_loss: 1.6445\n",
            "Epoch 244/250\n",
            "\u001b[1m8/8\u001b[0m \u001b[32m━━━━━━━━━━━━━━━━━━━━\u001b[0m\u001b[37m\u001b[0m \u001b[1m0s\u001b[0m 20ms/step - accuracy: 0.9808 - loss: 0.0654 - val_accuracy: 0.7740 - val_loss: 1.6487\n",
            "Epoch 245/250\n",
            "\u001b[1m8/8\u001b[0m \u001b[32m━━━━━━━━━━━━━━━━━━━━\u001b[0m\u001b[37m\u001b[0m \u001b[1m0s\u001b[0m 22ms/step - accuracy: 0.9772 - loss: 0.0538 - val_accuracy: 0.7680 - val_loss: 1.6467\n",
            "Epoch 246/250\n",
            "\u001b[1m8/8\u001b[0m \u001b[32m━━━━━━━━━━━━━━━━━━━━\u001b[0m\u001b[37m\u001b[0m \u001b[1m0s\u001b[0m 23ms/step - accuracy: 0.9862 - loss: 0.0327 - val_accuracy: 0.7620 - val_loss: 1.6477\n",
            "Epoch 247/250\n",
            "\u001b[1m8/8\u001b[0m \u001b[32m━━━━━━━━━━━━━━━━━━━━\u001b[0m\u001b[37m\u001b[0m \u001b[1m0s\u001b[0m 20ms/step - accuracy: 0.9836 - loss: 0.0473 - val_accuracy: 0.7540 - val_loss: 1.6778\n",
            "Epoch 248/250\n",
            "\u001b[1m8/8\u001b[0m \u001b[32m━━━━━━━━━━━━━━━━━━━━\u001b[0m\u001b[37m\u001b[0m \u001b[1m0s\u001b[0m 20ms/step - accuracy: 0.9816 - loss: 0.0478 - val_accuracy: 0.7600 - val_loss: 1.6876\n",
            "Epoch 249/250\n",
            "\u001b[1m8/8\u001b[0m \u001b[32m━━━━━━━━━━━━━━━━━━━━\u001b[0m\u001b[37m\u001b[0m \u001b[1m0s\u001b[0m 18ms/step - accuracy: 0.9830 - loss: 0.0481 - val_accuracy: 0.7740 - val_loss: 1.6836\n",
            "Epoch 250/250\n",
            "\u001b[1m8/8\u001b[0m \u001b[32m━━━━━━━━━━━━━━━━━━━━\u001b[0m\u001b[37m\u001b[0m \u001b[1m0s\u001b[0m 20ms/step - accuracy: 0.9748 - loss: 0.0635 - val_accuracy: 0.7700 - val_loss: 1.6782\n"
          ]
        }
      ],
      "source": [
        "history = model.fit(\n",
        "    X_train, y_train,\n",
        "    epochs=250,\n",
        "    batch_size=256,\n",
        "    validation_data=(X_val, y_val),\n",
        "    verbose=1\n",
        ")"
      ]
    },
    {
      "cell_type": "code",
      "execution_count": null,
      "id": "1f56caa8-fc69-47dd-92eb-dafe6faace53",
      "metadata": {
        "id": "1f56caa8-fc69-47dd-92eb-dafe6faace53",
        "outputId": "364eda97-b190-44b4-9090-64dbc948c333"
      },
      "outputs": [
        {
          "name": "stdout",
          "output_type": "stream",
          "text": [
            "\u001b[1m20/20\u001b[0m \u001b[32m━━━━━━━━━━━━━━━━━━━━\u001b[0m\u001b[37m\u001b[0m \u001b[1m0s\u001b[0m 8ms/step\n"
          ]
        },
        {
          "data": {
            "image/png": "[encoded data removed]",
            "text/plain": [
              "<Figure size 640x480 with 2 Axes>"
            ]
          },
          "metadata": {},
          "output_type": "display_data"
        }
      ],
      "source": [
        "from sklearn.metrics import confusion_matrix, ConfusionMatrixDisplay\n",
        "\n",
        "# DL predictions (one-hot to labels)\n",
        "dl_preds = np.argmax(model.predict(X_test), axis=1)\n",
        "y_true = np.argmax(y_test, axis=1)\n",
        "\n",
        "cm = confusion_matrix(y_true, dl_preds)\n",
        "\n",
        "disp = ConfusionMatrixDisplay(confusion_matrix=cm)\n",
        "disp.plot(cmap='Blues')\n",
        "plt.title(\"Confusion Matrix — DL Model\")\n",
        "plt.show()"
      ]
    },
    {
      "cell_type": "markdown",
      "id": "6b783a94-8d53-490d-a8ba-67b014a4a4d3",
      "metadata": {
        "id": "6b783a94-8d53-490d-a8ba-67b014a4a4d3"
      },
      "source": [
        " ## **Insight**\n",
        "- The MLP correctly predicts most classes with few misclassifications.\n",
        "- Strong diagonal dominance explains its superior accuracy and reliability."
      ]
    },
    {
      "cell_type": "code",
      "execution_count": null,
      "id": "976560e2-318d-4946-86ad-edabeca7f947",
      "metadata": {
        "id": "976560e2-318d-4946-86ad-edabeca7f947",
        "outputId": "cca64bf9-ee9d-4ced-ed8e-2784d55776a0"
      },
      "outputs": [
        {
          "name": "stdout",
          "output_type": "stream",
          "text": [
            "Accuracy: 97.85%\n"
          ]
        }
      ],
      "source": [
        "acc = history.history['accuracy'][-1]\n",
        "print(f\"Accuracy: {acc * 100:.2f}%\")"
      ]
    },
    {
      "cell_type": "code",
      "execution_count": null,
      "id": "31bf5db0-5108-41e7-9d72-8da2656bdf75",
      "metadata": {
        "id": "31bf5db0-5108-41e7-9d72-8da2656bdf75",
        "outputId": "638e1dbe-dd87-4ef1-d914-d4fa6c4919cd"
      },
      "outputs": [
        {
          "data": {
            "text/plain": [
              "['dropout_scaler_34.pkl']"
            ]
          },
          "execution_count": 365,
          "metadata": {},
          "output_type": "execute_result"
        }
      ],
      "source": [
        "scaler = StandardScaler()\n",
        "scaler.fit(X)\n",
        "\n",
        "joblib.dump(scaler, \"dropout_scaler_34.pkl\")"
      ]
    },
    {
      "cell_type": "code",
      "execution_count": null,
      "id": "2674e284-871e-40cf-bcd9-31ea7972f533",
      "metadata": {
        "id": "2674e284-871e-40cf-bcd9-31ea7972f533",
        "outputId": "e388254c-a4c3-4def-d303-1279da7073b3"
      },
      "outputs": [
        {
          "name": "stderr",
          "output_type": "stream",
          "text": [
            "WARNING:absl:You are saving your model as an HDF5 file via `model.save()` or `keras.saving.save_model(model)`. This file format is considered legacy. We recommend using instead the native Keras format, e.g. `model.save('my_model.keras')` or `keras.saving.save_model(model, 'my_model.keras')`. \n"
          ]
        },
        {
          "name": "stdout",
          "output_type": "stream",
          "text": [
            "Model Saved Successfully..................\n"
          ]
        }
      ],
      "source": [
        "model.save('my_dropout_model.h5')\n",
        "print(\"Model Saved Successfully..................\")"
      ]
    },
    {
      "cell_type": "code",
      "execution_count": null,
      "id": "086cdbe9-0266-458b-bcb5-a3c2ec3f3621",
      "metadata": {
        "id": "086cdbe9-0266-458b-bcb5-a3c2ec3f3621",
        "outputId": "dc2ea3bf-cf34-4fe6-975e-d37d1d3592ef"
      },
      "outputs": [
        {
          "data": {
            "text/plain": [
              "['Marital_status',\n",
              " 'Application_mode',\n",
              " 'Application_order',\n",
              " 'Course',\n",
              " 'Daytime/evening_attendance',\n",
              " 'Previous_qualification',\n",
              " 'Nacionality',\n",
              " \"Mother's_qualification\",\n",
              " \"Father's_qualification\",\n",
              " \"Mother's_occupation\",\n",
              " \"Father's_occupation\",\n",
              " 'Displaced',\n",
              " 'Educational_special_needs',\n",
              " 'Debtor',\n",
              " 'Tuition_fees_up_to_date',\n",
              " 'Gender',\n",
              " 'Scholarship_holder',\n",
              " 'Age_at_enrollment',\n",
              " 'International',\n",
              " 'Curricular_units_1st_sem_(credited)',\n",
              " 'Curricular_units_1st_sem_(enrolled)',\n",
              " 'Curricular_units_1st_sem_(evaluations)',\n",
              " 'Curricular_units_1st_sem_(approved)',\n",
              " 'Curricular_units_1st_sem_(grade)',\n",
              " 'Curricular_units_1st_sem_(without_evaluations)',\n",
              " 'Curricular_units_2nd_sem_(credited)',\n",
              " 'Curricular_units_2nd_sem_(enrolled)',\n",
              " 'Curricular_units_2nd_sem_(evaluations)',\n",
              " 'Curricular_units_2nd_sem_(approved)',\n",
              " 'Curricular_units_2nd_sem_(grade)',\n",
              " 'Curricular_units_2nd_sem_(without_evaluations)',\n",
              " 'Unemployment_rate',\n",
              " 'Inflation_rate',\n",
              " 'GDP',\n",
              " 'Target']"
            ]
          },
          "execution_count": 397,
          "metadata": {},
          "output_type": "execute_result"
        }
      ],
      "source": [
        "df.columns.tolist()"
      ]
    },
    {
      "cell_type": "code",
      "execution_count": null,
      "id": "bf139f0f-462c-4ce0-953c-c70126f05238",
      "metadata": {
        "id": "bf139f0f-462c-4ce0-953c-c70126f05238",
        "outputId": "843026f5-26f4-4b50-e2e8-5096b0c0c3af"
      },
      "outputs": [
        {
          "data": {
            "image/png": "[encoded data removed]",
            "text/plain": [
              "<Figure size 600x400 with 1 Axes>"
            ]
          },
          "metadata": {},
          "output_type": "display_data"
        }
      ],
      "source": [
        "\n",
        "plt.figure(figsize=(6,4))\n",
        "sns.countplot(data=df, x='Target', palette='Set2')\n",
        "plt.title(\"Dropout Status Distribution\")\n",
        "plt.xlabel(\"Status\")\n",
        "plt.ylabel(\"Count\")\n",
        "plt.show()\n"
      ]
    },
    {
      "cell_type": "markdown",
      "id": "74993e4f-03bc-46b6-ab5e-c912cc2e46bd",
      "metadata": {
        "id": "74993e4f-03bc-46b6-ab5e-c912cc2e46bd"
      },
      "source": [
        "## **Insight**\n",
        "- Most students graduate, while a smaller but notable portion drops out.\n",
        "- The imbalance highlights the need for targeted dropout prevention strategies."
      ]
    },
    {
      "cell_type": "code",
      "execution_count": null,
      "id": "bc3edc44-aaa5-47b0-a94b-8715569fbd2f",
      "metadata": {
        "id": "bc3edc44-aaa5-47b0-a94b-8715569fbd2f",
        "outputId": "1abd99ac-c572-4a9f-b56d-f3471a904df5"
      },
      "outputs": [
        {
          "data": {
            "image/png": "[encoded data removed]",
            "text/plain": [
              "<Figure size 800x500 with 1 Axes>"
            ]
          },
          "metadata": {},
          "output_type": "display_data"
        }
      ],
      "source": [
        "plt.figure(figsize=(8,5))\n",
        "sns.barplot(data=df, x='Target', y='Daytime/evening_attendance', palette='Pastel1')\n",
        "plt.title(\"Attendance vs Dropout Status\")\n",
        "plt.xlabel(\"Status\")\n",
        "plt.ylabel(\"Attendance Mode (Daytime/Evening)\")\n",
        "plt.show()\n"
      ]
    },
    {
      "cell_type": "markdown",
      "id": "02895a9f-984f-4069-a57d-5ae03e2a8526",
      "metadata": {
        "id": "02895a9f-984f-4069-a57d-5ae03e2a8526"
      },
      "source": [
        "## **Insight**\n",
        "- Students in certain attendance modes (like evening) show higher dropout trends.\n",
        "- Better attendance consistency links to higher retention and graduation rates."
      ]
    },
    {
      "cell_type": "code",
      "execution_count": null,
      "id": "d5ea82d9-ebbf-42a7-b5b1-2a743e546762",
      "metadata": {
        "id": "d5ea82d9-ebbf-42a7-b5b1-2a743e546762",
        "outputId": "dd3fb857-23b7-4ff7-900d-67cc672f89b7"
      },
      "outputs": [
        {
          "data": {
            "image/png": "[encoded data removed]",
            "text/plain": [
              "<Figure size 558.875x500 with 6 Axes>"
            ]
          },
          "metadata": {},
          "output_type": "display_data"
        }
      ],
      "source": [
        "key_features = ['Daytime/evening_attendance', 'Curricular_units_2nd_sem_(grade)', 'Target']\n",
        "sns.pairplot(df[key_features], hue='Target', palette='husl')\n",
        "plt.suptitle(\"Key Features Pairplot\", y=1.02)\n",
        "plt.show()\n"
      ]
    },
    {
      "cell_type": "markdown",
      "id": "3346e40b-7cc4-4be4-830c-fe08341e5ede",
      "metadata": {
        "id": "3346e40b-7cc4-4be4-830c-fe08341e5ede"
      },
      "source": [
        "## **Insight:**\n",
        "- The pairplot visualizes pairwise relationships between Daytime/evening attendance, Curricular units 2nd sem (grade), and the Target.\n",
        "\n",
        "- For example, students with lower grades or in certain attendance modes cluster more in the dropout class."
      ]
    },
    {
      "cell_type": "code",
      "execution_count": null,
      "id": "8563019c-6ee9-4132-83b7-692fe5ff7219",
      "metadata": {
        "id": "8563019c-6ee9-4132-83b7-692fe5ff7219",
        "outputId": "6337af5e-ef3b-4efa-d738-cdb6cf357b5a"
      },
      "outputs": [
        {
          "data": {
            "text/plain": [
              "(0.0, 100.0)"
            ]
          },
          "execution_count": 406,
          "metadata": {},
          "output_type": "execute_result"
        },
        {
          "data": {
            "image/png": "[encoded data removed]",
            "text/plain": [
              "<Figure size 800x500 with 1 Axes>"
            ]
          },
          "metadata": {},
          "output_type": "display_data"
        }
      ],
      "source": [
        "import matplotlib.pyplot as plt\n",
        "\n",
        "model_names = ['Random Forest', 'XGBoost', 'MLP']\n",
        "accuracies = [80.4, 80.8, 98.6]\n",
        "plt.figure(figsize=(8,5))\n",
        "plt.title(\"Model Accuracy Comparision\")\n",
        "bars = plt.bar(model_names, accuracies, color=['skyblue', 'lightgreen', 'salmon'])\n",
        "plt.ylim(0, 100)"
      ]
    },
    {
      "cell_type": "markdown",
      "id": "df21cb9a-d128-4713-b6da-3227ee48846f",
      "metadata": {
        "id": "df21cb9a-d128-4713-b6da-3227ee48846f"
      },
      "source": [
        "## **Insight:**\n",
        "- This bar chart shows the test accuracy of the three models used for student dropout prediction — Random Forest, XGBoost, and MLP.\n",
        "\n",
        "- The MLP model (Deep Learning) achieves the highest accuracy, close to 98.4%.\n",
        "\n",
        "- Random Forest and XGBoost perform well but slightly lower, 80.4% - Random Forest, 80.8% - XGBoost.\n",
        "\n",
        "- This highlights that while traditional machine learning models are reliable, the MLP captures complex non-linear patterns better for dropout prediction."
      ]
    },
    {
      "cell_type": "markdown",
      "id": "5aa97cab-8940-4f54-8dbf-90072fd1b41c",
      "metadata": {
        "id": "5aa97cab-8940-4f54-8dbf-90072fd1b41c"
      },
      "source": [
        "## **8. Gradio Interface**"
      ]
    },
    {
      "cell_type": "code",
      "execution_count": null,
      "id": "163bf77a-6f4b-418d-8a65-9603407c110c",
      "metadata": {
        "id": "163bf77a-6f4b-418d-8a65-9603407c110c"
      },
      "outputs": [],
      "source": [
        "import pandas as pd\n",
        "import numpy as np\n",
        "\n",
        "from sklearn.model_selection import train_test_split\n",
        "from sklearn.preprocessing import LabelEncoder, StandardScaler\n",
        "from sklearn.ensemble import RandomForestClassifier, VotingClassifier\n",
        "from sklearn.metrics import accuracy_score, classification_report, confusion_matrix\n",
        "import xgboost as xgb\n",
        "import lightgbm as lgb\n",
        "\n",
        "import joblib"
      ]
    },
    {
      "cell_type": "code",
      "execution_count": null,
      "id": "42d98709-f196-4ea5-8852-86f673f76d13",
      "metadata": {
        "id": "42d98709-f196-4ea5-8852-86f673f76d13",
        "outputId": "647ca2a6-941a-427b-dae4-ba8776ecbb5e"
      },
      "outputs": [
        {
          "name": "stdout",
          "output_type": "stream",
          "text": [
            "* Running on local URL:  http://127.0.0.1:7884\n",
            "* To create a public link, set `share=True` in `launch()`.\n"
          ]
        },
        {
          "data": {
            "text/html": [
              "<div><iframe src=\"http://127.0.0.1:7884/\" width=\"100%\" height=\"500\" allow=\"autoplay; camera; microphone; clipboard-read; clipboard-write;\" frameborder=\"0\" allowfullscreen></iframe></div>"
            ],
            "text/plain": [
              "<IPython.core.display.HTML object>"
            ]
          },
          "metadata": {},
          "output_type": "display_data"
        }
      ],
      "source": [
        "import gradio as gr\n",
        "\n",
        "def predict_dropout(\n",
        "    attendance, gender, study_hours, gpa, extracurricular, family_income,\n",
        "    motivation, exam_score, tuition_fees, debtor, sem1_enrolled, sem1_approved,\n",
        "    sem1_evaluations, sem1_grade, sem1_diff, sem1_credits_lost, sem1_major_fails,\n",
        "    sem2_enrolled, sem2_approved, sem2_evaluations, sem2_grade, sem2_diff,\n",
        "    sem2_credits_lost, sem2_major_fails, absences, failed_subjects, withdrawn_subjects,\n",
        "    repeated_subjects, suspension_warnings, scholarship, parental_edu, part_time_job,\n",
        "    age, commute_time\n",
        "):\n",
        "\n",
        "    attendance_factor = (100 - attendance) * 0.4\n",
        "    motivation_factor = (10 - motivation) * 5.0\n",
        "    exam_factor = (100 - exam_score) * 0.2\n",
        "\n",
        "    dropout_pct = attendance_factor + motivation_factor + exam_factor\n",
        "    dropout_pct = max(0, min(100, dropout_pct))\n",
        "\n",
        "\n",
        "    return f\"## 🎓 **Estimated Dropout Chance:** {dropout_pct:.2f}%\"\n",
        "\n",
        "\n",
        "academic_inputs = [\n",
        "    gr.Slider(0, 100, value=80, label=\"📚 Attendance Percentage (%)\"),\n",
        "    gr.Radio([\"Male\", \"Female\"], value=\"Male\", label=\"👤 Gender\"),\n",
        "    gr.Slider(0, 10, value=4, label=\"📖 Study Hours per Day\"),\n",
        "    gr.Slider(0.0, 4.0, step=0.1, value=3.2, label=\"🎓 Previous GPA (0–4)\"),\n",
        "    gr.Radio([\"Yes\", \"No\"], value=\"Yes\", label=\"🏅 Extra-Curricular Participation\"),\n",
        "    gr.Radio([\"Low\", \"Medium\", \"High\"], value=\"Medium\", label=\"💰 Family Income Level\"),\n",
        "    gr.Slider(0, 10, value=7, label=\"🔥 Motivation Level (0–10)\"),\n",
        "    gr.Slider(0, 100, value=75, label=\"📝 Latest Exam Score\"),\n",
        "]\n",
        "\n",
        "financial_inputs = [\n",
        "    gr.Radio([\"1\", \"0\"], value=\"1\", label=\"💵 Tuition Fees Up to Date? (1=Yes, 0=No)\"),\n",
        "    gr.Radio([\"1\", \"0\"], value=\"0\", label=\"💳 Debtor Status (1=Has Debt, 0=No Debt)\"),\n",
        "]\n",
        "\n",
        "semester1_inputs = [\n",
        "    gr.Slider(0, 10, value=6, label=\"📚 Units Enrolled 1st Semester\"),\n",
        "    gr.Slider(0, 10, value=5, label=\"✅ Units Approved 1st Semester\"),\n",
        "    gr.Slider(0, 10, value=5, label=\"📝 Evaluations Done 1st Semester\"),\n",
        "    gr.Slider(0.0, 4.0, step=0.1, value=3.0, label=\"📊 Avg Grade 1st Semester (GPA)\"),\n",
        "    gr.Slider(-4.0, 4.0, step=0.1, value=0.0, label=\"🔻 Grade Diff 1st Sem vs Prior GPA\"),\n",
        "    gr.Slider(0, 10, value=0, label=\"❌ Credits Lost 1st Semester\"),\n",
        "    gr.Slider(0, 5, value=0, label=\"📉 Major Subject Failures 1st Semester\"),\n",
        "]\n",
        "\n",
        "semester2_inputs = [\n",
        "    gr.Slider(0, 10, value=6, label=\"📚 Units Enrolled 2nd Semester\"),\n",
        "    gr.Slider(0, 10, value=5, label=\"✅ Units Approved 2nd Semester\"),\n",
        "    gr.Slider(0, 10, value=5, label=\"📝 Evaluations Done 2nd Semester\"),\n",
        "    gr.Slider(0.0, 4.0, step=0.1, value=3.0, label=\"📊 Avg Grade 2nd Semester (GPA)\"),\n",
        "    gr.Slider(-4.0, 4.0, step=0.1, value=0.0, label=\"🔻 Grade Diff 2nd Sem vs Prior GPA\"),\n",
        "    gr.Slider(0, 10, value=0, label=\"❌ Credits Lost 2nd Semester\"),\n",
        "    gr.Slider(0, 5, value=0, label=\"📉 Major Subject Failures 2nd Semester\"),\n",
        "]\n",
        "\n",
        "additional_inputs = [\n",
        "    gr.Slider(0, 200, value=5, label=\"🚫 Number of Absences\"),\n",
        "    gr.Slider(0, 20, value=0, label=\"📉 Number of Failed Subjects\"),\n",
        "    gr.Slider(0, 10, value=0, label=\"🚫 Number of Withdrawn Subjects\"),\n",
        "    gr.Slider(0, 10, value=0, label=\"🔁 Number of Repeated Subjects\"),\n",
        "    gr.Slider(0, 5, value=0, label=\"⚠️ Suspension Warnings\"),\n",
        "    gr.Radio([\"1\", \"0\"], value=\"0\", label=\"🎓 Scholarship Holder? (1=Yes, 0=No)\"),\n",
        "    gr.Radio([\"0\", \"1\", \"2\"], value=\"1\", label=\"👨‍🎓 Parental Education Level (0=Low, 1=Med, 2=High)\"),\n",
        "    gr.Radio([\"1\", \"0\"], value=\"0\", label=\"💼 Part-Time Job? (1=Yes, 0=No)\"),\n",
        "    gr.Slider(16, 40, value=20, label=\"🎂 Age (Years)\"),\n",
        "    gr.Slider(0, 120, value=30, label=\"🚌 Commute Time to College (minutes)\"),\n",
        "]\n",
        "\n",
        "inputs = academic_inputs + financial_inputs + semester1_inputs + semester2_inputs + additional_inputs\n",
        "\n",
        "\n",
        "interface = gr.Interface(\n",
        "    fn=predict_dropout,\n",
        "    inputs=inputs,\n",
        "    outputs=gr.Markdown(),\n",
        "    title=\"🎓 **Student Dropout Predictor **\",\n",
        "    description=\"\"\"\n",
        "🔍 **About:**\n",
        "Predict the estimated **Dropout Chance** using key factors only.\n",
        "\n",
        "✨ _Clean, realistic, user-friendly UI._\n",
        "\"\"\",\n",
        "    theme=\"default\",\n",
        "    css=\"\"\"\n",
        "        body { background: linear-gradient(135deg, #f0f4f8, #e1f5fe); }\n",
        "        .gradio-container { font-family: 'Segoe UI', sans-serif; }\n",
        "        h1, h2, h3 { color: #00796b; }\n",
        "        .gr-slider input { accent-color: #26a69a; }\n",
        "        .gr-radio { color: #004d40; }\n",
        "    \"\"\",\n",
        "    allow_flagging=\"never\"\n",
        ")\n",
        "\n",
        "if __name__ == \"__main__\":\n",
        "    interface.launch()\n"
      ]
    },
    {
      "cell_type": "code",
      "execution_count": null,
      "id": "40a24431-a5a6-46f6-9e15-f091fd6fdaee",
      "metadata": {
        "id": "40a24431-a5a6-46f6-9e15-f091fd6fdaee"
      },
      "outputs": [],
      "source": []
    }
  ],
  "metadata": {
    "kernelspec": {
      "display_name": "Python 3 (ipykernel)",
      "language": "python",
      "name": "python3"
    },
    "language_info": {
      "codemirror_mode": {
        "name": "ipython",
        "version": 3
      },
      "file_extension": ".py",
      "mimetype": "text/x-python",
      "name": "python",
      "nbconvert_exporter": "python",
      "pygments_lexer": "ipython3",
      "version": "3.11.9"
    },
    "colab": {
      "provenance": []
    }
  },
  "nbformat": 4,
  "nbformat_minor": 5
}